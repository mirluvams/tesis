{
 "cells": [
  {
   "cell_type": "code",
   "execution_count": 157,
   "id": "7e0b944c-98e0-428f-8471-373da2a7fba5",
   "metadata": {},
   "outputs": [],
   "source": [
    "import sys\n",
    "import random\n",
    "import PySide6\n",
    "from PySide6 import QtCore, QtWidgets, QtGui\n",
    "from PySide6.QtWidgets import *\n",
    "from PySide6.QtCore import Qt\n",
    "from PySide6.QtGui import QPalette, QColor\n",
    "import numpy as np\n",
    "import pandas as pd\n"
   ]
  },
  {
   "cell_type": "code",
   "execution_count": 158,
   "id": "2ad46f3f-8091-4e3a-ac05-41e2af2b240a",
   "metadata": {},
   "outputs": [],
   "source": [
    "data=None\n",
    "\n",
    "try:\n",
    "    data=pd.read_feather(\"data/stage2_partial.feather\")\n",
    "except:\n",
    "    try:\n",
    "        print(\"Loading backup, main data corrupted.\")\n",
    "        data=pd.read_feather(\"data/stage2_partial.backup.feather\")\n",
    "    except:\n",
    "        print(\"Loading stage 1, main data & backup corrupted.\")\n",
    "        data=pd.read_feather(\"data/stage1.feather\")\n"
   ]
  },
  {
   "cell_type": "code",
   "execution_count": 159,
   "id": "02db2483-fc41-435a-b7e7-2fab6ee60229",
   "metadata": {},
   "outputs": [
    {
     "name": "stdout",
     "output_type": "stream",
     "text": [
      "<class 'pandas.core.frame.DataFrame'>\n",
      "RangeIndex: 20168 entries, 0 to 20167\n",
      "Data columns (total 3 columns):\n",
      " #   Column  Non-Null Count  Dtype \n",
      "---  ------  --------------  ----- \n",
      " 0   image   20168 non-null  object\n",
      " 1   labels  20168 non-null  object\n",
      " 2   time    20168 non-null  object\n",
      "dtypes: object(3)\n",
      "memory usage: 472.8+ KB\n"
     ]
    }
   ],
   "source": [
    "data.info()"
   ]
  },
  {
   "cell_type": "code",
   "execution_count": 160,
   "id": "31f6203b-3ce1-4d9b-8254-6546044683f2",
   "metadata": {},
   "outputs": [],
   "source": [
    "def save(is_backup=False):\n",
    "    data.to_feather(f\"data/stage2_partial{'.backup' if is_backup else ''}.feather\")\n",
    "save(True)"
   ]
  },
  {
   "cell_type": "code",
   "execution_count": 161,
   "id": "79369f5c-765f-45ce-8692-18ce0c565d7a",
   "metadata": {},
   "outputs": [
    {
     "data": {
      "text/plain": [
       "Index([ 2486,  2487,  2488,  2489,  2490,  2491,  2492,  2493,  2494,  2495,\n",
       "       ...\n",
       "       20158, 20159, 20160, 20161, 20162, 20163, 20164, 20165, 20166, 20167],\n",
       "      dtype='int64', length=17682)"
      ]
     },
     "execution_count": 161,
     "metadata": {},
     "output_type": "execute_result"
    }
   ],
   "source": [
    "data[data[\"labels\"]==\"\"].index"
   ]
  },
  {
   "cell_type": "code",
   "execution_count": 162,
   "id": "0352b4fd-d98b-4582-be26-7fc04d60c2a5",
   "metadata": {},
   "outputs": [],
   "source": [
    "def get_next():\n",
    "    idx=data[data[\"labels\"]==\"\"].index\n",
    "    if(idx.shape[0]==0):\n",
    "        return None, 0, None\n",
    "    return idx[0],idx.shape[0], data.loc[idx[0]]"
   ]
  },
  {
   "cell_type": "code",
   "execution_count": 163,
   "id": "750a62ee-a426-43d8-8700-b990d13c20e1",
   "metadata": {},
   "outputs": [],
   "source": [
    "next_idx,remainder,row=get_next()"
   ]
  },
  {
   "cell_type": "code",
   "execution_count": 164,
   "id": "0fed5722-5a35-4b04-830d-3ad0ad5e438b",
   "metadata": {},
   "outputs": [],
   "source": [
    "def safe_update(idx, value, time):\n",
    "    save(True)\n",
    "    data.loc[idx,\"labels\"]=value\n",
    "    data.loc[idx,\"time\"]=time\n",
    "    save(False) "
   ]
  },
  {
   "cell_type": "code",
   "execution_count": 165,
   "id": "4ee91f47-b83e-491a-a6cb-95a6f5ef2d29",
   "metadata": {},
   "outputs": [],
   "source": [
    "keys = [\"NO_VOLCAN\", \"INACTIVO\", \"FUMAROLA\", \"ERUPCION\"]\n",
    "labels = {\n",
    "    keys[0]:\"NO VOLCÁN\",\n",
    "    keys[1]:\"INACTIVO\",\n",
    "    keys[2]:\"FUMAROLA\",\n",
    "    keys[3]:\"ERUPCIÓN\",\n",
    "}\n",
    "labels_n = { key:val+\" [N]\" for key,val in labels.items()}"
   ]
  },
  {
   "cell_type": "code",
   "execution_count": 166,
   "id": "68eb7d5a-52a3-4ef5-b2f2-2334b1b20ee0",
   "metadata": {},
   "outputs": [],
   "source": [
    "window=None"
   ]
  },
  {
   "cell_type": "code",
   "execution_count": 167,
   "id": "1c18baa3-8f94-4c05-8da0-f82586c2294e",
   "metadata": {},
   "outputs": [],
   "source": [
    "class ImageDisplay(QWidget):\n",
    "\n",
    "    def loadpixmap(self, path):\n",
    "        self.pixmap=QtGui.QPixmap(path)#.scaledToHeight(self.geometry().width())\n",
    "        self.label.setPixmap(self.pixmap)\n",
    "        \n",
    "    def __init__(self, path = \"\"):\n",
    "        super().__init__()\n",
    "        label=QLabel()\n",
    "        label.setAlignment(Qt.Alignment.AlignCenter)\n",
    "        label.setScaledContents(True)\n",
    "        self.label=label\n",
    "        self.loadpixmap(path)\n",
    "        \n",
    "        self.layout=QGridLayout()\n",
    "        self.layout.addWidget(label, 0,0)\n",
    "        self.setLayout(self.layout)"
   ]
  },
  {
   "cell_type": "code",
   "execution_count": 168,
   "id": "9ac132db-bfad-40de-89f1-7d9344994157",
   "metadata": {},
   "outputs": [],
   "source": [
    "class DataLayout(QWidget):\n",
    "\n",
    "    def button_pressed(self, key, time):\n",
    "        global next_idx,remainder,row\n",
    "        safe_update(next_idx,key, time)\n",
    "        next_idx,remainder,row=get_next()\n",
    "        window.image.loadpixmap(row[\"image\"])\n",
    "        self.progress.setText(f\"Remaining: {remainder} ({100*(remainder/data.shape[0]):.02F}%)\")\n",
    "\n",
    "    def go_back(self):\n",
    "        global next_idx,remainder,row\n",
    "        prev_idx=data[data[\"labels\"]!=\"\"].index[-1]\n",
    "        safe_update(prev_idx,\"\",\"\")\n",
    "        next_idx,remainder,row=get_next()\n",
    "        window.image.loadpixmap(row[\"image\"])\n",
    "        self.progress.setText(f\"Remaining: {remainder} ({100*(remainder/data.shape[0]):.02F}%)\")\n",
    "\n",
    "    def get_callback(self,key,time):\n",
    "        return lambda: self.button_pressed(key, time)\n",
    "    \n",
    "    def __init__(self):\n",
    "        super().__init__()\n",
    "        #self.setMinimumWidth(600)\n",
    "        #self.setMaximumWidth(600)\n",
    "        self.setSizePolicy(QSizePolicy.Minimum, QSizePolicy.MinimumExpanding)\n",
    "        layout=QGridLayout()\n",
    "\n",
    "        self.progress = QLabel(f\"Remaining: {remainder} ({100*(remainder/data.shape[0]):.02F}%)\")\n",
    "        #self.progress.setMaximumHeight(50)\n",
    "        self.progress.setSizePolicy(QSizePolicy.MinimumExpanding, QSizePolicy.Maximum)\n",
    "        self.progress.setAlignment(Qt.Alignment.AlignCenter)\n",
    "        layout.addWidget(self.progress, 0, 0, 1, 2)\n",
    "\n",
    "        backtrack=QPushButton(\"ANTERIOR\")\n",
    "        backtrack.setSizePolicy(QSizePolicy.MinimumExpanding, QSizePolicy.Maximum)\n",
    "        backtrack.setMinimumHeight(75)\n",
    "        backtrack.clicked.connect(self.go_back)\n",
    "        layout.addWidget(backtrack, 1, 1, 1, 1)\n",
    "        \n",
    "        for i,key in enumerate(keys):\n",
    "            button=QPushButton(labels[key])\n",
    "            button.setSizePolicy(QSizePolicy.MinimumExpanding, QSizePolicy.Maximum)\n",
    "            button.setMinimumHeight(75)\n",
    "            #button.setMinimumHeight(50)\n",
    "            # set specific key, force it to stay fixed each loop\n",
    "            button.clicked.connect(self.get_callback(key, \"day\"))\n",
    "            if i==0:\n",
    "                layout.addWidget(button, i*2+1, 0, 1, 1)\n",
    "            else:\n",
    "                button2=QPushButton(labels_n[key])\n",
    "                button2.setMinimumHeight(75)\n",
    "                button2.setSizePolicy(QSizePolicy.MinimumExpanding, QSizePolicy.Maximum)\n",
    "                #button2.setMinimumHeight(50)\n",
    "                \n",
    "                button2.clicked.connect(self.get_callback(key, \"night\"))\n",
    "                layout.addWidget(button, i*2+1, 0, 1, 1)\n",
    "                layout.addWidget(button2,i*2+1, 1, 1, 1)\n",
    "            \n",
    "        self.setLayout(layout)"
   ]
  },
  {
   "cell_type": "code",
   "execution_count": 169,
   "id": "f83fb461-e0e9-4bbf-8850-755b957ecca8",
   "metadata": {},
   "outputs": [],
   "source": [
    "class MainWindow(QMainWindow):\n",
    "\n",
    "    def __init__(self):\n",
    "        super(MainWindow, self).__init__()\n",
    "\n",
    "        self.setWindowTitle(\"Classifier\")\n",
    "\n",
    "        layout = QHBoxLayout()\n",
    "        left = ImageDisplay(row[\"image\"])\n",
    "        right= DataLayout()\n",
    "\n",
    "        self.data=right\n",
    "        self.image=left\n",
    "\n",
    "        layout.addWidget(left)\n",
    "        layout.addWidget(right)\n",
    "\n",
    "        widget = QWidget()\n",
    "        widget.setLayout(layout)\n",
    "        self.setCentralWidget(widget)"
   ]
  },
  {
   "cell_type": "code",
   "execution_count": 212,
   "id": "8cd6ff97-a2a2-4ae0-8dcb-b276642adc47",
   "metadata": {},
   "outputs": [
    {
     "ename": "TypeError",
     "evalue": "'NoneType' object is not subscriptable",
     "output_type": "error",
     "traceback": [
      "\u001b[1;31m---------------------------------------------------------------------------\u001b[0m",
      "\u001b[1;31mTypeError\u001b[0m                                 Traceback (most recent call last)",
      "Cell \u001b[1;32mIn[168], line 19\u001b[0m, in \u001b[0;36mDataLayout.get_callback.<locals>.<lambda>\u001b[1;34m()\u001b[0m\n\u001b[0;32m     18\u001b[0m \u001b[38;5;28;01mdef\u001b[39;00m \u001b[38;5;21mget_callback\u001b[39m(\u001b[38;5;28mself\u001b[39m,key,time):\n\u001b[1;32m---> 19\u001b[0m     \u001b[38;5;28;01mreturn\u001b[39;00m \u001b[38;5;28;01mlambda\u001b[39;00m: \u001b[38;5;28;43mself\u001b[39;49m\u001b[38;5;241;43m.\u001b[39;49m\u001b[43mbutton_pressed\u001b[49m\u001b[43m(\u001b[49m\u001b[43mkey\u001b[49m\u001b[43m,\u001b[49m\u001b[43m \u001b[49m\u001b[43mtime\u001b[49m\u001b[43m)\u001b[49m\n",
      "Cell \u001b[1;32mIn[168], line 7\u001b[0m, in \u001b[0;36mDataLayout.button_pressed\u001b[1;34m(self, key, time)\u001b[0m\n\u001b[0;32m      5\u001b[0m safe_update(next_idx,key, time)\n\u001b[0;32m      6\u001b[0m next_idx,remainder,row\u001b[38;5;241m=\u001b[39mget_next()\n\u001b[1;32m----> 7\u001b[0m window\u001b[38;5;241m.\u001b[39mimage\u001b[38;5;241m.\u001b[39mloadpixmap(\u001b[43mrow\u001b[49m\u001b[43m[\u001b[49m\u001b[38;5;124;43m\"\u001b[39;49m\u001b[38;5;124;43mimage\u001b[39;49m\u001b[38;5;124;43m\"\u001b[39;49m\u001b[43m]\u001b[49m)\n\u001b[0;32m      8\u001b[0m \u001b[38;5;28mself\u001b[39m\u001b[38;5;241m.\u001b[39mprogress\u001b[38;5;241m.\u001b[39msetText(\u001b[38;5;124mf\u001b[39m\u001b[38;5;124m\"\u001b[39m\u001b[38;5;124mRemaining: \u001b[39m\u001b[38;5;132;01m{\u001b[39;00mremainder\u001b[38;5;132;01m}\u001b[39;00m\u001b[38;5;124m (\u001b[39m\u001b[38;5;132;01m{\u001b[39;00m\u001b[38;5;241m100\u001b[39m\u001b[38;5;241m*\u001b[39m(remainder\u001b[38;5;241m/\u001b[39mdata\u001b[38;5;241m.\u001b[39mshape[\u001b[38;5;241m0\u001b[39m])\u001b[38;5;132;01m:\u001b[39;00m\u001b[38;5;124m.02F\u001b[39m\u001b[38;5;132;01m}\u001b[39;00m\u001b[38;5;124m%)\u001b[39m\u001b[38;5;124m\"\u001b[39m)\n",
      "\u001b[1;31mTypeError\u001b[0m: 'NoneType' object is not subscriptable"
     ]
    },
    {
     "ename": "KeyError",
     "evalue": "None",
     "output_type": "error",
     "traceback": [
      "\u001b[1;31m---------------------------------------------------------------------------\u001b[0m",
      "\u001b[1;31mKeyError\u001b[0m                                  Traceback (most recent call last)",
      "File \u001b[1;32m~\\AppData\\Local\\Programs\\Python\\Python311\\Lib\\site-packages\\pandas\\core\\indexes\\base.py:3805\u001b[0m, in \u001b[0;36mIndex.get_loc\u001b[1;34m(self, key)\u001b[0m\n\u001b[0;32m   3804\u001b[0m \u001b[38;5;28;01mtry\u001b[39;00m:\n\u001b[1;32m-> 3805\u001b[0m     \u001b[38;5;28;01mreturn\u001b[39;00m \u001b[38;5;28;43mself\u001b[39;49m\u001b[38;5;241;43m.\u001b[39;49m\u001b[43m_engine\u001b[49m\u001b[38;5;241;43m.\u001b[39;49m\u001b[43mget_loc\u001b[49m\u001b[43m(\u001b[49m\u001b[43mcasted_key\u001b[49m\u001b[43m)\u001b[49m\n\u001b[0;32m   3806\u001b[0m \u001b[38;5;28;01mexcept\u001b[39;00m \u001b[38;5;167;01mKeyError\u001b[39;00m \u001b[38;5;28;01mas\u001b[39;00m err:\n",
      "File \u001b[1;32mindex.pyx:167\u001b[0m, in \u001b[0;36mpandas._libs.index.IndexEngine.get_loc\u001b[1;34m()\u001b[0m\n",
      "File \u001b[1;32mindex.pyx:175\u001b[0m, in \u001b[0;36mpandas._libs.index.IndexEngine.get_loc\u001b[1;34m()\u001b[0m\n",
      "File \u001b[1;32mpandas\\\\_libs\\\\index_class_helper.pxi:19\u001b[0m, in \u001b[0;36mpandas._libs.index.Float64Engine._check_type\u001b[1;34m()\u001b[0m\n",
      "\u001b[1;31mKeyError\u001b[0m: None",
      "\nThe above exception was the direct cause of the following exception:\n",
      "\u001b[1;31mKeyError\u001b[0m                                  Traceback (most recent call last)",
      "Cell \u001b[1;32mIn[168], line 19\u001b[0m, in \u001b[0;36mDataLayout.get_callback.<locals>.<lambda>\u001b[1;34m()\u001b[0m\n\u001b[0;32m     18\u001b[0m \u001b[38;5;28;01mdef\u001b[39;00m \u001b[38;5;21mget_callback\u001b[39m(\u001b[38;5;28mself\u001b[39m,key,time):\n\u001b[1;32m---> 19\u001b[0m     \u001b[38;5;28;01mreturn\u001b[39;00m \u001b[38;5;28;01mlambda\u001b[39;00m: \u001b[38;5;28;43mself\u001b[39;49m\u001b[38;5;241;43m.\u001b[39;49m\u001b[43mbutton_pressed\u001b[49m\u001b[43m(\u001b[49m\u001b[43mkey\u001b[49m\u001b[43m,\u001b[49m\u001b[43m \u001b[49m\u001b[43mtime\u001b[49m\u001b[43m)\u001b[49m\n",
      "Cell \u001b[1;32mIn[168], line 5\u001b[0m, in \u001b[0;36mDataLayout.button_pressed\u001b[1;34m(self, key, time)\u001b[0m\n\u001b[0;32m      3\u001b[0m \u001b[38;5;28;01mdef\u001b[39;00m \u001b[38;5;21mbutton_pressed\u001b[39m(\u001b[38;5;28mself\u001b[39m, key, time):\n\u001b[0;32m      4\u001b[0m     \u001b[38;5;28;01mglobal\u001b[39;00m next_idx,remainder,row\n\u001b[1;32m----> 5\u001b[0m     \u001b[43msafe_update\u001b[49m\u001b[43m(\u001b[49m\u001b[43mnext_idx\u001b[49m\u001b[43m,\u001b[49m\u001b[43mkey\u001b[49m\u001b[43m,\u001b[49m\u001b[43m \u001b[49m\u001b[43mtime\u001b[49m\u001b[43m)\u001b[49m\n\u001b[0;32m      6\u001b[0m     next_idx,remainder,row\u001b[38;5;241m=\u001b[39mget_next()\n\u001b[0;32m      7\u001b[0m     window\u001b[38;5;241m.\u001b[39mimage\u001b[38;5;241m.\u001b[39mloadpixmap(row[\u001b[38;5;124m\"\u001b[39m\u001b[38;5;124mimage\u001b[39m\u001b[38;5;124m\"\u001b[39m])\n",
      "Cell \u001b[1;32mIn[164], line 3\u001b[0m, in \u001b[0;36msafe_update\u001b[1;34m(idx, value, time)\u001b[0m\n\u001b[0;32m      1\u001b[0m \u001b[38;5;28;01mdef\u001b[39;00m \u001b[38;5;21msafe_update\u001b[39m(idx, value, time):\n\u001b[0;32m      2\u001b[0m     save(\u001b[38;5;28;01mTrue\u001b[39;00m)\n\u001b[1;32m----> 3\u001b[0m     \u001b[43mdata\u001b[49m\u001b[38;5;241;43m.\u001b[39;49m\u001b[43mloc\u001b[49m\u001b[43m[\u001b[49m\u001b[43midx\u001b[49m\u001b[43m,\u001b[49m\u001b[38;5;124;43m\"\u001b[39;49m\u001b[38;5;124;43mlabels\u001b[39;49m\u001b[38;5;124;43m\"\u001b[39;49m\u001b[43m]\u001b[49m\u001b[38;5;241m=\u001b[39mvalue\n\u001b[0;32m      4\u001b[0m     data\u001b[38;5;241m.\u001b[39mloc[idx,\u001b[38;5;124m\"\u001b[39m\u001b[38;5;124mtime\u001b[39m\u001b[38;5;124m\"\u001b[39m]\u001b[38;5;241m=\u001b[39mtime\n\u001b[0;32m      5\u001b[0m     save(\u001b[38;5;28;01mFalse\u001b[39;00m)\n",
      "File \u001b[1;32m~\\AppData\\Local\\Programs\\Python\\Python311\\Lib\\site-packages\\pandas\\core\\indexing.py:911\u001b[0m, in \u001b[0;36m_LocationIndexer.__setitem__\u001b[1;34m(self, key, value)\u001b[0m\n\u001b[0;32m    908\u001b[0m \u001b[38;5;28mself\u001b[39m\u001b[38;5;241m.\u001b[39m_has_valid_setitem_indexer(key)\n\u001b[0;32m    910\u001b[0m iloc \u001b[38;5;241m=\u001b[39m \u001b[38;5;28mself\u001b[39m \u001b[38;5;28;01mif\u001b[39;00m \u001b[38;5;28mself\u001b[39m\u001b[38;5;241m.\u001b[39mname \u001b[38;5;241m==\u001b[39m \u001b[38;5;124m\"\u001b[39m\u001b[38;5;124miloc\u001b[39m\u001b[38;5;124m\"\u001b[39m \u001b[38;5;28;01melse\u001b[39;00m \u001b[38;5;28mself\u001b[39m\u001b[38;5;241m.\u001b[39mobj\u001b[38;5;241m.\u001b[39miloc\n\u001b[1;32m--> 911\u001b[0m \u001b[43miloc\u001b[49m\u001b[38;5;241;43m.\u001b[39;49m\u001b[43m_setitem_with_indexer\u001b[49m\u001b[43m(\u001b[49m\u001b[43mindexer\u001b[49m\u001b[43m,\u001b[49m\u001b[43m \u001b[49m\u001b[43mvalue\u001b[49m\u001b[43m,\u001b[49m\u001b[43m \u001b[49m\u001b[38;5;28;43mself\u001b[39;49m\u001b[38;5;241;43m.\u001b[39;49m\u001b[43mname\u001b[49m\u001b[43m)\u001b[49m\n",
      "File \u001b[1;32m~\\AppData\\Local\\Programs\\Python\\Python311\\Lib\\site-packages\\pandas\\core\\indexing.py:1922\u001b[0m, in \u001b[0;36m_iLocIndexer._setitem_with_indexer\u001b[1;34m(self, indexer, value, name)\u001b[0m\n\u001b[0;32m   1919\u001b[0m     \u001b[38;5;28mself\u001b[39m\u001b[38;5;241m.\u001b[39mobj\u001b[38;5;241m.\u001b[39m_maybe_update_cacher(clear\u001b[38;5;241m=\u001b[39m\u001b[38;5;28;01mTrue\u001b[39;00m)\n\u001b[0;32m   1920\u001b[0m     \u001b[38;5;28mself\u001b[39m\u001b[38;5;241m.\u001b[39mobj\u001b[38;5;241m.\u001b[39m_is_copy \u001b[38;5;241m=\u001b[39m \u001b[38;5;28;01mNone\u001b[39;00m\n\u001b[1;32m-> 1922\u001b[0m     nindexer\u001b[38;5;241m.\u001b[39mappend(\u001b[43mlabels\u001b[49m\u001b[38;5;241;43m.\u001b[39;49m\u001b[43mget_loc\u001b[49m\u001b[43m(\u001b[49m\u001b[43mkey\u001b[49m\u001b[43m)\u001b[49m)\n\u001b[0;32m   1924\u001b[0m \u001b[38;5;28;01melse\u001b[39;00m:\n\u001b[0;32m   1925\u001b[0m     nindexer\u001b[38;5;241m.\u001b[39mappend(idx)\n",
      "File \u001b[1;32m~\\AppData\\Local\\Programs\\Python\\Python311\\Lib\\site-packages\\pandas\\core\\indexes\\base.py:3812\u001b[0m, in \u001b[0;36mIndex.get_loc\u001b[1;34m(self, key)\u001b[0m\n\u001b[0;32m   3807\u001b[0m     \u001b[38;5;28;01mif\u001b[39;00m \u001b[38;5;28misinstance\u001b[39m(casted_key, \u001b[38;5;28mslice\u001b[39m) \u001b[38;5;129;01mor\u001b[39;00m (\n\u001b[0;32m   3808\u001b[0m         \u001b[38;5;28misinstance\u001b[39m(casted_key, abc\u001b[38;5;241m.\u001b[39mIterable)\n\u001b[0;32m   3809\u001b[0m         \u001b[38;5;129;01mand\u001b[39;00m \u001b[38;5;28many\u001b[39m(\u001b[38;5;28misinstance\u001b[39m(x, \u001b[38;5;28mslice\u001b[39m) \u001b[38;5;28;01mfor\u001b[39;00m x \u001b[38;5;129;01min\u001b[39;00m casted_key)\n\u001b[0;32m   3810\u001b[0m     ):\n\u001b[0;32m   3811\u001b[0m         \u001b[38;5;28;01mraise\u001b[39;00m InvalidIndexError(key)\n\u001b[1;32m-> 3812\u001b[0m     \u001b[38;5;28;01mraise\u001b[39;00m \u001b[38;5;167;01mKeyError\u001b[39;00m(key) \u001b[38;5;28;01mfrom\u001b[39;00m \u001b[38;5;21;01merr\u001b[39;00m\n\u001b[0;32m   3813\u001b[0m \u001b[38;5;28;01mexcept\u001b[39;00m \u001b[38;5;167;01mTypeError\u001b[39;00m:\n\u001b[0;32m   3814\u001b[0m     \u001b[38;5;66;03m# If we have a listlike key, _check_indexing_error will raise\u001b[39;00m\n\u001b[0;32m   3815\u001b[0m     \u001b[38;5;66;03m#  InvalidIndexError. Otherwise we fall through and re-raise\u001b[39;00m\n\u001b[0;32m   3816\u001b[0m     \u001b[38;5;66;03m#  the TypeError.\u001b[39;00m\n\u001b[0;32m   3817\u001b[0m     \u001b[38;5;28mself\u001b[39m\u001b[38;5;241m.\u001b[39m_check_indexing_error(key)\n",
      "\u001b[1;31mKeyError\u001b[0m: None"
     ]
    }
   ],
   "source": [
    "if __name__ == \"__main__\" and remainder>0:\n",
    "    if not QtWidgets.QApplication.instance():\n",
    "        app = QtWidgets.QApplication([])\n",
    "    else:\n",
    "        app = QtWidgets.QApplication.instance()\n",
    "    font=QtGui.QFont(\"Segoe UI\", 14)\n",
    "    app.setFont(font)\n",
    "    app.setStyle(QStyleFactory.create(\"windows\"))\n",
    "    window = MainWindow()\n",
    "    window.show()#Maximized()\n",
    "\n",
    "    app.exec()"
   ]
  },
  {
   "cell_type": "code",
   "execution_count": 213,
   "id": "793e1302-7bed-46eb-b799-04e3cbbaf6d4",
   "metadata": {},
   "outputs": [
    {
     "data": {
      "text/plain": [
       "labels\n",
       "FUMAROLA     8382\n",
       "ERUPCION     6809\n",
       "NO_VOLCAN    3831\n",
       "INACTIVO     1146\n",
       "Name: count, dtype: int64"
      ]
     },
     "execution_count": 213,
     "metadata": {},
     "output_type": "execute_result"
    }
   ],
   "source": [
    "data[data[\"labels\"]!=\"\"][\"labels\"].value_counts()"
   ]
  },
  {
   "cell_type": "code",
   "execution_count": 214,
   "id": "80bcc829-7ad9-405a-9979-89338e9fea88",
   "metadata": {},
   "outputs": [],
   "source": [
    "save(True)"
   ]
  },
  {
   "cell_type": "code",
   "execution_count": 215,
   "id": "88ca9e35-1f93-4001-bd5d-b7a1e5c0454d",
   "metadata": {},
   "outputs": [],
   "source": [
    "save(False)"
   ]
  },
  {
   "cell_type": "code",
   "execution_count": null,
   "id": "244dceae-10df-42b5-bd5f-12066004b26e",
   "metadata": {},
   "outputs": [],
   "source": []
  },
  {
   "cell_type": "code",
   "execution_count": null,
   "id": "4a84451e-fb37-49dc-ac18-2f73cb17cfe0",
   "metadata": {},
   "outputs": [],
   "source": []
  }
 ],
 "metadata": {
  "kernelspec": {
   "display_name": "Python 3 (ipykernel)",
   "language": "python",
   "name": "python3"
  },
  "language_info": {
   "codemirror_mode": {
    "name": "ipython",
    "version": 3
   },
   "file_extension": ".py",
   "mimetype": "text/x-python",
   "name": "python",
   "nbconvert_exporter": "python",
   "pygments_lexer": "ipython3",
   "version": "3.11.9"
  }
 },
 "nbformat": 4,
 "nbformat_minor": 5
}

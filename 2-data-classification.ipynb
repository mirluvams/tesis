{
 "cells": [
  {
   "cell_type": "code",
   "execution_count": 216,
   "id": "7e0b944c-98e0-428f-8471-373da2a7fba5",
   "metadata": {},
   "outputs": [],
   "source": [
    "import sys\n",
    "import random\n",
    "import PySide6\n",
    "from PySide6 import QtCore, QtWidgets, QtGui\n",
    "from PySide6.QtWidgets import *\n",
    "from PySide6.QtCore import Qt\n",
    "from PySide6.QtGui import QPalette, QColor\n",
    "import numpy as np\n",
    "import pandas as pd\n"
   ]
  },
  {
   "cell_type": "code",
   "execution_count": 217,
   "id": "2ad46f3f-8091-4e3a-ac05-41e2af2b240a",
   "metadata": {},
   "outputs": [],
   "source": [
    "data=None\n",
    "\n",
    "try:\n",
    "    data=pd.read_feather(\"data/stage2_partial.feather\")\n",
    "except:\n",
    "    try:\n",
    "        print(\"Loading backup, main data corrupted.\")\n",
    "        data=pd.read_feather(\"data/stage2_partial.backup.feather\")\n",
    "    except:\n",
    "        print(\"Loading stage 1, main data & backup corrupted.\")\n",
    "        data=pd.read_feather(\"data/stage1.feather\")\n"
   ]
  },
  {
   "cell_type": "code",
   "execution_count": 218,
   "id": "02db2483-fc41-435a-b7e7-2fab6ee60229",
   "metadata": {},
   "outputs": [
    {
     "name": "stdout",
     "output_type": "stream",
     "text": [
      "<class 'pandas.core.frame.DataFrame'>\n",
      "RangeIndex: 20169 entries, 0 to 20168\n",
      "Data columns (total 3 columns):\n",
      " #   Column  Non-Null Count  Dtype \n",
      "---  ------  --------------  ----- \n",
      " 0   image   20168 non-null  object\n",
      " 1   labels  20168 non-null  object\n",
      " 2   time    20168 non-null  object\n",
      "dtypes: object(3)\n",
      "memory usage: 472.8+ KB\n"
     ]
    }
   ],
   "source": [
    "data.info()"
   ]
  },
  {
   "cell_type": "code",
   "execution_count": 219,
   "id": "31f6203b-3ce1-4d9b-8254-6546044683f2",
   "metadata": {},
   "outputs": [],
   "source": [
    "def save(is_backup=False):\n",
    "    data.to_feather(f\"data/stage2_partial{'.backup' if is_backup else ''}.feather\")\n",
    "save(True)"
   ]
  },
  {
   "cell_type": "code",
   "execution_count": 220,
   "id": "79369f5c-765f-45ce-8692-18ce0c565d7a",
   "metadata": {},
   "outputs": [
    {
     "data": {
      "text/plain": [
       "Index([   47,    76,    96,   129,   210,   324,   501,   631,   732,   787,\n",
       "       ...\n",
       "       19571, 19577, 19579, 19733, 19828, 20020, 20045, 20046, 20110, 20166],\n",
       "      dtype='int64', length=491)"
      ]
     },
     "execution_count": 220,
     "metadata": {},
     "output_type": "execute_result"
    }
   ],
   "source": [
    "data[data[\"labels\"]==\"\"].index"
   ]
  },
  {
   "cell_type": "code",
   "execution_count": 221,
   "id": "0352b4fd-d98b-4582-be26-7fc04d60c2a5",
   "metadata": {},
   "outputs": [],
   "source": [
    "def get_next():\n",
    "    idx=data[data[\"labels\"]==\"\"].index\n",
    "    if(idx.shape[0]==0):\n",
    "        return None, 0, None\n",
    "    return idx[0],idx.shape[0], data.loc[idx[0]]"
   ]
  },
  {
   "cell_type": "code",
   "execution_count": 222,
   "id": "750a62ee-a426-43d8-8700-b990d13c20e1",
   "metadata": {},
   "outputs": [],
   "source": [
    "next_idx,remainder,row=get_next()"
   ]
  },
  {
   "cell_type": "code",
   "execution_count": 223,
   "id": "0fed5722-5a35-4b04-830d-3ad0ad5e438b",
   "metadata": {},
   "outputs": [],
   "source": [
    "def safe_update(idx, value, time):\n",
    "    save(True)\n",
    "    data.loc[idx,\"labels\"]=value\n",
    "    data.loc[idx,\"time\"]=time\n",
    "    save(False) "
   ]
  },
  {
   "cell_type": "code",
   "execution_count": 224,
   "id": "4ee91f47-b83e-491a-a6cb-95a6f5ef2d29",
   "metadata": {},
   "outputs": [],
   "source": [
    "keys = [\"NO_VOLCAN\", \"INACTIVO\", \"FUMAROLA\", \"ERUPCION\"]\n",
    "labels = {\n",
    "    keys[0]:\"NO VOLCÁN\",\n",
    "    keys[1]:\"INACTIVO\",\n",
    "    keys[2]:\"FUMAROLA\",\n",
    "    keys[3]:\"ERUPCIÓN\",\n",
    "}\n",
    "labels_n = { key:val+\" [N]\" for key,val in labels.items()}"
   ]
  },
  {
   "cell_type": "code",
   "execution_count": 225,
   "id": "68eb7d5a-52a3-4ef5-b2f2-2334b1b20ee0",
   "metadata": {},
   "outputs": [],
   "source": [
    "window=None"
   ]
  },
  {
   "cell_type": "code",
   "execution_count": 226,
   "id": "1c18baa3-8f94-4c05-8da0-f82586c2294e",
   "metadata": {},
   "outputs": [],
   "source": [
    "class ImageDisplay(QWidget):\n",
    "\n",
    "    def loadpixmap(self, path):\n",
    "        self.pixmap=QtGui.QPixmap(path)#.scaledToHeight(self.geometry().width())\n",
    "        self.label.setPixmap(self.pixmap)\n",
    "        \n",
    "    def __init__(self, path = \"\"):\n",
    "        super().__init__()\n",
    "        label=QLabel()\n",
    "        label.setAlignment(Qt.Alignment.AlignCenter)\n",
    "        label.setScaledContents(True)\n",
    "        self.label=label\n",
    "        self.loadpixmap(path)\n",
    "        \n",
    "        self.layout=QGridLayout()\n",
    "        self.layout.addWidget(label, 0,0)\n",
    "        self.setLayout(self.layout)"
   ]
  },
  {
   "cell_type": "code",
   "execution_count": 227,
   "id": "9ac132db-bfad-40de-89f1-7d9344994157",
   "metadata": {},
   "outputs": [],
   "source": [
    "class DataLayout(QWidget):\n",
    "\n",
    "    def button_pressed(self, key, time):\n",
    "        global next_idx,remainder,row\n",
    "        safe_update(next_idx,key, time)\n",
    "        next_idx,remainder,row=get_next()\n",
    "        window.image.loadpixmap(row[\"image\"])\n",
    "        self.progress.setText(f\"Remaining: {remainder} ({100*(remainder/data.shape[0]):.02F}%)\")\n",
    "\n",
    "    def go_back(self):\n",
    "        global next_idx,remainder,row\n",
    "        prev_idx=data[data[\"labels\"]!=\"\"].index[-1]\n",
    "        safe_update(prev_idx,\"\",\"\")\n",
    "        next_idx,remainder,row=get_next()\n",
    "        window.image.loadpixmap(row[\"image\"])\n",
    "        self.progress.setText(f\"Remaining: {remainder} ({100*(remainder/data.shape[0]):.02F}%)\")\n",
    "\n",
    "    def get_callback(self,key,time):\n",
    "        return lambda: self.button_pressed(key, time)\n",
    "    \n",
    "    def __init__(self):\n",
    "        super().__init__()\n",
    "        #self.setMinimumWidth(600)\n",
    "        #self.setMaximumWidth(600)\n",
    "        self.setSizePolicy(QSizePolicy.Minimum, QSizePolicy.MinimumExpanding)\n",
    "        layout=QGridLayout()\n",
    "\n",
    "        self.progress = QLabel(f\"Remaining: {remainder} ({100*(remainder/data.shape[0]):.02F}%)\")\n",
    "        #self.progress.setMaximumHeight(50)\n",
    "        self.progress.setSizePolicy(QSizePolicy.MinimumExpanding, QSizePolicy.Maximum)\n",
    "        self.progress.setAlignment(Qt.Alignment.AlignCenter)\n",
    "        layout.addWidget(self.progress, 0, 0, 1, 2)\n",
    "\n",
    "        backtrack=QPushButton(\"ANTERIOR\")\n",
    "        backtrack.setSizePolicy(QSizePolicy.MinimumExpanding, QSizePolicy.Maximum)\n",
    "        backtrack.setMinimumHeight(75)\n",
    "        backtrack.clicked.connect(self.go_back)\n",
    "        layout.addWidget(backtrack, 1, 1, 1, 1)\n",
    "        \n",
    "        for i,key in enumerate(keys):\n",
    "            button=QPushButton(labels[key])\n",
    "            button.setSizePolicy(QSizePolicy.MinimumExpanding, QSizePolicy.Maximum)\n",
    "            button.setMinimumHeight(75)\n",
    "            #button.setMinimumHeight(50)\n",
    "            # set specific key, force it to stay fixed each loop\n",
    "            button.clicked.connect(self.get_callback(key, \"day\"))\n",
    "            if i==0:\n",
    "                layout.addWidget(button, i*2+1, 0, 1, 1)\n",
    "            else:\n",
    "                button2=QPushButton(labels_n[key])\n",
    "                button2.setMinimumHeight(75)\n",
    "                button2.setSizePolicy(QSizePolicy.MinimumExpanding, QSizePolicy.Maximum)\n",
    "                #button2.setMinimumHeight(50)\n",
    "                \n",
    "                button2.clicked.connect(self.get_callback(key, \"night\"))\n",
    "                layout.addWidget(button, i*2+1, 0, 1, 1)\n",
    "                layout.addWidget(button2,i*2+1, 1, 1, 1)\n",
    "            \n",
    "        self.setLayout(layout)"
   ]
  },
  {
   "cell_type": "code",
   "execution_count": 228,
   "id": "f83fb461-e0e9-4bbf-8850-755b957ecca8",
   "metadata": {},
   "outputs": [],
   "source": [
    "class MainWindow(QMainWindow):\n",
    "\n",
    "    def __init__(self):\n",
    "        super(MainWindow, self).__init__()\n",
    "\n",
    "        self.setWindowTitle(\"Classifier\")\n",
    "\n",
    "        layout = QHBoxLayout()\n",
    "        left = ImageDisplay(row[\"image\"])\n",
    "        right= DataLayout()\n",
    "\n",
    "        self.data=right\n",
    "        self.image=left\n",
    "\n",
    "        layout.addWidget(left)\n",
    "        layout.addWidget(right)\n",
    "\n",
    "        widget = QWidget()\n",
    "        widget.setLayout(layout)\n",
    "        self.setCentralWidget(widget)"
   ]
  },
  {
   "cell_type": "code",
   "execution_count": null,
   "id": "8cd6ff97-a2a2-4ae0-8dcb-b276642adc47",
   "metadata": {},
   "outputs": [],
   "source": [
    "if __name__ == \"__main__\" and remainder>0:\n",
    "    if not QtWidgets.QApplication.instance():\n",
    "        app = QtWidgets.QApplication([])\n",
    "    else:\n",
    "        app = QtWidgets.QApplication.instance()\n",
    "    font=QtGui.QFont(\"Segoe UI\", 14)\n",
    "    app.setFont(font)\n",
    "    app.setStyle(QStyleFactory.create(\"windows\"))\n",
    "    window = MainWindow()\n",
    "    window.show()#Maximized()\n",
    "\n",
    "    app.exec()"
   ]
  },
  {
   "cell_type": "code",
   "execution_count": 213,
   "id": "793e1302-7bed-46eb-b799-04e3cbbaf6d4",
   "metadata": {},
   "outputs": [
    {
     "data": {
      "text/plain": [
       "labels\n",
       "FUMAROLA     8382\n",
       "ERUPCION     6809\n",
       "NO_VOLCAN    3831\n",
       "INACTIVO     1146\n",
       "Name: count, dtype: int64"
      ]
     },
     "execution_count": 213,
     "metadata": {},
     "output_type": "execute_result"
    }
   ],
   "source": [
    "data[data[\"labels\"]!=\"\"][\"labels\"].value_counts()"
   ]
  },
  {
   "cell_type": "code",
   "execution_count": 214,
   "id": "80bcc829-7ad9-405a-9979-89338e9fea88",
   "metadata": {},
   "outputs": [],
   "source": [
    "save(True)"
   ]
  },
  {
   "cell_type": "code",
   "execution_count": 215,
   "id": "88ca9e35-1f93-4001-bd5d-b7a1e5c0454d",
   "metadata": {},
   "outputs": [],
   "source": [
    "save(False)"
   ]
  },
  {
   "cell_type": "code",
   "execution_count": null,
   "id": "244dceae-10df-42b5-bd5f-12066004b26e",
   "metadata": {},
   "outputs": [],
   "source": []
  },
  {
   "cell_type": "code",
   "execution_count": null,
   "id": "4a84451e-fb37-49dc-ac18-2f73cb17cfe0",
   "metadata": {},
   "outputs": [],
   "source": []
  }
 ],
 "metadata": {
  "kernelspec": {
   "display_name": "Python 3 (ipykernel)",
   "language": "python",
   "name": "python3"
  },
  "language_info": {
   "codemirror_mode": {
    "name": "ipython",
    "version": 3
   },
   "file_extension": ".py",
   "mimetype": "text/x-python",
   "name": "python",
   "nbconvert_exporter": "python",
   "pygments_lexer": "ipython3",
   "version": "3.11.9"
  }
 },
 "nbformat": 4,
 "nbformat_minor": 5
}

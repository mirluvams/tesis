{
 "cells": [
  {
   "cell_type": "code",
   "execution_count": 11,
   "id": "8441284d-63d7-4c93-820d-966350461e54",
   "metadata": {},
   "outputs": [
    {
     "name": "stdout",
     "output_type": "stream",
     "text": [
      "True\n"
     ]
    }
   ],
   "source": [
    "import torch\n",
    "from torch import nn\n",
    "import torch.nn.functional as F\n",
    "print(torch.cuda.is_available())"
   ]
  },
  {
   "cell_type": "code",
   "execution_count": 14,
   "id": "c351f793-a752-43fc-b420-544e51e73797",
   "metadata": {},
   "outputs": [],
   "source": [
    "from transformers import PreTrainedModel, PretrainedConfig, AutoConfig\n",
    "class MultiImageRegressionConfig(PretrainedConfig):\n",
    "    def __init__(\n",
    "        self,\n",
    "        output_size=3,\n",
    "        init_checkpoint=None,\n",
    "        **kwargs,\n",
    "    ):\n",
    "        self.output_size=output_size\n",
    "        self.init_checkpoint=init_checkpoint\n",
    "        super().__init__(**kwargs)\n",
    "\n",
    "\n",
    "class ImageMultiRegressionModel(PreTrainedModel):\n",
    "    config_class=MultiImageRegressionConfig\n",
    "    def __init__(self, config, loss=nn.MSELoss()):\n",
    "        super().__init__(config)\n",
    "        \n",
    "        self.inner_model = AutoModel.from_pretrained(config.init_checkpoint)\n",
    "        self.classifier = nn.Linear(self.inner_model.config.hidden_size, config.output_size)\n",
    "        self.loss=loss\n",
    "    \n",
    "    def forward(self, pixel_values, labels=None):\n",
    "        outputs = self.inner_model(pixel_values=pixel_values)\n",
    "        cls_output = outputs.last_hidden_state[:, 0, :]  # image embedding\n",
    "        values = self.classifier(cls_output)\n",
    "        loss = None\n",
    "        if labels is not None:\n",
    "            loss = self.loss(values.view(-1), labels.view(-1))\n",
    "        return (loss, values) if loss is not None else values"
   ]
  },
  {
   "cell_type": "code",
   "execution_count": 15,
   "id": "772e4a3c-f477-49d1-a941-90870a3e28ce",
   "metadata": {},
   "outputs": [],
   "source": [
    "model = ImageMultiRegressionModel.from_pretrained(\"models/swinv2-base\")"
   ]
  },
  {
   "cell_type": "code",
   "execution_count": 17,
   "id": "672a04ee-9b03-4c36-aa39-595d3b96e9de",
   "metadata": {},
   "outputs": [
    {
     "data": {
      "application/vnd.jupyter.widget-view+json": {
       "model_id": "ea356533c6ba40599a6de470bf816776",
       "version_major": 2,
       "version_minor": 0
      },
      "text/plain": [
       "model.safetensors:   0%|          | 0.00/348M [00:00<?, ?B/s]"
      ]
     },
     "metadata": {},
     "output_type": "display_data"
    },
    {
     "data": {
      "text/plain": [
       "CommitInfo(commit_url='https://huggingface.co/mirluvams/swinv2-base-patch4-window16-256-popocatepetl/commit/cc6beaef4229a04b205080fdf465af5ad18b3f9c', commit_message='Upload model', commit_description='', oid='cc6beaef4229a04b205080fdf465af5ad18b3f9c', pr_url=None, pr_revision=None, pr_num=None)"
      ]
     },
     "execution_count": 17,
     "metadata": {},
     "output_type": "execute_result"
    }
   ],
   "source": [
    "model.push_to_hub(\"mirluvams/swinv2-base-patch4-window16-256-popocatepetl\", private=True)"
   ]
  },
  {
   "cell_type": "code",
   "execution_count": null,
   "id": "06c6ec82-4906-4d52-8564-ee19132a3f15",
   "metadata": {},
   "outputs": [],
   "source": []
  }
 ],
 "metadata": {
  "kernelspec": {
   "display_name": "Python 3 (ipykernel)",
   "language": "python",
   "name": "python3"
  },
  "language_info": {
   "codemirror_mode": {
    "name": "ipython",
    "version": 3
   },
   "file_extension": ".py",
   "mimetype": "text/x-python",
   "name": "python",
   "nbconvert_exporter": "python",
   "pygments_lexer": "ipython3",
   "version": "3.10.12"
  }
 },
 "nbformat": 4,
 "nbformat_minor": 5
}

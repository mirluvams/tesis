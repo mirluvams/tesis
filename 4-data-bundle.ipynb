{
 "cells": [
  {
   "cell_type": "code",
   "execution_count": 1,
   "id": "a567d0ae-3594-447f-b23d-42af22b85168",
   "metadata": {},
   "outputs": [],
   "source": [
    "import pandas as pd\n",
    "import numpy as np\n",
    "from datasets import Dataset, Image as dsImage, Value as scalar, ClassLabel "
   ]
  },
  {
   "cell_type": "code",
   "execution_count": 2,
   "id": "a78baad6-6d7e-4bfc-9778-197a39d49d81",
   "metadata": {},
   "outputs": [
    {
     "data": {
      "text/html": [
       "<div>\n",
       "<style scoped>\n",
       "    .dataframe tbody tr th:only-of-type {\n",
       "        vertical-align: middle;\n",
       "    }\n",
       "\n",
       "    .dataframe tbody tr th {\n",
       "        vertical-align: top;\n",
       "    }\n",
       "\n",
       "    .dataframe thead th {\n",
       "        text-align: right;\n",
       "    }\n",
       "</style>\n",
       "<table border=\"1\" class=\"dataframe\">\n",
       "  <thead>\n",
       "    <tr style=\"text-align: right;\">\n",
       "      <th></th>\n",
       "      <th>path</th>\n",
       "      <th>class</th>\n",
       "      <th>predicted</th>\n",
       "      <th>certainty</th>\n",
       "    </tr>\n",
       "  </thead>\n",
       "  <tbody>\n",
       "    <tr>\n",
       "      <th>0.0</th>\n",
       "      <td>images/2006/jun/p0622063.jpg</td>\n",
       "      <td>UNKNOWN</td>\n",
       "      <td>UNK</td>\n",
       "      <td>0.998998</td>\n",
       "    </tr>\n",
       "    <tr>\n",
       "      <th>2.0</th>\n",
       "      <td>images/2013/sep/p0926132.jpg</td>\n",
       "      <td>UNKNOWN</td>\n",
       "      <td>UNK</td>\n",
       "      <td>0.998995</td>\n",
       "    </tr>\n",
       "    <tr>\n",
       "      <th>3.0</th>\n",
       "      <td>images/2019/ene/p0120193.jpg</td>\n",
       "      <td>UNKNOWN</td>\n",
       "      <td>UNK</td>\n",
       "      <td>0.998994</td>\n",
       "    </tr>\n",
       "    <tr>\n",
       "      <th>4.0</th>\n",
       "      <td>images/2018/jul/p0723181.jpg</td>\n",
       "      <td>UNKNOWN</td>\n",
       "      <td>UNK</td>\n",
       "      <td>0.998969</td>\n",
       "    </tr>\n",
       "    <tr>\n",
       "      <th>5.0</th>\n",
       "      <td>images/2015/mar/p0329153.jpg</td>\n",
       "      <td>UNKNOWN</td>\n",
       "      <td>UNK</td>\n",
       "      <td>0.998967</td>\n",
       "    </tr>\n",
       "    <tr>\n",
       "      <th>...</th>\n",
       "      <td>...</td>\n",
       "      <td>...</td>\n",
       "      <td>...</td>\n",
       "      <td>...</td>\n",
       "    </tr>\n",
       "    <tr>\n",
       "      <th>19283.0</th>\n",
       "      <td>images/2015/may/p0530155.jpg</td>\n",
       "      <td>WITH_EXPLOSION</td>\n",
       "      <td>EXP</td>\n",
       "      <td>0.489222</td>\n",
       "    </tr>\n",
       "    <tr>\n",
       "      <th>19284.0</th>\n",
       "      <td>images/2016/oct/p1028164.jpg</td>\n",
       "      <td>WITH_EXPLOSION</td>\n",
       "      <td>EXP</td>\n",
       "      <td>0.461512</td>\n",
       "    </tr>\n",
       "    <tr>\n",
       "      <th>19285.0</th>\n",
       "      <td>images/2018/dic/p1231184.jpg</td>\n",
       "      <td>WITH_EXPLOSION</td>\n",
       "      <td>EXP</td>\n",
       "      <td>0.459877</td>\n",
       "    </tr>\n",
       "    <tr>\n",
       "      <th>19286.0</th>\n",
       "      <td>images/2018/jun/p0603184.jpg</td>\n",
       "      <td>WITH_EXPLOSION</td>\n",
       "      <td>EXP</td>\n",
       "      <td>0.421862</td>\n",
       "    </tr>\n",
       "    <tr>\n",
       "      <th>19287.0</th>\n",
       "      <td>images/2014/oct/p1030147.jpg</td>\n",
       "      <td>WITH_EXPLOSION</td>\n",
       "      <td>EXP</td>\n",
       "      <td>0.413489</td>\n",
       "    </tr>\n",
       "  </tbody>\n",
       "</table>\n",
       "<p>18901 rows × 4 columns</p>\n",
       "</div>"
      ],
      "text/plain": [
       "                                 path           class predicted  certainty\n",
       "0.0      images/2006/jun/p0622063.jpg         UNKNOWN       UNK   0.998998\n",
       "2.0      images/2013/sep/p0926132.jpg         UNKNOWN       UNK   0.998995\n",
       "3.0      images/2019/ene/p0120193.jpg         UNKNOWN       UNK   0.998994\n",
       "4.0      images/2018/jul/p0723181.jpg         UNKNOWN       UNK   0.998969\n",
       "5.0      images/2015/mar/p0329153.jpg         UNKNOWN       UNK   0.998967\n",
       "...                               ...             ...       ...        ...\n",
       "19283.0  images/2015/may/p0530155.jpg  WITH_EXPLOSION       EXP   0.489222\n",
       "19284.0  images/2016/oct/p1028164.jpg  WITH_EXPLOSION       EXP   0.461512\n",
       "19285.0  images/2018/dic/p1231184.jpg  WITH_EXPLOSION       EXP   0.459877\n",
       "19286.0  images/2018/jun/p0603184.jpg  WITH_EXPLOSION       EXP   0.421862\n",
       "19287.0  images/2014/oct/p1030147.jpg  WITH_EXPLOSION       EXP   0.413489\n",
       "\n",
       "[18901 rows x 4 columns]"
      ]
     },
     "execution_count": 2,
     "metadata": {},
     "output_type": "execute_result"
    }
   ],
   "source": [
    "df=pd.read_feather(\"./data/stage3.feather\")\n",
    "df"
   ]
  },
  {
   "cell_type": "code",
   "execution_count": 3,
   "id": "1e818bfe-4d4e-4206-831d-1714541d04fc",
   "metadata": {},
   "outputs": [],
   "source": [
    "# cleanup useless data"
   ]
  },
  {
   "cell_type": "code",
   "execution_count": 4,
   "id": "38f06c17-d500-4df0-9b71-56795af83796",
   "metadata": {},
   "outputs": [],
   "source": [
    "df.drop(df[(df[\"predicted\"]==\"UNK\") & (df[\"certainty\"]==0)].index, inplace=True) #cannot load these images."
   ]
  },
  {
   "cell_type": "code",
   "execution_count": 5,
   "id": "8375c38b-5fb0-408d-8ee0-05084fa4982a",
   "metadata": {},
   "outputs": [],
   "source": [
    "df.drop(df[df[\"path\"].str.contains(\".ipynb\")].index,inplace=True) #drop cached images from jupyter"
   ]
  },
  {
   "cell_type": "code",
   "execution_count": 6,
   "id": "a4b77ee2-150a-4c20-adc0-d57ebd79b258",
   "metadata": {},
   "outputs": [],
   "source": [
    "df.drop(df[df[\"class\"]==\"UNKNOWN\"].index, inplace=True) #drop those where there is no volcano"
   ]
  },
  {
   "cell_type": "code",
   "execution_count": 7,
   "id": "2f827ccb-9b19-4520-9580-42db7a4bc84b",
   "metadata": {},
   "outputs": [],
   "source": [
    "df.drop(columns=[\"predicted\",\"certainty\"], inplace=True) #drop the non-predicted columns"
   ]
  },
  {
   "cell_type": "code",
   "execution_count": 8,
   "id": "9f23b9ea-7f36-4307-9412-ac2166c33ea7",
   "metadata": {},
   "outputs": [],
   "source": [
    "df.drop_duplicates(subset=\"path\", inplace=True)"
   ]
  },
  {
   "cell_type": "code",
   "execution_count": 9,
   "id": "9e79137a-7c8c-4b33-9618-0ce06a53e420",
   "metadata": {},
   "outputs": [],
   "source": [
    "df[\"path\"]=df[\"path\"].str.replace(\"\\\\\",\"/\")"
   ]
  },
  {
   "cell_type": "code",
   "execution_count": 10,
   "id": "2b46ec5d-eaa2-4310-b3a9-a4edc5795672",
   "metadata": {},
   "outputs": [],
   "source": [
    "#normalize predictors"
   ]
  },
  {
   "cell_type": "code",
   "execution_count": 11,
   "id": "254dbea4-9e8a-4735-8f19-4434934c70f8",
   "metadata": {},
   "outputs": [],
   "source": [
    "#MERGE EXPLOSION/EXPLOSION+FUME CLASSES\n",
    "df[\"class\"]=df[\"class\"].where(df[\"class\"]!=\"WITH_FUME_AND_EXPLOSION\", \"WITH_EXPLOSION\")"
   ]
  },
  {
   "cell_type": "code",
   "execution_count": 12,
   "id": "78bb94bc-dedb-4d86-9c37-5d1a9ab0e325",
   "metadata": {},
   "outputs": [],
   "source": [
    "#consolidate sorting"
   ]
  },
  {
   "cell_type": "code",
   "execution_count": 13,
   "id": "d64599de-6fd6-4986-8f03-713c682da17f",
   "metadata": {},
   "outputs": [],
   "source": [
    "df.reset_index(drop=True, inplace=True)"
   ]
  },
  {
   "cell_type": "code",
   "execution_count": 14,
   "id": "86b0440e-6b77-48b7-8050-4e0397af2181",
   "metadata": {},
   "outputs": [
    {
     "data": {
      "text/html": [
       "<div>\n",
       "<style scoped>\n",
       "    .dataframe tbody tr th:only-of-type {\n",
       "        vertical-align: middle;\n",
       "    }\n",
       "\n",
       "    .dataframe tbody tr th {\n",
       "        vertical-align: top;\n",
       "    }\n",
       "\n",
       "    .dataframe thead th {\n",
       "        text-align: right;\n",
       "    }\n",
       "</style>\n",
       "<table border=\"1\" class=\"dataframe\">\n",
       "  <thead>\n",
       "    <tr style=\"text-align: right;\">\n",
       "      <th></th>\n",
       "      <th>path</th>\n",
       "      <th>class</th>\n",
       "    </tr>\n",
       "  </thead>\n",
       "  <tbody>\n",
       "    <tr>\n",
       "      <th>0</th>\n",
       "      <td>images/2012/dic/p1203121.jpg</td>\n",
       "      <td>INACTIVE</td>\n",
       "    </tr>\n",
       "    <tr>\n",
       "      <th>1</th>\n",
       "      <td>images/2020/may/p0509201.jpg</td>\n",
       "      <td>WITH_EXPLOSION</td>\n",
       "    </tr>\n",
       "    <tr>\n",
       "      <th>2</th>\n",
       "      <td>images/2018/feb/p0221184.jpg</td>\n",
       "      <td>WITH_EXPLOSION</td>\n",
       "    </tr>\n",
       "    <tr>\n",
       "      <th>3</th>\n",
       "      <td>images/2003/mar/p0312031.jpg</td>\n",
       "      <td>INACTIVE</td>\n",
       "    </tr>\n",
       "    <tr>\n",
       "      <th>4</th>\n",
       "      <td>images/2017/jul/p0702174.jpg</td>\n",
       "      <td>WITH_FUME</td>\n",
       "    </tr>\n",
       "  </tbody>\n",
       "</table>\n",
       "</div>"
      ],
      "text/plain": [
       "                           path           class\n",
       "0  images/2012/dic/p1203121.jpg        INACTIVE\n",
       "1  images/2020/may/p0509201.jpg  WITH_EXPLOSION\n",
       "2  images/2018/feb/p0221184.jpg  WITH_EXPLOSION\n",
       "3  images/2003/mar/p0312031.jpg        INACTIVE\n",
       "4  images/2017/jul/p0702174.jpg       WITH_FUME"
      ]
     },
     "execution_count": 14,
     "metadata": {},
     "output_type": "execute_result"
    }
   ],
   "source": [
    "df.head()"
   ]
  },
  {
   "cell_type": "code",
   "execution_count": 15,
   "id": "1d778a27-93d5-4b70-a327-4734f6035615",
   "metadata": {},
   "outputs": [
    {
     "name": "stdout",
     "output_type": "stream",
     "text": [
      "<class 'pandas.core.frame.DataFrame'>\n",
      "RangeIndex: 18481 entries, 0 to 18480\n",
      "Data columns (total 2 columns):\n",
      " #   Column  Non-Null Count  Dtype \n",
      "---  ------  --------------  ----- \n",
      " 0   path    18481 non-null  object\n",
      " 1   class   18481 non-null  object\n",
      "dtypes: object(2)\n",
      "memory usage: 288.9+ KB\n"
     ]
    }
   ],
   "source": [
    "df.info()"
   ]
  },
  {
   "cell_type": "code",
   "execution_count": 16,
   "id": "e8203ce4-7f0e-4e43-a1b8-98e5a204ac20",
   "metadata": {},
   "outputs": [
    {
     "data": {
      "text/plain": [
       "(18481, 2)"
      ]
     },
     "execution_count": 16,
     "metadata": {},
     "output_type": "execute_result"
    }
   ],
   "source": [
    "df.shape"
   ]
  },
  {
   "cell_type": "code",
   "execution_count": 17,
   "id": "06607237-67ba-42b8-8573-97e3187ff32e",
   "metadata": {},
   "outputs": [],
   "source": [
    "# WEIGHTS FOR CLASSIFICATION LOSS"
   ]
  },
  {
   "cell_type": "code",
   "execution_count": 18,
   "id": "2fe03832-350c-4858-8caf-5e671fb74764",
   "metadata": {},
   "outputs": [
    {
     "data": {
      "text/plain": [
       "class\n",
       "WITH_FUME         8368\n",
       "WITH_EXPLOSION    7539\n",
       "INACTIVE          2574\n",
       "Name: count, dtype: int64"
      ]
     },
     "execution_count": 18,
     "metadata": {},
     "output_type": "execute_result"
    }
   ],
   "source": [
    "df[\"class\"].value_counts()"
   ]
  },
  {
   "cell_type": "code",
   "execution_count": 19,
   "id": "e95e865f-8a33-4da7-91b0-5b0b231bbf2d",
   "metadata": {},
   "outputs": [
    {
     "data": {
      "text/plain": [
       "class\n",
       "WITH_FUME         0.117763\n",
       "WITH_EXPLOSION    0.161390\n",
       "INACTIVE          0.720847\n",
       "Name: count, dtype: float64"
      ]
     },
     "execution_count": 19,
     "metadata": {},
     "output_type": "execute_result"
    }
   ],
   "source": [
    "freq=df[\"class\"].value_counts()\n",
    "freq=(df.shape[0]-freq)**4\n",
    "freq=freq/freq.sum()\n",
    "freq"
   ]
  },
  {
   "cell_type": "code",
   "execution_count": null,
   "id": "c60ae972-30f9-4b44-b713-4050f221707a",
   "metadata": {},
   "outputs": [],
   "source": []
  },
  {
   "cell_type": "code",
   "execution_count": 20,
   "id": "1a36c0f7-d086-46d7-bb38-87bf9feb1ba0",
   "metadata": {},
   "outputs": [],
   "source": [
    "df.to_feather(\"./data/stage4.feather\")"
   ]
  },
  {
   "cell_type": "code",
   "execution_count": 21,
   "id": "d890958b-953f-4ca8-a2e8-c5a77c867f7d",
   "metadata": {},
   "outputs": [],
   "source": [
    "def gen():\n",
    "    for i, row in df.iterrows():\n",
    "        yield {\n",
    "            \"image\":row[\"path\"],\n",
    "            \"class\":row[\"class\"],\n",
    "        }"
   ]
  },
  {
   "cell_type": "code",
   "execution_count": 22,
   "id": "ae3eef27-d9c1-4e37-aa51-c9e48a58166e",
   "metadata": {},
   "outputs": [
    {
     "data": {
      "text/plain": [
       "array(['INACTIVE', 'WITH_EXPLOSION', 'WITH_FUME'], dtype=object)"
      ]
     },
     "execution_count": 22,
     "metadata": {},
     "output_type": "execute_result"
    }
   ],
   "source": [
    "np.unique(df[\"class\"])"
   ]
  },
  {
   "cell_type": "code",
   "execution_count": null,
   "id": "01c71f3d-09cc-48c1-81f8-2202bf44e9aa",
   "metadata": {},
   "outputs": [],
   "source": []
  },
  {
   "cell_type": "code",
   "execution_count": 23,
   "id": "f7db4c44-f764-4335-86ed-fbc8634a9142",
   "metadata": {},
   "outputs": [],
   "source": [
    "class_names=['INACTIVE', 'WITH_EXPLOSION', 'WITH_FUME']"
   ]
  },
  {
   "cell_type": "code",
   "execution_count": 24,
   "id": "7e9ff389-1288-4482-bf1d-7b9c16347729",
   "metadata": {},
   "outputs": [
    {
     "data": {
      "application/vnd.jupyter.widget-view+json": {
       "model_id": "e5471571bc644b42ae524e813fe681fc",
       "version_major": 2,
       "version_minor": 0
      },
      "text/plain": [
       "Generating train split: 0 examples [00:00, ? examples/s]"
      ]
     },
     "metadata": {},
     "output_type": "display_data"
    },
    {
     "data": {
      "application/vnd.jupyter.widget-view+json": {
       "model_id": "b91fba1fe3f54ae6ba301bd51fca54cf",
       "version_major": 2,
       "version_minor": 0
      },
      "text/plain": [
       "Casting the dataset:   0%|          | 0/18481 [00:00<?, ? examples/s]"
      ]
     },
     "metadata": {},
     "output_type": "display_data"
    }
   ],
   "source": [
    "dataset=Dataset.from_generator(gen).with_format(\"torch\")\n",
    "dataset=dataset.cast_column(\"image\", dsImage())\n",
    "dataset=dataset.cast_column(\"class\", ClassLabel(num_classes=len(class_names), names=class_names))\n",
    "dataset=dataset.train_test_split(test_size=.1, seed=36918, stratify_by_column=\"class\")"
   ]
  },
  {
   "cell_type": "code",
   "execution_count": 26,
   "id": "9e724200-1675-4fde-ad11-11383dd7896c",
   "metadata": {},
   "outputs": [
    {
     "data": {
      "application/vnd.jupyter.widget-view+json": {
       "model_id": "19d759e56dfe4c7e967ec00dcb3e0ac2",
       "version_major": 2,
       "version_minor": 0
      },
      "text/plain": [
       "Saving the dataset (0/12 shards):   0%|          | 0/16632 [00:00<?, ? examples/s]"
      ]
     },
     "metadata": {},
     "output_type": "display_data"
    },
    {
     "data": {
      "application/vnd.jupyter.widget-view+json": {
       "model_id": "ddb37341a6044c7985b4c3f7d0bdc581",
       "version_major": 2,
       "version_minor": 0
      },
      "text/plain": [
       "Saving the dataset (0/12 shards):   0%|          | 0/1849 [00:00<?, ? examples/s]"
      ]
     },
     "metadata": {},
     "output_type": "display_data"
    }
   ],
   "source": [
    "dataset.save_to_disk(\"data/dataset/\",max_shard_size=\"80MB\",num_proc=12)"
   ]
  },
  {
   "cell_type": "code",
   "execution_count": 27,
   "id": "2c66a976-4077-4729-8042-64c1397999af",
   "metadata": {},
   "outputs": [
    {
     "data": {
      "application/vnd.jupyter.widget-view+json": {
       "model_id": "21ffb987174441cda88d0cf1b88f628c",
       "version_major": 2,
       "version_minor": 0
      },
      "text/plain": [
       "Uploading the dataset shards:   0%|          | 0/2 [00:00<?, ?it/s]"
      ]
     },
     "metadata": {},
     "output_type": "display_data"
    },
    {
     "data": {
      "application/vnd.jupyter.widget-view+json": {
       "model_id": "f334eeecbef84e289141f16e5c6343b7",
       "version_major": 2,
       "version_minor": 0
      },
      "text/plain": [
       "Map:   0%|          | 0/8316 [00:00<?, ? examples/s]"
      ]
     },
     "metadata": {},
     "output_type": "display_data"
    },
    {
     "data": {
      "application/vnd.jupyter.widget-view+json": {
       "model_id": "7279d6f4289c401e8971083f860c2c7e",
       "version_major": 2,
       "version_minor": 0
      },
      "text/plain": [
       "Creating parquet from Arrow format:   0%|          | 0/84 [00:00<?, ?ba/s]"
      ]
     },
     "metadata": {},
     "output_type": "display_data"
    },
    {
     "data": {
      "application/vnd.jupyter.widget-view+json": {
       "model_id": "5286295baa6b4da98de2fa841509b022",
       "version_major": 2,
       "version_minor": 0
      },
      "text/plain": [
       "Map:   0%|          | 0/8316 [00:00<?, ? examples/s]"
      ]
     },
     "metadata": {},
     "output_type": "display_data"
    },
    {
     "data": {
      "application/vnd.jupyter.widget-view+json": {
       "model_id": "07fa5ff0e4c74fd5988edd45ae031246",
       "version_major": 2,
       "version_minor": 0
      },
      "text/plain": [
       "Creating parquet from Arrow format:   0%|          | 0/84 [00:00<?, ?ba/s]"
      ]
     },
     "metadata": {},
     "output_type": "display_data"
    },
    {
     "data": {
      "application/vnd.jupyter.widget-view+json": {
       "model_id": "aa6fb1333f364e52870354e72cf81b43",
       "version_major": 2,
       "version_minor": 0
      },
      "text/plain": [
       "Uploading the dataset shards:   0%|          | 0/1 [00:00<?, ?it/s]"
      ]
     },
     "metadata": {},
     "output_type": "display_data"
    },
    {
     "data": {
      "application/vnd.jupyter.widget-view+json": {
       "model_id": "62d90e0b1958479cbf2db1a32cf40352",
       "version_major": 2,
       "version_minor": 0
      },
      "text/plain": [
       "Map:   0%|          | 0/1849 [00:00<?, ? examples/s]"
      ]
     },
     "metadata": {},
     "output_type": "display_data"
    },
    {
     "data": {
      "application/vnd.jupyter.widget-view+json": {
       "model_id": "0186cf5010404bafb2eaeab814e34401",
       "version_major": 2,
       "version_minor": 0
      },
      "text/plain": [
       "Creating parquet from Arrow format:   0%|          | 0/19 [00:00<?, ?ba/s]"
      ]
     },
     "metadata": {},
     "output_type": "display_data"
    },
    {
     "data": {
      "application/vnd.jupyter.widget-view+json": {
       "model_id": "a004d3b3d12141cba12f08a8bc13cc44",
       "version_major": 2,
       "version_minor": 0
      },
      "text/plain": [
       "README.md:   0%|          | 0.00/577 [00:00<?, ?B/s]"
      ]
     },
     "metadata": {},
     "output_type": "display_data"
    },
    {
     "data": {
      "text/plain": [
       "CommitInfo(commit_url='https://huggingface.co/datasets/mirluvams/popocatepetl/commit/657504687ebf65c9d628247977eadabc5a62fa7c', commit_message='Upload dataset', commit_description='', oid='657504687ebf65c9d628247977eadabc5a62fa7c', pr_url=None, pr_revision=None, pr_num=None)"
      ]
     },
     "execution_count": 27,
     "metadata": {},
     "output_type": "execute_result"
    }
   ],
   "source": [
    "dataset.push_to_hub(\"mirluvams/popocatepetl\", private=True)"
   ]
  },
  {
   "cell_type": "code",
   "execution_count": null,
   "id": "0e076669-fb3b-44f7-bb49-75a7e625db54",
   "metadata": {},
   "outputs": [],
   "source": []
  }
 ],
 "metadata": {
  "kernelspec": {
   "display_name": "Python 3 (ipykernel)",
   "language": "python",
   "name": "python3"
  },
  "language_info": {
   "codemirror_mode": {
    "name": "ipython",
    "version": 3
   },
   "file_extension": ".py",
   "mimetype": "text/x-python",
   "name": "python",
   "nbconvert_exporter": "python",
   "pygments_lexer": "ipython3",
   "version": "3.10.12"
  }
 },
 "nbformat": 4,
 "nbformat_minor": 5
}

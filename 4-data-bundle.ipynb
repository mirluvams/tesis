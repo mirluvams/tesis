{
 "cells": [
  {
   "cell_type": "code",
   "execution_count": 1,
   "id": "a567d0ae-3594-447f-b23d-42af22b85168",
   "metadata": {},
   "outputs": [],
   "source": [
    "import pandas as pd\n",
    "import numpy as np\n",
    "from datasets import Dataset, Image as dsImage, Value as scalar, ClassLabel "
   ]
  },
  {
   "cell_type": "code",
   "execution_count": 2,
   "id": "a78baad6-6d7e-4bfc-9778-197a39d49d81",
   "metadata": {},
   "outputs": [
    {
     "data": {
      "text/html": [
       "<div>\n",
       "<style scoped>\n",
       "    .dataframe tbody tr th:only-of-type {\n",
       "        vertical-align: middle;\n",
       "    }\n",
       "\n",
       "    .dataframe tbody tr th {\n",
       "        vertical-align: top;\n",
       "    }\n",
       "\n",
       "    .dataframe thead th {\n",
       "        text-align: right;\n",
       "    }\n",
       "</style>\n",
       "<table border=\"1\" class=\"dataframe\">\n",
       "  <thead>\n",
       "    <tr style=\"text-align: right;\">\n",
       "      <th></th>\n",
       "      <th>path</th>\n",
       "      <th>volcano_certainty</th>\n",
       "      <th>day_night</th>\n",
       "      <th>has_fume</th>\n",
       "      <th>is_explosion</th>\n",
       "      <th>predicted</th>\n",
       "      <th>certainty</th>\n",
       "    </tr>\n",
       "  </thead>\n",
       "  <tbody>\n",
       "    <tr>\n",
       "      <th>0</th>\n",
       "      <td>images\\2006\\jun\\p0622063.jpg</td>\n",
       "      <td>10</td>\n",
       "      <td>5</td>\n",
       "      <td>4</td>\n",
       "      <td>0</td>\n",
       "      <td>UNK</td>\n",
       "      <td>0.998998</td>\n",
       "    </tr>\n",
       "    <tr>\n",
       "      <th>1</th>\n",
       "      <td>images\\2023\\jul\\p0704235.jpg</td>\n",
       "      <td>0</td>\n",
       "      <td>5</td>\n",
       "      <td>4</td>\n",
       "      <td>0</td>\n",
       "      <td>UNK</td>\n",
       "      <td>0.998997</td>\n",
       "    </tr>\n",
       "    <tr>\n",
       "      <th>2</th>\n",
       "      <td>images\\2013\\sep\\p0926132.jpg</td>\n",
       "      <td>0</td>\n",
       "      <td>5</td>\n",
       "      <td>4</td>\n",
       "      <td>0</td>\n",
       "      <td>UNK</td>\n",
       "      <td>0.998995</td>\n",
       "    </tr>\n",
       "    <tr>\n",
       "      <th>3</th>\n",
       "      <td>images\\2019\\ene\\p0120193.jpg</td>\n",
       "      <td>10</td>\n",
       "      <td>0</td>\n",
       "      <td>0</td>\n",
       "      <td>0</td>\n",
       "      <td>UNK</td>\n",
       "      <td>0.998994</td>\n",
       "    </tr>\n",
       "    <tr>\n",
       "      <th>4</th>\n",
       "      <td>images\\2018\\jul\\p0723181.jpg</td>\n",
       "      <td>10</td>\n",
       "      <td>10</td>\n",
       "      <td>4</td>\n",
       "      <td>0</td>\n",
       "      <td>UNK</td>\n",
       "      <td>0.998969</td>\n",
       "    </tr>\n",
       "    <tr>\n",
       "      <th>...</th>\n",
       "      <td>...</td>\n",
       "      <td>...</td>\n",
       "      <td>...</td>\n",
       "      <td>...</td>\n",
       "      <td>...</td>\n",
       "      <td>...</td>\n",
       "      <td>...</td>\n",
       "    </tr>\n",
       "    <tr>\n",
       "      <th>19345</th>\n",
       "      <td>images\\2015\\may\\p0530155.jpg</td>\n",
       "      <td>0</td>\n",
       "      <td>10</td>\n",
       "      <td>4</td>\n",
       "      <td>4</td>\n",
       "      <td>EXP</td>\n",
       "      <td>0.489222</td>\n",
       "    </tr>\n",
       "    <tr>\n",
       "      <th>19346</th>\n",
       "      <td>images\\2016\\oct\\p1028164.jpg</td>\n",
       "      <td>0</td>\n",
       "      <td>10</td>\n",
       "      <td>4</td>\n",
       "      <td>4</td>\n",
       "      <td>EXP</td>\n",
       "      <td>0.461512</td>\n",
       "    </tr>\n",
       "    <tr>\n",
       "      <th>19347</th>\n",
       "      <td>images\\2018\\dic\\p1231184.jpg</td>\n",
       "      <td>0</td>\n",
       "      <td>10</td>\n",
       "      <td>4</td>\n",
       "      <td>4</td>\n",
       "      <td>EXP</td>\n",
       "      <td>0.459877</td>\n",
       "    </tr>\n",
       "    <tr>\n",
       "      <th>19348</th>\n",
       "      <td>images\\2018\\jun\\p0603184.jpg</td>\n",
       "      <td>0</td>\n",
       "      <td>10</td>\n",
       "      <td>4</td>\n",
       "      <td>4</td>\n",
       "      <td>EXP</td>\n",
       "      <td>0.421862</td>\n",
       "    </tr>\n",
       "    <tr>\n",
       "      <th>19349</th>\n",
       "      <td>images\\2014\\oct\\p1030147.jpg</td>\n",
       "      <td>0</td>\n",
       "      <td>10</td>\n",
       "      <td>4</td>\n",
       "      <td>4</td>\n",
       "      <td>EXP</td>\n",
       "      <td>0.413489</td>\n",
       "    </tr>\n",
       "  </tbody>\n",
       "</table>\n",
       "<p>19350 rows × 7 columns</p>\n",
       "</div>"
      ],
      "text/plain": [
       "                               path  volcano_certainty  day_night  has_fume  \\\n",
       "0      images\\2006\\jun\\p0622063.jpg                 10          5         4   \n",
       "1      images\\2023\\jul\\p0704235.jpg                  0          5         4   \n",
       "2      images\\2013\\sep\\p0926132.jpg                  0          5         4   \n",
       "3      images\\2019\\ene\\p0120193.jpg                 10          0         0   \n",
       "4      images\\2018\\jul\\p0723181.jpg                 10         10         4   \n",
       "...                             ...                ...        ...       ...   \n",
       "19345  images\\2015\\may\\p0530155.jpg                  0         10         4   \n",
       "19346  images\\2016\\oct\\p1028164.jpg                  0         10         4   \n",
       "19347  images\\2018\\dic\\p1231184.jpg                  0         10         4   \n",
       "19348  images\\2018\\jun\\p0603184.jpg                  0         10         4   \n",
       "19349  images\\2014\\oct\\p1030147.jpg                  0         10         4   \n",
       "\n",
       "       is_explosion predicted  certainty  \n",
       "0                 0       UNK   0.998998  \n",
       "1                 0       UNK   0.998997  \n",
       "2                 0       UNK   0.998995  \n",
       "3                 0       UNK   0.998994  \n",
       "4                 0       UNK   0.998969  \n",
       "...             ...       ...        ...  \n",
       "19345             4       EXP   0.489222  \n",
       "19346             4       EXP   0.461512  \n",
       "19347             4       EXP   0.459877  \n",
       "19348             4       EXP   0.421862  \n",
       "19349             4       EXP   0.413489  \n",
       "\n",
       "[19350 rows x 7 columns]"
      ]
     },
     "execution_count": 2,
     "metadata": {},
     "output_type": "execute_result"
    }
   ],
   "source": [
    "df=pd.read_feather(\"./data/stage3.feather\")\n",
    "df"
   ]
  },
  {
   "cell_type": "code",
   "execution_count": 3,
   "id": "1e818bfe-4d4e-4206-831d-1714541d04fc",
   "metadata": {},
   "outputs": [],
   "source": [
    "# cleanup useless data"
   ]
  },
  {
   "cell_type": "code",
   "execution_count": 4,
   "id": "38f06c17-d500-4df0-9b71-56795af83796",
   "metadata": {},
   "outputs": [],
   "source": [
    "df.drop(df[(df[\"predicted\"]==\"UNK\") & (df[\"certainty\"]==0)].index, inplace=True) #cannot load these images."
   ]
  },
  {
   "cell_type": "code",
   "execution_count": 5,
   "id": "8375c38b-5fb0-408d-8ee0-05084fa4982a",
   "metadata": {},
   "outputs": [],
   "source": [
    "df.drop(df[df[\"path\"].str.contains(\".ipynb\")].index,inplace=True) #drop cached images from jupyter"
   ]
  },
  {
   "cell_type": "code",
   "execution_count": 6,
   "id": "a4b77ee2-150a-4c20-adc0-d57ebd79b258",
   "metadata": {},
   "outputs": [],
   "source": [
    "df.drop(df[df[\"volcano_certainty\"]<5].index, inplace=True) #drop those where there is no volcano"
   ]
  },
  {
   "cell_type": "code",
   "execution_count": 7,
   "id": "2f827ccb-9b19-4520-9580-42db7a4bc84b",
   "metadata": {},
   "outputs": [],
   "source": [
    "df.drop(columns=[\"predicted\",\"certainty\",\"volcano_certainty\"], inplace=True) #drop the non-predicted columns"
   ]
  },
  {
   "cell_type": "code",
   "execution_count": 8,
   "id": "9f23b9ea-7f36-4307-9412-ac2166c33ea7",
   "metadata": {},
   "outputs": [],
   "source": [
    "df.drop_duplicates(subset=\"path\", inplace=True)"
   ]
  },
  {
   "cell_type": "code",
   "execution_count": 9,
   "id": "9e79137a-7c8c-4b33-9618-0ce06a53e420",
   "metadata": {},
   "outputs": [],
   "source": [
    "df[\"path\"]=df[\"path\"].str.replace(\"\\\\\",\"/\")"
   ]
  },
  {
   "cell_type": "code",
   "execution_count": 10,
   "id": "2b46ec5d-eaa2-4310-b3a9-a4edc5795672",
   "metadata": {},
   "outputs": [],
   "source": [
    "#normalize predictors"
   ]
  },
  {
   "cell_type": "code",
   "execution_count": 11,
   "id": "3bef561e-e07e-470f-9a2d-b4a66344662b",
   "metadata": {},
   "outputs": [],
   "source": [
    "def norm(x):\n",
    "    return (x-np.min(x))/(np.max(x)-np.min(x))"
   ]
  },
  {
   "cell_type": "code",
   "execution_count": 12,
   "id": "c2fac571-88ca-4bc5-a373-3d693f1c9c0f",
   "metadata": {},
   "outputs": [],
   "source": [
    "for col in [\"day_night\",\"has_fume\",\"is_explosion\"]:\n",
    "    df[col]=norm(df[col])"
   ]
  },
  {
   "cell_type": "code",
   "execution_count": 13,
   "id": "9efab42e-db6c-4505-9ce4-b789866f9b0f",
   "metadata": {},
   "outputs": [
    {
     "data": {
      "text/plain": [
       "(18908, 4)"
      ]
     },
     "execution_count": 13,
     "metadata": {},
     "output_type": "execute_result"
    }
   ],
   "source": [
    "df.shape"
   ]
  },
  {
   "cell_type": "code",
   "execution_count": 14,
   "id": "c9c316ac-8041-448b-894b-57c62ce80c6a",
   "metadata": {},
   "outputs": [
    {
     "data": {
      "text/plain": [
       "0"
      ]
     },
     "execution_count": 14,
     "metadata": {},
     "output_type": "execute_result"
    }
   ],
   "source": [
    "(df[\"path\"].value_counts()>1).sum()"
   ]
  },
  {
   "cell_type": "code",
   "execution_count": 15,
   "id": "f1122fce-4067-46bb-8135-db3d9c0d1310",
   "metadata": {},
   "outputs": [],
   "source": [
    "#insert previous data for 1-1 comparison, estimate new classes as an aside"
   ]
  },
  {
   "cell_type": "code",
   "execution_count": 16,
   "id": "64f1fe08-d54d-4a96-b47e-5aed9b2aedb3",
   "metadata": {},
   "outputs": [],
   "source": [
    "old_data=pd.read_feather(\"~/MiriTesis/Reclassified.feather\")"
   ]
  },
  {
   "cell_type": "code",
   "execution_count": 17,
   "id": "5d2fae9c-b112-4f27-bce7-a34ed151cf2e",
   "metadata": {},
   "outputs": [],
   "source": [
    "old_data.drop(columns=[\"y\",\"my\"], inplace=True)"
   ]
  },
  {
   "cell_type": "code",
   "execution_count": 18,
   "id": "1683ad98-172d-4548-aad5-13c688d1fcab",
   "metadata": {},
   "outputs": [],
   "source": [
    "old_data.drop_duplicates(subset=\"Path\", inplace=True)"
   ]
  },
  {
   "cell_type": "code",
   "execution_count": 19,
   "id": "63cd86c2-35ba-4155-887c-21e753436c0a",
   "metadata": {},
   "outputs": [],
   "source": [
    "joint=df.merge(old_data, left_on=\"path\", right_on=\"Path\", how=\"left\").drop(columns=[\"Path\"])"
   ]
  },
  {
   "cell_type": "code",
   "execution_count": 20,
   "id": "f04e4ca2-d577-4e2c-9df4-f595e1242cb3",
   "metadata": {},
   "outputs": [
    {
     "data": {
      "text/plain": [
       "True"
      ]
     },
     "execution_count": 20,
     "metadata": {},
     "output_type": "execute_result"
    }
   ],
   "source": [
    "joint.shape[0]==df.shape[0]"
   ]
  },
  {
   "cell_type": "code",
   "execution_count": 21,
   "id": "905f6074-6e7b-419d-8379-40e7fda220de",
   "metadata": {},
   "outputs": [],
   "source": [
    "joint[\"old_class\"]=joint[\"ny\"]\n",
    "joint.drop(columns=[\"ny\"], inplace=True)"
   ]
  },
  {
   "cell_type": "code",
   "execution_count": 22,
   "id": "da549076-25ba-4f63-a83b-73f882459aa9",
   "metadata": {},
   "outputs": [],
   "source": [
    "def reg_to_class(x): #[b, 3]\n",
    "    t=np.full(x.shape[0], \"INA\")\n",
    "    t_f=np.full(x.shape[0], \"FUM\")\n",
    "    t_e=np.full(x.shape[0], \"EXP\")\n",
    "    t_ef=np.full(x.shape[0], \"EXP+FUM\")\n",
    "    t=np.where((x[:,1]>.75) & (x[:,2]>.1),t_ef,t)\n",
    "    t=np.where((x[:,1]>.75) & (x[:,2]<=.1),t_f,t)\n",
    "    t=np.where((x[:,1]<=.75) & (x[:,2]>.1),t_e,t)\n",
    "    \n",
    "    return t"
   ]
  },
  {
   "cell_type": "code",
   "execution_count": 23,
   "id": "b76d3888-9e5a-4a0f-9ba1-d5fad95cb922",
   "metadata": {},
   "outputs": [],
   "source": [
    "x=np.asarray(joint[[\"day_night\", \"has_fume\",\"is_explosion\"]])"
   ]
  },
  {
   "cell_type": "code",
   "execution_count": 24,
   "id": "2e22e454-7db1-4f35-8012-3b10257cb7bb",
   "metadata": {},
   "outputs": [],
   "source": [
    "joint[\"new_class\"]=reg_to_class(x)"
   ]
  },
  {
   "cell_type": "code",
   "execution_count": 25,
   "id": "da1f33d2-47db-4b31-9e3f-02546f58a16f",
   "metadata": {},
   "outputs": [
    {
     "data": {
      "text/html": [
       "<div>\n",
       "<style scoped>\n",
       "    .dataframe tbody tr th:only-of-type {\n",
       "        vertical-align: middle;\n",
       "    }\n",
       "\n",
       "    .dataframe tbody tr th {\n",
       "        vertical-align: top;\n",
       "    }\n",
       "\n",
       "    .dataframe thead th {\n",
       "        text-align: right;\n",
       "    }\n",
       "</style>\n",
       "<table border=\"1\" class=\"dataframe\">\n",
       "  <thead>\n",
       "    <tr style=\"text-align: right;\">\n",
       "      <th></th>\n",
       "      <th>day_night</th>\n",
       "      <th>has_fume</th>\n",
       "      <th>is_explosion</th>\n",
       "    </tr>\n",
       "  </thead>\n",
       "  <tbody>\n",
       "    <tr>\n",
       "      <th>count</th>\n",
       "      <td>18908.000000</td>\n",
       "      <td>18908.000000</td>\n",
       "      <td>18908.000000</td>\n",
       "    </tr>\n",
       "    <tr>\n",
       "      <th>mean</th>\n",
       "      <td>0.905633</td>\n",
       "      <td>0.751296</td>\n",
       "      <td>0.370087</td>\n",
       "    </tr>\n",
       "    <tr>\n",
       "      <th>std</th>\n",
       "      <td>0.271970</td>\n",
       "      <td>0.378503</td>\n",
       "      <td>0.460627</td>\n",
       "    </tr>\n",
       "    <tr>\n",
       "      <th>min</th>\n",
       "      <td>0.000000</td>\n",
       "      <td>0.000000</td>\n",
       "      <td>0.000000</td>\n",
       "    </tr>\n",
       "    <tr>\n",
       "      <th>25%</th>\n",
       "      <td>1.000000</td>\n",
       "      <td>0.400000</td>\n",
       "      <td>0.000000</td>\n",
       "    </tr>\n",
       "    <tr>\n",
       "      <th>50%</th>\n",
       "      <td>1.000000</td>\n",
       "      <td>1.000000</td>\n",
       "      <td>0.000000</td>\n",
       "    </tr>\n",
       "    <tr>\n",
       "      <th>75%</th>\n",
       "      <td>1.000000</td>\n",
       "      <td>1.000000</td>\n",
       "      <td>1.000000</td>\n",
       "    </tr>\n",
       "    <tr>\n",
       "      <th>max</th>\n",
       "      <td>1.000000</td>\n",
       "      <td>1.000000</td>\n",
       "      <td>1.000000</td>\n",
       "    </tr>\n",
       "  </tbody>\n",
       "</table>\n",
       "</div>"
      ],
      "text/plain": [
       "          day_night      has_fume  is_explosion\n",
       "count  18908.000000  18908.000000  18908.000000\n",
       "mean       0.905633      0.751296      0.370087\n",
       "std        0.271970      0.378503      0.460627\n",
       "min        0.000000      0.000000      0.000000\n",
       "25%        1.000000      0.400000      0.000000\n",
       "50%        1.000000      1.000000      0.000000\n",
       "75%        1.000000      1.000000      1.000000\n",
       "max        1.000000      1.000000      1.000000"
      ]
     },
     "execution_count": 25,
     "metadata": {},
     "output_type": "execute_result"
    }
   ],
   "source": [
    "joint.describe()"
   ]
  },
  {
   "cell_type": "code",
   "execution_count": 26,
   "id": "0528f790-4fa2-49da-b4ab-4050c9d5f03c",
   "metadata": {},
   "outputs": [],
   "source": [
    "joint.loc[joint[\"old_class\"].isna(),\"old_class\"]=\"UNK\""
   ]
  },
  {
   "cell_type": "code",
   "execution_count": 27,
   "id": "3ab49935-4e6e-4fc4-91af-bf06795e4c7a",
   "metadata": {},
   "outputs": [],
   "source": [
    "df=joint"
   ]
  },
  {
   "cell_type": "code",
   "execution_count": 28,
   "id": "78bb94bc-dedb-4d86-9c37-5d1a9ab0e325",
   "metadata": {},
   "outputs": [],
   "source": [
    "#consolidate sorting"
   ]
  },
  {
   "cell_type": "code",
   "execution_count": 29,
   "id": "d64599de-6fd6-4986-8f03-713c682da17f",
   "metadata": {},
   "outputs": [],
   "source": [
    "df.reset_index(drop=True, inplace=True)"
   ]
  },
  {
   "cell_type": "code",
   "execution_count": 30,
   "id": "86b0440e-6b77-48b7-8050-4e0397af2181",
   "metadata": {},
   "outputs": [
    {
     "data": {
      "text/html": [
       "<div>\n",
       "<style scoped>\n",
       "    .dataframe tbody tr th:only-of-type {\n",
       "        vertical-align: middle;\n",
       "    }\n",
       "\n",
       "    .dataframe tbody tr th {\n",
       "        vertical-align: top;\n",
       "    }\n",
       "\n",
       "    .dataframe thead th {\n",
       "        text-align: right;\n",
       "    }\n",
       "</style>\n",
       "<table border=\"1\" class=\"dataframe\">\n",
       "  <thead>\n",
       "    <tr style=\"text-align: right;\">\n",
       "      <th></th>\n",
       "      <th>path</th>\n",
       "      <th>day_night</th>\n",
       "      <th>has_fume</th>\n",
       "      <th>is_explosion</th>\n",
       "      <th>old_class</th>\n",
       "      <th>new_class</th>\n",
       "    </tr>\n",
       "  </thead>\n",
       "  <tbody>\n",
       "    <tr>\n",
       "      <th>0</th>\n",
       "      <td>images/2006/jun/p0622063.jpg</td>\n",
       "      <td>0.5</td>\n",
       "      <td>0.4</td>\n",
       "      <td>0.0</td>\n",
       "      <td>UNK</td>\n",
       "      <td>INA</td>\n",
       "    </tr>\n",
       "    <tr>\n",
       "      <th>1</th>\n",
       "      <td>images/2019/ene/p0120193.jpg</td>\n",
       "      <td>0.0</td>\n",
       "      <td>0.0</td>\n",
       "      <td>0.0</td>\n",
       "      <td>UNK</td>\n",
       "      <td>INA</td>\n",
       "    </tr>\n",
       "    <tr>\n",
       "      <th>2</th>\n",
       "      <td>images/2018/jul/p0723181.jpg</td>\n",
       "      <td>1.0</td>\n",
       "      <td>0.4</td>\n",
       "      <td>0.0</td>\n",
       "      <td>UNK</td>\n",
       "      <td>INA</td>\n",
       "    </tr>\n",
       "    <tr>\n",
       "      <th>3</th>\n",
       "      <td>images/2015/mar/p0329153.jpg</td>\n",
       "      <td>1.0</td>\n",
       "      <td>0.4</td>\n",
       "      <td>0.0</td>\n",
       "      <td>UNK</td>\n",
       "      <td>INA</td>\n",
       "    </tr>\n",
       "    <tr>\n",
       "      <th>4</th>\n",
       "      <td>images/2003/oct/p1021031.jpg</td>\n",
       "      <td>1.0</td>\n",
       "      <td>0.4</td>\n",
       "      <td>0.0</td>\n",
       "      <td>UNK</td>\n",
       "      <td>INA</td>\n",
       "    </tr>\n",
       "  </tbody>\n",
       "</table>\n",
       "</div>"
      ],
      "text/plain": [
       "                           path  day_night  has_fume  is_explosion old_class  \\\n",
       "0  images/2006/jun/p0622063.jpg        0.5       0.4           0.0       UNK   \n",
       "1  images/2019/ene/p0120193.jpg        0.0       0.0           0.0       UNK   \n",
       "2  images/2018/jul/p0723181.jpg        1.0       0.4           0.0       UNK   \n",
       "3  images/2015/mar/p0329153.jpg        1.0       0.4           0.0       UNK   \n",
       "4  images/2003/oct/p1021031.jpg        1.0       0.4           0.0       UNK   \n",
       "\n",
       "  new_class  \n",
       "0       INA  \n",
       "1       INA  \n",
       "2       INA  \n",
       "3       INA  \n",
       "4       INA  "
      ]
     },
     "execution_count": 30,
     "metadata": {},
     "output_type": "execute_result"
    }
   ],
   "source": [
    "df.head()"
   ]
  },
  {
   "cell_type": "code",
   "execution_count": 31,
   "id": "1d778a27-93d5-4b70-a327-4734f6035615",
   "metadata": {},
   "outputs": [
    {
     "name": "stdout",
     "output_type": "stream",
     "text": [
      "<class 'pandas.core.frame.DataFrame'>\n",
      "RangeIndex: 18908 entries, 0 to 18907\n",
      "Data columns (total 6 columns):\n",
      " #   Column        Non-Null Count  Dtype  \n",
      "---  ------        --------------  -----  \n",
      " 0   path          18908 non-null  object \n",
      " 1   day_night     18908 non-null  float64\n",
      " 2   has_fume      18908 non-null  float64\n",
      " 3   is_explosion  18908 non-null  float64\n",
      " 4   old_class     18908 non-null  object \n",
      " 5   new_class     18908 non-null  object \n",
      "dtypes: float64(3), object(3)\n",
      "memory usage: 886.4+ KB\n"
     ]
    }
   ],
   "source": [
    "df.info()"
   ]
  },
  {
   "cell_type": "code",
   "execution_count": 32,
   "id": "e8203ce4-7f0e-4e43-a1b8-98e5a204ac20",
   "metadata": {},
   "outputs": [
    {
     "data": {
      "text/plain": [
       "(18908, 6)"
      ]
     },
     "execution_count": 32,
     "metadata": {},
     "output_type": "execute_result"
    }
   ],
   "source": [
    "df.shape"
   ]
  },
  {
   "cell_type": "code",
   "execution_count": 33,
   "id": "1a36c0f7-d086-46d7-bb38-87bf9feb1ba0",
   "metadata": {},
   "outputs": [],
   "source": [
    "df.to_feather(\"./data/stage4.feather\")"
   ]
  },
  {
   "cell_type": "code",
   "execution_count": 34,
   "id": "d890958b-953f-4ca8-a2e8-c5a77c867f7d",
   "metadata": {},
   "outputs": [],
   "source": [
    "def gen():\n",
    "    for i, row in df.iterrows():\n",
    "        yield {\n",
    "            \"light_level\":row[\"day_night\"],\n",
    "            \"fume_strength\":row[\"has_fume\"],\n",
    "            \"explosion_strength\":row[\"is_explosion\"],\n",
    "            \"image\":row[\"path\"],\n",
    "            \"old_class\":row[\"old_class\"],\n",
    "            \"class\":row[\"new_class\"],\n",
    "        }"
   ]
  },
  {
   "cell_type": "code",
   "execution_count": 36,
   "id": "f7db4c44-f764-4335-86ed-fbc8634a9142",
   "metadata": {},
   "outputs": [],
   "source": [
    "class_names=[\"UNK\",\"INA\",\"FUM\",\"EXP\",\"EXP+FUM\"]"
   ]
  },
  {
   "cell_type": "code",
   "execution_count": 37,
   "id": "7e9ff389-1288-4482-bf1d-7b9c16347729",
   "metadata": {},
   "outputs": [
    {
     "data": {
      "application/vnd.jupyter.widget-view+json": {
       "model_id": "6f7d80bdb9e54b949ca170f6fe4af03e",
       "version_major": 2,
       "version_minor": 0
      },
      "text/plain": [
       "Casting the dataset:   0%|          | 0/18908 [00:00<?, ? examples/s]"
      ]
     },
     "metadata": {},
     "output_type": "display_data"
    },
    {
     "data": {
      "application/vnd.jupyter.widget-view+json": {
       "model_id": "d3f0c5665ea24127b62d7825743ebe44",
       "version_major": 2,
       "version_minor": 0
      },
      "text/plain": [
       "Casting the dataset:   0%|          | 0/18908 [00:00<?, ? examples/s]"
      ]
     },
     "metadata": {},
     "output_type": "display_data"
    }
   ],
   "source": [
    "dataset=Dataset.from_generator(gen).with_format(\"torch\")\n",
    "dataset=dataset.cast_column(\"image\", dsImage())\n",
    "dataset=dataset.cast_column(\"light_level\", scalar(\"float32\"))\n",
    "dataset=dataset.cast_column(\"fume_strength\", scalar(\"float32\"))\n",
    "dataset=dataset.cast_column(\"explosion_strength\", scalar(\"float32\"))\n",
    "dataset=dataset.cast_column(\"old_class\", ClassLabel(num_classes=len(class_names), names=class_names))\n",
    "dataset=dataset.cast_column(\"class\", ClassLabel(num_classes=len(class_names), names=class_names))\n",
    "dataset=dataset.train_test_split(test_size=.1, seed=36918, stratify_by_column=\"class\")"
   ]
  },
  {
   "cell_type": "code",
   "execution_count": 38,
   "id": "9e724200-1675-4fde-ad11-11383dd7896c",
   "metadata": {},
   "outputs": [
    {
     "data": {
      "application/vnd.jupyter.widget-view+json": {
       "model_id": "ce716e7b197145d3b71072d09f2803f9",
       "version_major": 2,
       "version_minor": 0
      },
      "text/plain": [
       "Saving the dataset (0/12 shards):   0%|          | 0/17017 [00:00<?, ? examples/s]"
      ]
     },
     "metadata": {},
     "output_type": "display_data"
    },
    {
     "data": {
      "application/vnd.jupyter.widget-view+json": {
       "model_id": "0eed89c674b14cb0bb70d088e9206fbb",
       "version_major": 2,
       "version_minor": 0
      },
      "text/plain": [
       "Saving the dataset (0/12 shards):   0%|          | 0/1891 [00:00<?, ? examples/s]"
      ]
     },
     "metadata": {},
     "output_type": "display_data"
    }
   ],
   "source": [
    "dataset.save_to_disk(\"data/dataset/\",max_shard_size=\"80MB\",num_proc=12)"
   ]
  },
  {
   "cell_type": "code",
   "execution_count": null,
   "id": "2c66a976-4077-4729-8042-64c1397999af",
   "metadata": {},
   "outputs": [
    {
     "data": {
      "application/vnd.jupyter.widget-view+json": {
       "model_id": "cef9806d3a4c4418b761618f6faaa370",
       "version_major": 2,
       "version_minor": 0
      },
      "text/plain": [
       "Uploading the dataset shards:   0%|          | 0/2 [00:00<?, ?it/s]"
      ]
     },
     "metadata": {},
     "output_type": "display_data"
    },
    {
     "data": {
      "application/vnd.jupyter.widget-view+json": {
       "model_id": "c7135ee3d33b4b529cc7979297e10e1e",
       "version_major": 2,
       "version_minor": 0
      },
      "text/plain": [
       "Map:   0%|          | 0/8509 [00:00<?, ? examples/s]"
      ]
     },
     "metadata": {},
     "output_type": "display_data"
    },
    {
     "data": {
      "application/vnd.jupyter.widget-view+json": {
       "model_id": "add09dc45a664bb89fb9a614278850d6",
       "version_major": 2,
       "version_minor": 0
      },
      "text/plain": [
       "Creating parquet from Arrow format:   0%|          | 0/86 [00:00<?, ?ba/s]"
      ]
     },
     "metadata": {},
     "output_type": "display_data"
    }
   ],
   "source": [
    "dataset.push_to_hub(\"mirluvams/popocatepetl\", private=True)"
   ]
  },
  {
   "cell_type": "code",
   "execution_count": null,
   "id": "4f345019-14e5-4875-bc1d-1001637d6c10",
   "metadata": {},
   "outputs": [],
   "source": []
  }
 ],
 "metadata": {
  "kernelspec": {
   "display_name": "Python 3 (ipykernel)",
   "language": "python",
   "name": "python3"
  },
  "language_info": {
   "codemirror_mode": {
    "name": "ipython",
    "version": 3
   },
   "file_extension": ".py",
   "mimetype": "text/x-python",
   "name": "python",
   "nbconvert_exporter": "python",
   "pygments_lexer": "ipython3",
   "version": "3.10.12"
  }
 },
 "nbformat": 4,
 "nbformat_minor": 5
}

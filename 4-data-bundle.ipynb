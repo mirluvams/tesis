{
 "cells": [
  {
   "cell_type": "code",
   "execution_count": 28,
   "id": "191964e1-bedf-42d5-9b02-0a82a0e20dc7",
   "metadata": {},
   "outputs": [
    {
     "data": {
      "text/html": [
       "<div>\n",
       "<style scoped>\n",
       "    .dataframe tbody tr th:only-of-type {\n",
       "        vertical-align: middle;\n",
       "    }\n",
       "\n",
       "    .dataframe tbody tr th {\n",
       "        vertical-align: top;\n",
       "    }\n",
       "\n",
       "    .dataframe thead th {\n",
       "        text-align: right;\n",
       "    }\n",
       "</style>\n",
       "<table border=\"1\" class=\"dataframe\">\n",
       "  <thead>\n",
       "    <tr style=\"text-align: right;\">\n",
       "      <th></th>\n",
       "      <th>path</th>\n",
       "      <th>volcano_certainty</th>\n",
       "      <th>day_night</th>\n",
       "      <th>has_fume</th>\n",
       "      <th>is_explosion</th>\n",
       "      <th>predicted</th>\n",
       "      <th>certainty</th>\n",
       "    </tr>\n",
       "  </thead>\n",
       "  <tbody>\n",
       "    <tr>\n",
       "      <th>0</th>\n",
       "      <td>images\\2006\\jun\\p0622063.jpg</td>\n",
       "      <td>10</td>\n",
       "      <td>5</td>\n",
       "      <td>4</td>\n",
       "      <td>0</td>\n",
       "      <td>UNK</td>\n",
       "      <td>0.998998</td>\n",
       "    </tr>\n",
       "    <tr>\n",
       "      <th>1</th>\n",
       "      <td>images\\2023\\jul\\p0704235.jpg</td>\n",
       "      <td>0</td>\n",
       "      <td>5</td>\n",
       "      <td>4</td>\n",
       "      <td>0</td>\n",
       "      <td>UNK</td>\n",
       "      <td>0.998997</td>\n",
       "    </tr>\n",
       "    <tr>\n",
       "      <th>2</th>\n",
       "      <td>images\\2013\\sep\\p0926132.jpg</td>\n",
       "      <td>0</td>\n",
       "      <td>5</td>\n",
       "      <td>4</td>\n",
       "      <td>0</td>\n",
       "      <td>UNK</td>\n",
       "      <td>0.998995</td>\n",
       "    </tr>\n",
       "    <tr>\n",
       "      <th>3</th>\n",
       "      <td>images\\2019\\ene\\p0120193.jpg</td>\n",
       "      <td>10</td>\n",
       "      <td>0</td>\n",
       "      <td>0</td>\n",
       "      <td>0</td>\n",
       "      <td>UNK</td>\n",
       "      <td>0.998994</td>\n",
       "    </tr>\n",
       "    <tr>\n",
       "      <th>4</th>\n",
       "      <td>images\\2018\\jul\\p0723181.jpg</td>\n",
       "      <td>10</td>\n",
       "      <td>10</td>\n",
       "      <td>4</td>\n",
       "      <td>0</td>\n",
       "      <td>UNK</td>\n",
       "      <td>0.998969</td>\n",
       "    </tr>\n",
       "    <tr>\n",
       "      <th>...</th>\n",
       "      <td>...</td>\n",
       "      <td>...</td>\n",
       "      <td>...</td>\n",
       "      <td>...</td>\n",
       "      <td>...</td>\n",
       "      <td>...</td>\n",
       "      <td>...</td>\n",
       "    </tr>\n",
       "    <tr>\n",
       "      <th>19345</th>\n",
       "      <td>images\\2015\\may\\p0530155.jpg</td>\n",
       "      <td>0</td>\n",
       "      <td>10</td>\n",
       "      <td>4</td>\n",
       "      <td>4</td>\n",
       "      <td>EXP</td>\n",
       "      <td>0.489222</td>\n",
       "    </tr>\n",
       "    <tr>\n",
       "      <th>19346</th>\n",
       "      <td>images\\2016\\oct\\p1028164.jpg</td>\n",
       "      <td>0</td>\n",
       "      <td>10</td>\n",
       "      <td>4</td>\n",
       "      <td>4</td>\n",
       "      <td>EXP</td>\n",
       "      <td>0.461512</td>\n",
       "    </tr>\n",
       "    <tr>\n",
       "      <th>19347</th>\n",
       "      <td>images\\2018\\dic\\p1231184.jpg</td>\n",
       "      <td>0</td>\n",
       "      <td>10</td>\n",
       "      <td>4</td>\n",
       "      <td>4</td>\n",
       "      <td>EXP</td>\n",
       "      <td>0.459877</td>\n",
       "    </tr>\n",
       "    <tr>\n",
       "      <th>19348</th>\n",
       "      <td>images\\2018\\jun\\p0603184.jpg</td>\n",
       "      <td>0</td>\n",
       "      <td>10</td>\n",
       "      <td>4</td>\n",
       "      <td>4</td>\n",
       "      <td>EXP</td>\n",
       "      <td>0.421862</td>\n",
       "    </tr>\n",
       "    <tr>\n",
       "      <th>19349</th>\n",
       "      <td>images\\2014\\oct\\p1030147.jpg</td>\n",
       "      <td>0</td>\n",
       "      <td>10</td>\n",
       "      <td>4</td>\n",
       "      <td>4</td>\n",
       "      <td>EXP</td>\n",
       "      <td>0.413489</td>\n",
       "    </tr>\n",
       "  </tbody>\n",
       "</table>\n",
       "<p>19350 rows × 7 columns</p>\n",
       "</div>"
      ],
      "text/plain": [
       "                               path  volcano_certainty  day_night  has_fume  \\\n",
       "0      images\\2006\\jun\\p0622063.jpg                 10          5         4   \n",
       "1      images\\2023\\jul\\p0704235.jpg                  0          5         4   \n",
       "2      images\\2013\\sep\\p0926132.jpg                  0          5         4   \n",
       "3      images\\2019\\ene\\p0120193.jpg                 10          0         0   \n",
       "4      images\\2018\\jul\\p0723181.jpg                 10         10         4   \n",
       "...                             ...                ...        ...       ...   \n",
       "19345  images\\2015\\may\\p0530155.jpg                  0         10         4   \n",
       "19346  images\\2016\\oct\\p1028164.jpg                  0         10         4   \n",
       "19347  images\\2018\\dic\\p1231184.jpg                  0         10         4   \n",
       "19348  images\\2018\\jun\\p0603184.jpg                  0         10         4   \n",
       "19349  images\\2014\\oct\\p1030147.jpg                  0         10         4   \n",
       "\n",
       "       is_explosion predicted  certainty  \n",
       "0                 0       UNK   0.998998  \n",
       "1                 0       UNK   0.998997  \n",
       "2                 0       UNK   0.998995  \n",
       "3                 0       UNK   0.998994  \n",
       "4                 0       UNK   0.998969  \n",
       "...             ...       ...        ...  \n",
       "19345             4       EXP   0.489222  \n",
       "19346             4       EXP   0.461512  \n",
       "19347             4       EXP   0.459877  \n",
       "19348             4       EXP   0.421862  \n",
       "19349             4       EXP   0.413489  \n",
       "\n",
       "[19350 rows x 7 columns]"
      ]
     },
     "execution_count": 28,
     "metadata": {},
     "output_type": "execute_result"
    }
   ],
   "source": [
    "\n",
    "import pandas as pd\n",
    "import numpy as np\n",
    "from datasets import Dataset, Image as dsImage, Value as scalar\n",
    "\n",
    "df=pd.read_feather(\"./data/stage3.feather\")\n",
    "df"
   ]
  },
  {
   "cell_type": "code",
   "execution_count": 29,
   "id": "8375c38b-5fb0-408d-8ee0-05084fa4982a",
   "metadata": {},
   "outputs": [],
   "source": [
    "df.drop(df[df[\"path\"].str.contains(\".ipynb\")].index,inplace=True)"
   ]
  },
  {
   "cell_type": "code",
   "execution_count": 30,
   "id": "a4b77ee2-150a-4c20-adc0-d57ebd79b258",
   "metadata": {},
   "outputs": [],
   "source": [
    "df.drop(df[df[\"volcano_certainty\"]<5].index, inplace=True)"
   ]
  },
  {
   "cell_type": "code",
   "execution_count": 31,
   "id": "2f827ccb-9b19-4520-9580-42db7a4bc84b",
   "metadata": {},
   "outputs": [],
   "source": [
    "df.drop(columns=[\"predicted\",\"certainty\",\"volcano_certainty\"], inplace=True)"
   ]
  },
  {
   "cell_type": "code",
   "execution_count": 32,
   "id": "3bef561e-e07e-470f-9a2d-b4a66344662b",
   "metadata": {},
   "outputs": [],
   "source": [
    "def norm(x):\n",
    "    return (x-np.min(x))/(np.max(x)-np.min(x))"
   ]
  },
  {
   "cell_type": "code",
   "execution_count": 33,
   "id": "c2fac571-88ca-4bc5-a373-3d693f1c9c0f",
   "metadata": {},
   "outputs": [],
   "source": [
    "for col in [\"day_night\",\"has_fume\",\"is_explosion\"]:\n",
    "    df[col]=norm(df[col])"
   ]
  },
  {
   "cell_type": "code",
   "execution_count": 34,
   "id": "d64599de-6fd6-4986-8f03-713c682da17f",
   "metadata": {},
   "outputs": [],
   "source": [
    "df.reset_index(drop=True, inplace=True)"
   ]
  },
  {
   "cell_type": "code",
   "execution_count": 35,
   "id": "86b0440e-6b77-48b7-8050-4e0397af2181",
   "metadata": {},
   "outputs": [
    {
     "data": {
      "text/html": [
       "<div>\n",
       "<style scoped>\n",
       "    .dataframe tbody tr th:only-of-type {\n",
       "        vertical-align: middle;\n",
       "    }\n",
       "\n",
       "    .dataframe tbody tr th {\n",
       "        vertical-align: top;\n",
       "    }\n",
       "\n",
       "    .dataframe thead th {\n",
       "        text-align: right;\n",
       "    }\n",
       "</style>\n",
       "<table border=\"1\" class=\"dataframe\">\n",
       "  <thead>\n",
       "    <tr style=\"text-align: right;\">\n",
       "      <th></th>\n",
       "      <th>path</th>\n",
       "      <th>day_night</th>\n",
       "      <th>has_fume</th>\n",
       "      <th>is_explosion</th>\n",
       "    </tr>\n",
       "  </thead>\n",
       "  <tbody>\n",
       "    <tr>\n",
       "      <th>0</th>\n",
       "      <td>images\\2006\\jun\\p0622063.jpg</td>\n",
       "      <td>0.5</td>\n",
       "      <td>0.4</td>\n",
       "      <td>0.0</td>\n",
       "    </tr>\n",
       "    <tr>\n",
       "      <th>1</th>\n",
       "      <td>images\\2019\\ene\\p0120193.jpg</td>\n",
       "      <td>0.0</td>\n",
       "      <td>0.0</td>\n",
       "      <td>0.0</td>\n",
       "    </tr>\n",
       "    <tr>\n",
       "      <th>2</th>\n",
       "      <td>images\\2018\\jul\\p0723181.jpg</td>\n",
       "      <td>1.0</td>\n",
       "      <td>0.4</td>\n",
       "      <td>0.0</td>\n",
       "    </tr>\n",
       "    <tr>\n",
       "      <th>3</th>\n",
       "      <td>images\\2015\\mar\\p0329153.jpg</td>\n",
       "      <td>1.0</td>\n",
       "      <td>0.4</td>\n",
       "      <td>0.0</td>\n",
       "    </tr>\n",
       "    <tr>\n",
       "      <th>4</th>\n",
       "      <td>images\\2003\\oct\\p1021031.jpg</td>\n",
       "      <td>1.0</td>\n",
       "      <td>0.4</td>\n",
       "      <td>0.0</td>\n",
       "    </tr>\n",
       "  </tbody>\n",
       "</table>\n",
       "</div>"
      ],
      "text/plain": [
       "                           path  day_night  has_fume  is_explosion\n",
       "0  images\\2006\\jun\\p0622063.jpg        0.5       0.4           0.0\n",
       "1  images\\2019\\ene\\p0120193.jpg        0.0       0.0           0.0\n",
       "2  images\\2018\\jul\\p0723181.jpg        1.0       0.4           0.0\n",
       "3  images\\2015\\mar\\p0329153.jpg        1.0       0.4           0.0\n",
       "4  images\\2003\\oct\\p1021031.jpg        1.0       0.4           0.0"
      ]
     },
     "execution_count": 35,
     "metadata": {},
     "output_type": "execute_result"
    }
   ],
   "source": [
    "df.head()"
   ]
  },
  {
   "cell_type": "code",
   "execution_count": 37,
   "id": "1a36c0f7-d086-46d7-bb38-87bf9feb1ba0",
   "metadata": {},
   "outputs": [],
   "source": [
    "df.to_feather(\"./data/stage4.feather\")"
   ]
  },
  {
   "cell_type": "code",
   "execution_count": 38,
   "id": "d890958b-953f-4ca8-a2e8-c5a77c867f7d",
   "metadata": {},
   "outputs": [],
   "source": [
    "def gen():\n",
    "    for i, row in df.iterrows():\n",
    "        yield {\n",
    "            \"image\":row[\"path\"],\n",
    "            \"light_level\":row[\"day_night\"],\n",
    "            \"fume_strength\":row[\"has_fume\"],\n",
    "            \"explosion_strength\":row[\"is_explosion\"],\n",
    "        }"
   ]
  },
  {
   "cell_type": "code",
   "execution_count": 45,
   "id": "7e9ff389-1288-4482-bf1d-7b9c16347729",
   "metadata": {},
   "outputs": [],
   "source": [
    "dataset=Dataset.from_generator(gen)\n",
    "dataset=dataset.cast_column(\"image\", dsImage())\n",
    "dataset=dataset.cast_column(\"light_level\", scalar(\"float32\"))\n",
    "dataset=dataset.cast_column(\"fume_strength\", scalar(\"float32\"))\n",
    "dataset=dataset.cast_column(\"explosion_strength\", scalar(\"float32\"))\n",
    "dataset=dataset.train_test_split(test_size=.1, seed=36918)"
   ]
  },
  {
   "cell_type": "code",
   "execution_count": 46,
   "id": "de3ff49a-a57e-47cb-825b-a890165432fb",
   "metadata": {},
   "outputs": [
    {
     "data": {
      "text/plain": [
       "{'image': <PIL.JpegImagePlugin.JpegImageFile image mode=RGB size=640x480>,\n",
       " 'light_level': 1.0,\n",
       " 'fume_strength': 1.0,\n",
       " 'explosion_strength': 0.0}"
      ]
     },
     "execution_count": 46,
     "metadata": {},
     "output_type": "execute_result"
    }
   ],
   "source": [
    "dataset[\"train\"][0]"
   ]
  },
  {
   "cell_type": "code",
   "execution_count": 47,
   "id": "9e724200-1675-4fde-ad11-11383dd7896c",
   "metadata": {},
   "outputs": [
    {
     "data": {
      "application/vnd.jupyter.widget-view+json": {
       "model_id": "5b2c95d59d7d4eb28ff6a57bc23fc65c",
       "version_major": 2,
       "version_minor": 0
      },
      "text/plain": [
       "Saving the dataset (0/12 shards):   0%|          | 0/17019 [00:00<?, ? examples/s]"
      ]
     },
     "metadata": {},
     "output_type": "display_data"
    },
    {
     "data": {
      "application/vnd.jupyter.widget-view+json": {
       "model_id": "8d4d456984304df2b3335921f6bccec6",
       "version_major": 2,
       "version_minor": 0
      },
      "text/plain": [
       "Saving the dataset (0/12 shards):   0%|          | 0/1891 [00:00<?, ? examples/s]"
      ]
     },
     "metadata": {},
     "output_type": "display_data"
    }
   ],
   "source": [
    "dataset.save_to_disk(\"data/dataset/\",max_shard_size=\"80MB\",num_proc=12)"
   ]
  },
  {
   "cell_type": "code",
   "execution_count": null,
   "id": "2c66a976-4077-4729-8042-64c1397999af",
   "metadata": {},
   "outputs": [],
   "source": []
  }
 ],
 "metadata": {
  "kernelspec": {
   "display_name": "Python 3 (ipykernel)",
   "language": "python",
   "name": "python3"
  },
  "language_info": {
   "codemirror_mode": {
    "name": "ipython",
    "version": 3
   },
   "file_extension": ".py",
   "mimetype": "text/x-python",
   "name": "python",
   "nbconvert_exporter": "python",
   "pygments_lexer": "ipython3",
   "version": "3.11.9"
  }
 },
 "nbformat": 4,
 "nbformat_minor": 5
}

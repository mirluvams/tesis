{
 "cells": [
  {
   "cell_type": "code",
   "execution_count": 8,
   "id": "c7d0948a-42aa-4795-9812-d0e7be6269b0",
   "metadata": {},
   "outputs": [],
   "source": [
    "import pandas as pd\n",
    "import numpy as np\n",
    "import seaborn as sns"
   ]
  },
  {
   "cell_type": "code",
   "execution_count": 3,
   "id": "6c286d3a-dd3c-4be6-87c3-1edbd5a4c8f7",
   "metadata": {},
   "outputs": [],
   "source": [
    "cmx=confusion_matrixes=pd.read_feather(\"data/confusion_matrixes.feather\")"
   ]
  },
  {
   "cell_type": "code",
   "execution_count": 5,
   "id": "21630b97-a786-43b2-add0-d9e523b9e2e8",
   "metadata": {},
   "outputs": [],
   "source": [
    "res=results=pd.read_feather(\"data/results.feather\")"
   ]
  },
  {
   "cell_type": "code",
   "execution_count": 10,
   "id": "4fae1186-47f0-4d16-a11c-1cb9d88218d6",
   "metadata": {},
   "outputs": [],
   "source": [
    "logs=pd.read_feather(\"data/training_logs.feather\")"
   ]
  },
  {
   "cell_type": "code",
   "execution_count": null,
   "id": "6a9b0b36-3b7f-4731-adff-e4e438e5e759",
   "metadata": {},
   "outputs": [],
   "source": []
  }
 ],
 "metadata": {
  "kernelspec": {
   "display_name": "Python 3 (ipykernel)",
   "language": "python",
   "name": "python3"
  },
  "language_info": {
   "codemirror_mode": {
    "name": "ipython",
    "version": 3
   },
   "file_extension": ".py",
   "mimetype": "text/x-python",
   "name": "python",
   "nbconvert_exporter": "python",
   "pygments_lexer": "ipython3",
   "version": "3.10.12"
  }
 },
 "nbformat": 4,
 "nbformat_minor": 5
}

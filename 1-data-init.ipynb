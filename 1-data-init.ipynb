{
 "cells": [
  {
   "cell_type": "code",
   "execution_count": 1,
   "id": "632faab5-b836-470c-b84a-e4363d1a3b2d",
   "metadata": {},
   "outputs": [],
   "source": [
    "import os\n",
    "import numpy as np\n",
    "import pandas as pd"
   ]
  },
  {
   "cell_type": "code",
   "execution_count": 2,
   "id": "c2cbd390-b72f-4467-bdc9-a488d3232bf4",
   "metadata": {},
   "outputs": [],
   "source": [
    "image_root = 'images/'\n",
    "image_paths=[]\n",
    "for (dirpath, dirnames, filenames) in os.walk(image_root):\n",
    "    image_paths+=[os.path.normpath(os.path.join(dirpath,file)) for file in filenames if file.endswith(\".jpg\") or file.endswith(\".png\")]"
   ]
  },
  {
   "cell_type": "code",
   "execution_count": 3,
   "id": "89113439-8161-4ba2-aed4-5a90712169f3",
   "metadata": {},
   "outputs": [
    {
     "name": "stdout",
     "output_type": "stream",
     "text": [
      "20168 images\\1999\\ene\\p0131991.jpg\n"
     ]
    }
   ],
   "source": [
    "print(len(image_paths), image_paths[0])"
   ]
  },
  {
   "cell_type": "code",
   "execution_count": 4,
   "id": "0aa29533-58f7-4e4c-bd3c-f9156ad03b96",
   "metadata": {},
   "outputs": [
    {
     "data": {
      "text/html": [
       "<div>\n",
       "<style scoped>\n",
       "    .dataframe tbody tr th:only-of-type {\n",
       "        vertical-align: middle;\n",
       "    }\n",
       "\n",
       "    .dataframe tbody tr th {\n",
       "        vertical-align: top;\n",
       "    }\n",
       "\n",
       "    .dataframe thead th {\n",
       "        text-align: right;\n",
       "    }\n",
       "</style>\n",
       "<table border=\"1\" class=\"dataframe\">\n",
       "  <thead>\n",
       "    <tr style=\"text-align: right;\">\n",
       "      <th></th>\n",
       "      <th>image</th>\n",
       "      <th>labels</th>\n",
       "      <th>time</th>\n",
       "    </tr>\n",
       "  </thead>\n",
       "  <tbody>\n",
       "    <tr>\n",
       "      <th>0</th>\n",
       "      <td>images\\1999\\ene\\p0131991.jpg</td>\n",
       "      <td></td>\n",
       "      <td></td>\n",
       "    </tr>\n",
       "    <tr>\n",
       "      <th>1</th>\n",
       "      <td>images\\1999\\ene\\p0131992.jpg</td>\n",
       "      <td></td>\n",
       "      <td></td>\n",
       "    </tr>\n",
       "    <tr>\n",
       "      <th>2</th>\n",
       "      <td>images\\1999\\ene\\p0131993.jpg</td>\n",
       "      <td></td>\n",
       "      <td></td>\n",
       "    </tr>\n",
       "    <tr>\n",
       "      <th>3</th>\n",
       "      <td>images\\1999\\ene\\p0131994.jpg</td>\n",
       "      <td></td>\n",
       "      <td></td>\n",
       "    </tr>\n",
       "    <tr>\n",
       "      <th>4</th>\n",
       "      <td>images\\1999\\ene\\p0131995.jpg</td>\n",
       "      <td></td>\n",
       "      <td></td>\n",
       "    </tr>\n",
       "    <tr>\n",
       "      <th>...</th>\n",
       "      <td>...</td>\n",
       "      <td>...</td>\n",
       "      <td>...</td>\n",
       "    </tr>\n",
       "    <tr>\n",
       "      <th>20163</th>\n",
       "      <td>images\\2024\\image_95.jpg</td>\n",
       "      <td></td>\n",
       "      <td></td>\n",
       "    </tr>\n",
       "    <tr>\n",
       "      <th>20164</th>\n",
       "      <td>images\\2024\\image_96.jpg</td>\n",
       "      <td></td>\n",
       "      <td></td>\n",
       "    </tr>\n",
       "    <tr>\n",
       "      <th>20165</th>\n",
       "      <td>images\\2024\\image_97.jpg</td>\n",
       "      <td></td>\n",
       "      <td></td>\n",
       "    </tr>\n",
       "    <tr>\n",
       "      <th>20166</th>\n",
       "      <td>images\\2024\\image_98.jpg</td>\n",
       "      <td></td>\n",
       "      <td></td>\n",
       "    </tr>\n",
       "    <tr>\n",
       "      <th>20167</th>\n",
       "      <td>images\\2024\\image_99.jpg</td>\n",
       "      <td></td>\n",
       "      <td></td>\n",
       "    </tr>\n",
       "  </tbody>\n",
       "</table>\n",
       "<p>20168 rows × 3 columns</p>\n",
       "</div>"
      ],
      "text/plain": [
       "                              image labels time\n",
       "0      images\\1999\\ene\\p0131991.jpg            \n",
       "1      images\\1999\\ene\\p0131992.jpg            \n",
       "2      images\\1999\\ene\\p0131993.jpg            \n",
       "3      images\\1999\\ene\\p0131994.jpg            \n",
       "4      images\\1999\\ene\\p0131995.jpg            \n",
       "...                             ...    ...  ...\n",
       "20163      images\\2024\\image_95.jpg            \n",
       "20164      images\\2024\\image_96.jpg            \n",
       "20165      images\\2024\\image_97.jpg            \n",
       "20166      images\\2024\\image_98.jpg            \n",
       "20167      images\\2024\\image_99.jpg            \n",
       "\n",
       "[20168 rows x 3 columns]"
      ]
     },
     "execution_count": 4,
     "metadata": {},
     "output_type": "execute_result"
    }
   ],
   "source": [
    "empty=np.full(len(image_paths), \"\")\n",
    "df = pd.DataFrame([image_paths]+[empty]+[empty]).T\n",
    "df.columns=[\"image\", \"labels\", \"time\"]\n",
    "df.drop_duplicates(inplace=True)\n",
    "df"
   ]
  },
  {
   "cell_type": "code",
   "execution_count": 5,
   "id": "80377c06-a162-413a-b90b-112036b12de1",
   "metadata": {},
   "outputs": [
    {
     "data": {
      "text/html": [
       "<div>\n",
       "<style scoped>\n",
       "    .dataframe tbody tr th:only-of-type {\n",
       "        vertical-align: middle;\n",
       "    }\n",
       "\n",
       "    .dataframe tbody tr th {\n",
       "        vertical-align: top;\n",
       "    }\n",
       "\n",
       "    .dataframe thead th {\n",
       "        text-align: right;\n",
       "    }\n",
       "</style>\n",
       "<table border=\"1\" class=\"dataframe\">\n",
       "  <thead>\n",
       "    <tr style=\"text-align: right;\">\n",
       "      <th></th>\n",
       "      <th>image</th>\n",
       "      <th>labels</th>\n",
       "      <th>time</th>\n",
       "    </tr>\n",
       "  </thead>\n",
       "  <tbody>\n",
       "  </tbody>\n",
       "</table>\n",
       "</div>"
      ],
      "text/plain": [
       "Empty DataFrame\n",
       "Columns: [image, labels, time]\n",
       "Index: []"
      ]
     },
     "execution_count": 5,
     "metadata": {},
     "output_type": "execute_result"
    }
   ],
   "source": [
    "df[df[\"image\"].str.contains(\"ipynb\")]"
   ]
  },
  {
   "cell_type": "code",
   "execution_count": 6,
   "id": "41f43165-7d93-40cc-a2ce-82a537535851",
   "metadata": {},
   "outputs": [],
   "source": [
    "df.drop(df[df[\"image\"].str.contains(\"ipynb\")].index, inplace=True)"
   ]
  },
  {
   "cell_type": "code",
   "execution_count": 7,
   "id": "1b85990b-cda8-4bd3-92ad-7dcb166e2f02",
   "metadata": {},
   "outputs": [
    {
     "data": {
      "text/plain": [
       "(20168, 3)"
      ]
     },
     "execution_count": 7,
     "metadata": {},
     "output_type": "execute_result"
    }
   ],
   "source": [
    "df.shape"
   ]
  },
  {
   "cell_type": "code",
   "execution_count": 8,
   "id": "71865f57-1dff-4ac7-aca6-7afb8ed067f0",
   "metadata": {},
   "outputs": [],
   "source": [
    "df.to_feather(\"data/stage1.feather\")"
   ]
  },
  {
   "cell_type": "code",
   "execution_count": null,
   "id": "bc32bbec-3d93-4412-8ad3-6e70d00dba5e",
   "metadata": {},
   "outputs": [],
   "source": []
  }
 ],
 "metadata": {
  "kernelspec": {
   "display_name": "Python 3 (ipykernel)",
   "language": "python",
   "name": "python3"
  },
  "language_info": {
   "codemirror_mode": {
    "name": "ipython",
    "version": 3
   },
   "file_extension": ".py",
   "mimetype": "text/x-python",
   "name": "python",
   "nbconvert_exporter": "python",
   "pygments_lexer": "ipython3",
   "version": "3.11.9"
  }
 },
 "nbformat": 4,
 "nbformat_minor": 5
}

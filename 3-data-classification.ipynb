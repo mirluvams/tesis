{
 "cells": [
  {
   "cell_type": "code",
   "execution_count": 1,
   "id": "7e0b944c-98e0-428f-8471-373da2a7fba5",
   "metadata": {},
   "outputs": [
    {
     "ename": "ModuleNotFoundError",
     "evalue": "No module named 'PySide6'",
     "output_type": "error",
     "traceback": [
      "\u001b[0;31m---------------------------------------------------------------------------\u001b[0m",
      "\u001b[0;31mModuleNotFoundError\u001b[0m                       Traceback (most recent call last)",
      "Cell \u001b[0;32mIn[1], line 3\u001b[0m\n\u001b[1;32m      1\u001b[0m \u001b[38;5;28;01mimport\u001b[39;00m \u001b[38;5;21;01msys\u001b[39;00m\n\u001b[1;32m      2\u001b[0m \u001b[38;5;28;01mimport\u001b[39;00m \u001b[38;5;21;01mrandom\u001b[39;00m\n\u001b[0;32m----> 3\u001b[0m \u001b[38;5;28;01mimport\u001b[39;00m \u001b[38;5;21;01mPySide6\u001b[39;00m\n\u001b[1;32m      4\u001b[0m \u001b[38;5;28;01mfrom\u001b[39;00m \u001b[38;5;21;01mPySide6\u001b[39;00m \u001b[38;5;28;01mimport\u001b[39;00m QtCore, QtWidgets, QtGui\n\u001b[1;32m      5\u001b[0m \u001b[38;5;28;01mfrom\u001b[39;00m \u001b[38;5;21;01mPySide6\u001b[39;00m\u001b[38;5;21;01m.\u001b[39;00m\u001b[38;5;21;01mQtWidgets\u001b[39;00m \u001b[38;5;28;01mimport\u001b[39;00m \u001b[38;5;241m*\u001b[39m\n",
      "\u001b[0;31mModuleNotFoundError\u001b[0m: No module named 'PySide6'"
     ]
    }
   ],
   "source": [
    "import sys\n",
    "import random\n",
    "import PySide6\n",
    "from PySide6 import QtCore, QtWidgets, QtGui\n",
    "from PySide6.QtWidgets import *\n",
    "from PySide6.QtCore import Qt\n",
    "from PySide6.QtGui import QPalette, QColor\n",
    "import numpy as np\n",
    "import pandas as pd\n"
   ]
  },
  {
   "cell_type": "code",
   "execution_count": 20,
   "id": "2ad46f3f-8091-4e3a-ac05-41e2af2b240a",
   "metadata": {},
   "outputs": [],
   "source": [
    "data=None\n",
    "\n",
    "try:\n",
    "    data=pd.read_feather(\"data/stage3_partial.feather\")\n",
    "except:\n",
    "    try:\n",
    "        print(\"Loading backup, main data corrupted.\")\n",
    "        data=pd.read_feather(\"data/stage3_partial.backup.feather\")\n",
    "    except:\n",
    "        print(\"Loading stage 1, main data & backup corrupted.\")\n",
    "        data=pd.read_feather(\"data/stage2.feather\")\n"
   ]
  },
  {
   "cell_type": "code",
   "execution_count": 21,
   "id": "02db2483-fc41-435a-b7e7-2fab6ee60229",
   "metadata": {},
   "outputs": [
    {
     "name": "stdout",
     "output_type": "stream",
     "text": [
      "<class 'pandas.core.frame.DataFrame'>\n",
      "Index: 18901 entries, 0 to 19287\n",
      "Data columns (total 4 columns):\n",
      " #   Column     Non-Null Count  Dtype  \n",
      "---  ------     --------------  -----  \n",
      " 0   path       18901 non-null  object \n",
      " 1   class      18901 non-null  object \n",
      " 2   predicted  18901 non-null  object \n",
      " 3   certainty  18901 non-null  float32\n",
      "dtypes: float32(1), object(3)\n",
      "memory usage: 664.5+ KB\n"
     ]
    }
   ],
   "source": [
    "data.info()"
   ]
  },
  {
   "cell_type": "code",
   "execution_count": 22,
   "id": "31f6203b-3ce1-4d9b-8254-6546044683f2",
   "metadata": {},
   "outputs": [],
   "source": [
    "def save(is_backup=False):\n",
    "    data.to_feather(f\"data/stage3_partial{'.backup' if is_backup else ''}.feather\")\n",
    "save(True)"
   ]
  },
  {
   "cell_type": "code",
   "execution_count": 23,
   "id": "79369f5c-765f-45ce-8692-18ce0c565d7a",
   "metadata": {},
   "outputs": [
    {
     "data": {
      "text/plain": [
       "Index([  395,   397,   399,   400,   402,   403,   405,   406,   407,   408,\n",
       "       ...\n",
       "       19278, 19279, 19280, 19281, 19282, 19283, 19284, 19285, 19286, 19287],\n",
       "      dtype='int64', length=1420)"
      ]
     },
     "execution_count": 23,
     "metadata": {},
     "output_type": "execute_result"
    }
   ],
   "source": [
    "data[data[\"class\"]==\"\"].index"
   ]
  },
  {
   "cell_type": "code",
   "execution_count": 63,
   "id": "0352b4fd-d98b-4582-be26-7fc04d60c2a5",
   "metadata": {},
   "outputs": [],
   "source": [
    "def get_next():\n",
    "    idx=data[data[\"class\"]==\"\"].index\n",
    "    if(idx.shape[0]==0):\n",
    "        return None, 0, None\n",
    "    return idx[0],idx.shape[0], data.loc[idx[0]]"
   ]
  },
  {
   "cell_type": "code",
   "execution_count": 64,
   "id": "750a62ee-a426-43d8-8700-b990d13c20e1",
   "metadata": {},
   "outputs": [],
   "source": [
    "next_idx,remainder,row=get_next()"
   ]
  },
  {
   "cell_type": "code",
   "execution_count": 65,
   "id": "0fed5722-5a35-4b04-830d-3ad0ad5e438b",
   "metadata": {},
   "outputs": [],
   "source": [
    "def safe_update(idx, value):\n",
    "    save(True)\n",
    "    data.loc[idx,\"class\"]=value\n",
    "    save(False) "
   ]
  },
  {
   "cell_type": "code",
   "execution_count": 66,
   "id": "4ee91f47-b83e-491a-a6cb-95a6f5ef2d29",
   "metadata": {},
   "outputs": [],
   "source": [
    "keys = [\"UNKNOWN\", \"INACTIVE\", \"WITH_FUME\", \"WITH_EXPLOSION\", \"WITH_FUME_AND_EXPLOSION\"]\n",
    "labels = {\n",
    "    keys[0]:\"No es el volcán\",\n",
    "    keys[1]:\"El volcán está inactivo\",\n",
    "    keys[2]:\"El volcán tiene una fumarola\",\n",
    "    keys[3]:\"El volcán hace explosión\",\n",
    "    keys[4]:\"El volcán tiene una fumarola y hace explosión\",\n",
    "}"
   ]
  },
  {
   "cell_type": "code",
   "execution_count": 67,
   "id": "68eb7d5a-52a3-4ef5-b2f2-2334b1b20ee0",
   "metadata": {},
   "outputs": [],
   "source": [
    "window=None"
   ]
  },
  {
   "cell_type": "code",
   "execution_count": 68,
   "id": "1c18baa3-8f94-4c05-8da0-f82586c2294e",
   "metadata": {},
   "outputs": [],
   "source": [
    "class ImageDisplay(QWidget):\n",
    "\n",
    "    def loadpixmap(self, path):\n",
    "        self.pixmap=QtGui.QPixmap(path)#.scaledToHeight(self.geometry().width())\n",
    "        self.label.setPixmap(self.pixmap)\n",
    "        \n",
    "    def __init__(self, path = \"\"):\n",
    "        super().__init__()\n",
    "        label=QLabel()\n",
    "        label.setAlignment(Qt.Alignment.AlignCenter)\n",
    "        label.setScaledContents(True)\n",
    "        self.label=label\n",
    "        self.loadpixmap(path)\n",
    "        \n",
    "        self.layout=QGridLayout()\n",
    "        self.layout.addWidget(label, 0,0)\n",
    "        self.setLayout(self.layout)"
   ]
  },
  {
   "cell_type": "code",
   "execution_count": 69,
   "id": "9ac132db-bfad-40de-89f1-7d9344994157",
   "metadata": {},
   "outputs": [],
   "source": [
    "class DataLayout(QWidget):\n",
    "\n",
    "    def button_pressed(self, key):\n",
    "        global next_idx,remainder,row\n",
    "        \"\"\"\n",
    "        safe_update(next_idx, self.values)\n",
    "        next_idx,remainder,row=get_next()\n",
    "        window.image.loadpixmap(row[\"path\"])\n",
    "        #for slider in self.sliders:\n",
    "        #    slider.setValue(0)\n",
    "        self.values=[]\n",
    "        for slider in self.sliders:\n",
    "            self.values.append(slider.value())\n",
    "        self.progress.setText(f\"Remaining: {remainder} ({100*(remainder/data.shape[0]):.02F}%) Suggested: {row['predicted']} {row['certainty']*100:.02F}%\")\n",
    "        #window.close()\n",
    "        \"\"\"\n",
    "        safe_update(next_idx,key)\n",
    "        next_idx,remainder,row=get_next()\n",
    "        window.image.loadpixmap(row[\"path\"])\n",
    "        self.progress.setText(f\"Remaining: {remainder} ({100*(remainder/data.shape[0]):.02F}%) Suggested: {row['predicted']} {row['certainty']*100:.02F}%\")\n",
    "\n",
    "\n",
    "    def get_callback(self,key):\n",
    "        return lambda: self.button_pressed(key)\n",
    "    \n",
    "    def __init__(self):\n",
    "        super().__init__()\n",
    "        self.setMinimumWidth(600)\n",
    "        self.setMaximumWidth(600)\n",
    "        layout=QVBoxLayout()\n",
    "\n",
    "        self.progress = QLabel(f\"Remaining: {remainder} ({100*(remainder/data.shape[0]):.02F}%) Suggested: {row['predicted']} {row['certainty']*100:.02F}%\")\n",
    "        self.progress.setMaximumHeight(50)\n",
    "        self.progress.setAlignment(Qt.Alignment.AlignCenter)\n",
    "        layout.addWidget(self.progress)\n",
    "        \n",
    "        for i,key in enumerate(keys):\n",
    "            button=QPushButton(labels[key])\n",
    "            button.setMinimumHeight(50)\n",
    "            # set specific key, force it to stay fixed each loop\n",
    "            button.clicked.connect(self.get_callback(key))\n",
    "            layout.addWidget(button)\n",
    "            \n",
    "        self.setLayout(layout)"
   ]
  },
  {
   "cell_type": "code",
   "execution_count": 70,
   "id": "f83fb461-e0e9-4bbf-8850-755b957ecca8",
   "metadata": {},
   "outputs": [],
   "source": [
    "class MainWindow(QMainWindow):\n",
    "\n",
    "    def __init__(self):\n",
    "        super(MainWindow, self).__init__()\n",
    "\n",
    "        self.setWindowTitle(\"Classifier\")\n",
    "\n",
    "        layout = QHBoxLayout()\n",
    "        left = ImageDisplay(row[\"path\"])\n",
    "        right= DataLayout()\n",
    "\n",
    "        self.data=right\n",
    "        self.image=left\n",
    "\n",
    "        layout.addWidget(left)\n",
    "        layout.addWidget(right)\n",
    "\n",
    "        widget = QWidget()\n",
    "        widget.setLayout(layout)\n",
    "        self.setCentralWidget(widget)"
   ]
  },
  {
   "cell_type": "code",
   "execution_count": 71,
   "id": "8cd6ff97-a2a2-4ae0-8dcb-b276642adc47",
   "metadata": {},
   "outputs": [
    {
     "ename": "TypeError",
     "evalue": "'NoneType' object is not subscriptable",
     "output_type": "error",
     "traceback": [
      "\u001b[1;31m---------------------------------------------------------------------------\u001b[0m",
      "\u001b[1;31mTypeError\u001b[0m                                 Traceback (most recent call last)",
      "Cell \u001b[1;32mIn[69], line 24\u001b[0m, in \u001b[0;36mDataLayout.get_callback.<locals>.<lambda>\u001b[1;34m()\u001b[0m\n\u001b[0;32m     23\u001b[0m \u001b[38;5;28;01mdef\u001b[39;00m \u001b[38;5;21mget_callback\u001b[39m(\u001b[38;5;28mself\u001b[39m,key):\n\u001b[1;32m---> 24\u001b[0m     \u001b[38;5;28;01mreturn\u001b[39;00m \u001b[38;5;28;01mlambda\u001b[39;00m: \u001b[38;5;28;43mself\u001b[39;49m\u001b[38;5;241;43m.\u001b[39;49m\u001b[43mbutton_pressed\u001b[49m\u001b[43m(\u001b[49m\u001b[43mkey\u001b[49m\u001b[43m)\u001b[49m\n",
      "Cell \u001b[1;32mIn[69], line 19\u001b[0m, in \u001b[0;36mDataLayout.button_pressed\u001b[1;34m(self, key)\u001b[0m\n\u001b[0;32m     17\u001b[0m safe_update(next_idx,key)\n\u001b[0;32m     18\u001b[0m next_idx,remainder,row\u001b[38;5;241m=\u001b[39mget_next()\n\u001b[1;32m---> 19\u001b[0m window\u001b[38;5;241m.\u001b[39mimage\u001b[38;5;241m.\u001b[39mloadpixmap(\u001b[43mrow\u001b[49m\u001b[43m[\u001b[49m\u001b[38;5;124;43m\"\u001b[39;49m\u001b[38;5;124;43mpath\u001b[39;49m\u001b[38;5;124;43m\"\u001b[39;49m\u001b[43m]\u001b[49m)\n\u001b[0;32m     20\u001b[0m \u001b[38;5;28mself\u001b[39m\u001b[38;5;241m.\u001b[39mprogress\u001b[38;5;241m.\u001b[39msetText(\u001b[38;5;124mf\u001b[39m\u001b[38;5;124m\"\u001b[39m\u001b[38;5;124mRemaining: \u001b[39m\u001b[38;5;132;01m{\u001b[39;00mremainder\u001b[38;5;132;01m}\u001b[39;00m\u001b[38;5;124m (\u001b[39m\u001b[38;5;132;01m{\u001b[39;00m\u001b[38;5;241m100\u001b[39m\u001b[38;5;241m*\u001b[39m(remainder\u001b[38;5;241m/\u001b[39mdata\u001b[38;5;241m.\u001b[39mshape[\u001b[38;5;241m0\u001b[39m])\u001b[38;5;132;01m:\u001b[39;00m\u001b[38;5;124m.02F\u001b[39m\u001b[38;5;132;01m}\u001b[39;00m\u001b[38;5;124m%) Suggested: \u001b[39m\u001b[38;5;132;01m{\u001b[39;00mrow[\u001b[38;5;124m'\u001b[39m\u001b[38;5;124mpredicted\u001b[39m\u001b[38;5;124m'\u001b[39m]\u001b[38;5;132;01m}\u001b[39;00m\u001b[38;5;124m \u001b[39m\u001b[38;5;132;01m{\u001b[39;00mrow[\u001b[38;5;124m'\u001b[39m\u001b[38;5;124mcertainty\u001b[39m\u001b[38;5;124m'\u001b[39m]\u001b[38;5;241m*\u001b[39m\u001b[38;5;241m100\u001b[39m\u001b[38;5;132;01m:\u001b[39;00m\u001b[38;5;124m.02F\u001b[39m\u001b[38;5;132;01m}\u001b[39;00m\u001b[38;5;124m%\u001b[39m\u001b[38;5;124m\"\u001b[39m)\n",
      "\u001b[1;31mTypeError\u001b[0m: 'NoneType' object is not subscriptable"
     ]
    },
    {
     "ename": "KeyError",
     "evalue": "None",
     "output_type": "error",
     "traceback": [
      "\u001b[1;31m---------------------------------------------------------------------------\u001b[0m",
      "\u001b[1;31mKeyError\u001b[0m                                  Traceback (most recent call last)",
      "File \u001b[1;32m~\\AppData\\Local\\Programs\\Python\\Python311\\Lib\\site-packages\\pandas\\core\\indexes\\base.py:3805\u001b[0m, in \u001b[0;36mIndex.get_loc\u001b[1;34m(self, key)\u001b[0m\n\u001b[0;32m   3804\u001b[0m \u001b[38;5;28;01mtry\u001b[39;00m:\n\u001b[1;32m-> 3805\u001b[0m     \u001b[38;5;28;01mreturn\u001b[39;00m \u001b[38;5;28;43mself\u001b[39;49m\u001b[38;5;241;43m.\u001b[39;49m\u001b[43m_engine\u001b[49m\u001b[38;5;241;43m.\u001b[39;49m\u001b[43mget_loc\u001b[49m\u001b[43m(\u001b[49m\u001b[43mcasted_key\u001b[49m\u001b[43m)\u001b[49m\n\u001b[0;32m   3806\u001b[0m \u001b[38;5;28;01mexcept\u001b[39;00m \u001b[38;5;167;01mKeyError\u001b[39;00m \u001b[38;5;28;01mas\u001b[39;00m err:\n",
      "File \u001b[1;32mindex.pyx:167\u001b[0m, in \u001b[0;36mpandas._libs.index.IndexEngine.get_loc\u001b[1;34m()\u001b[0m\n",
      "File \u001b[1;32mindex.pyx:175\u001b[0m, in \u001b[0;36mpandas._libs.index.IndexEngine.get_loc\u001b[1;34m()\u001b[0m\n",
      "File \u001b[1;32mpandas\\\\_libs\\\\index_class_helper.pxi:19\u001b[0m, in \u001b[0;36mpandas._libs.index.Float64Engine._check_type\u001b[1;34m()\u001b[0m\n",
      "\u001b[1;31mKeyError\u001b[0m: None",
      "\nThe above exception was the direct cause of the following exception:\n",
      "\u001b[1;31mKeyError\u001b[0m                                  Traceback (most recent call last)",
      "Cell \u001b[1;32mIn[69], line 24\u001b[0m, in \u001b[0;36mDataLayout.get_callback.<locals>.<lambda>\u001b[1;34m()\u001b[0m\n\u001b[0;32m     23\u001b[0m \u001b[38;5;28;01mdef\u001b[39;00m \u001b[38;5;21mget_callback\u001b[39m(\u001b[38;5;28mself\u001b[39m,key):\n\u001b[1;32m---> 24\u001b[0m     \u001b[38;5;28;01mreturn\u001b[39;00m \u001b[38;5;28;01mlambda\u001b[39;00m: \u001b[38;5;28;43mself\u001b[39;49m\u001b[38;5;241;43m.\u001b[39;49m\u001b[43mbutton_pressed\u001b[49m\u001b[43m(\u001b[49m\u001b[43mkey\u001b[49m\u001b[43m)\u001b[49m\n",
      "Cell \u001b[1;32mIn[69], line 17\u001b[0m, in \u001b[0;36mDataLayout.button_pressed\u001b[1;34m(self, key)\u001b[0m\n\u001b[0;32m      4\u001b[0m \u001b[38;5;28;01mglobal\u001b[39;00m next_idx,remainder,row\n\u001b[0;32m      5\u001b[0m \u001b[38;5;250m\u001b[39m\u001b[38;5;124;03m\"\"\"\u001b[39;00m\n\u001b[0;32m      6\u001b[0m \u001b[38;5;124;03msafe_update(next_idx, self.values)\u001b[39;00m\n\u001b[0;32m      7\u001b[0m \u001b[38;5;124;03mnext_idx,remainder,row=get_next()\u001b[39;00m\n\u001b[1;32m   (...)\u001b[0m\n\u001b[0;32m     15\u001b[0m \u001b[38;5;124;03m#window.close()\u001b[39;00m\n\u001b[0;32m     16\u001b[0m \u001b[38;5;124;03m\"\"\"\u001b[39;00m\n\u001b[1;32m---> 17\u001b[0m \u001b[43msafe_update\u001b[49m\u001b[43m(\u001b[49m\u001b[43mnext_idx\u001b[49m\u001b[43m,\u001b[49m\u001b[43mkey\u001b[49m\u001b[43m)\u001b[49m\n\u001b[0;32m     18\u001b[0m next_idx,remainder,row\u001b[38;5;241m=\u001b[39mget_next()\n\u001b[0;32m     19\u001b[0m window\u001b[38;5;241m.\u001b[39mimage\u001b[38;5;241m.\u001b[39mloadpixmap(row[\u001b[38;5;124m\"\u001b[39m\u001b[38;5;124mpath\u001b[39m\u001b[38;5;124m\"\u001b[39m])\n",
      "Cell \u001b[1;32mIn[65], line 3\u001b[0m, in \u001b[0;36msafe_update\u001b[1;34m(idx, value)\u001b[0m\n\u001b[0;32m      1\u001b[0m \u001b[38;5;28;01mdef\u001b[39;00m \u001b[38;5;21msafe_update\u001b[39m(idx, value):\n\u001b[0;32m      2\u001b[0m     save(\u001b[38;5;28;01mTrue\u001b[39;00m)\n\u001b[1;32m----> 3\u001b[0m     \u001b[43mdata\u001b[49m\u001b[38;5;241;43m.\u001b[39;49m\u001b[43mloc\u001b[49m\u001b[43m[\u001b[49m\u001b[43midx\u001b[49m\u001b[43m,\u001b[49m\u001b[38;5;124;43m\"\u001b[39;49m\u001b[38;5;124;43mclass\u001b[39;49m\u001b[38;5;124;43m\"\u001b[39;49m\u001b[43m]\u001b[49m\u001b[38;5;241m=\u001b[39mvalue\n\u001b[0;32m      4\u001b[0m     save(\u001b[38;5;28;01mFalse\u001b[39;00m)\n",
      "File \u001b[1;32m~\\AppData\\Local\\Programs\\Python\\Python311\\Lib\\site-packages\\pandas\\core\\indexing.py:911\u001b[0m, in \u001b[0;36m_LocationIndexer.__setitem__\u001b[1;34m(self, key, value)\u001b[0m\n\u001b[0;32m    908\u001b[0m \u001b[38;5;28mself\u001b[39m\u001b[38;5;241m.\u001b[39m_has_valid_setitem_indexer(key)\n\u001b[0;32m    910\u001b[0m iloc \u001b[38;5;241m=\u001b[39m \u001b[38;5;28mself\u001b[39m \u001b[38;5;28;01mif\u001b[39;00m \u001b[38;5;28mself\u001b[39m\u001b[38;5;241m.\u001b[39mname \u001b[38;5;241m==\u001b[39m \u001b[38;5;124m\"\u001b[39m\u001b[38;5;124miloc\u001b[39m\u001b[38;5;124m\"\u001b[39m \u001b[38;5;28;01melse\u001b[39;00m \u001b[38;5;28mself\u001b[39m\u001b[38;5;241m.\u001b[39mobj\u001b[38;5;241m.\u001b[39miloc\n\u001b[1;32m--> 911\u001b[0m \u001b[43miloc\u001b[49m\u001b[38;5;241;43m.\u001b[39;49m\u001b[43m_setitem_with_indexer\u001b[49m\u001b[43m(\u001b[49m\u001b[43mindexer\u001b[49m\u001b[43m,\u001b[49m\u001b[43m \u001b[49m\u001b[43mvalue\u001b[49m\u001b[43m,\u001b[49m\u001b[43m \u001b[49m\u001b[38;5;28;43mself\u001b[39;49m\u001b[38;5;241;43m.\u001b[39;49m\u001b[43mname\u001b[49m\u001b[43m)\u001b[49m\n",
      "File \u001b[1;32m~\\AppData\\Local\\Programs\\Python\\Python311\\Lib\\site-packages\\pandas\\core\\indexing.py:1922\u001b[0m, in \u001b[0;36m_iLocIndexer._setitem_with_indexer\u001b[1;34m(self, indexer, value, name)\u001b[0m\n\u001b[0;32m   1919\u001b[0m     \u001b[38;5;28mself\u001b[39m\u001b[38;5;241m.\u001b[39mobj\u001b[38;5;241m.\u001b[39m_maybe_update_cacher(clear\u001b[38;5;241m=\u001b[39m\u001b[38;5;28;01mTrue\u001b[39;00m)\n\u001b[0;32m   1920\u001b[0m     \u001b[38;5;28mself\u001b[39m\u001b[38;5;241m.\u001b[39mobj\u001b[38;5;241m.\u001b[39m_is_copy \u001b[38;5;241m=\u001b[39m \u001b[38;5;28;01mNone\u001b[39;00m\n\u001b[1;32m-> 1922\u001b[0m     nindexer\u001b[38;5;241m.\u001b[39mappend(\u001b[43mlabels\u001b[49m\u001b[38;5;241;43m.\u001b[39;49m\u001b[43mget_loc\u001b[49m\u001b[43m(\u001b[49m\u001b[43mkey\u001b[49m\u001b[43m)\u001b[49m)\n\u001b[0;32m   1924\u001b[0m \u001b[38;5;28;01melse\u001b[39;00m:\n\u001b[0;32m   1925\u001b[0m     nindexer\u001b[38;5;241m.\u001b[39mappend(idx)\n",
      "File \u001b[1;32m~\\AppData\\Local\\Programs\\Python\\Python311\\Lib\\site-packages\\pandas\\core\\indexes\\base.py:3812\u001b[0m, in \u001b[0;36mIndex.get_loc\u001b[1;34m(self, key)\u001b[0m\n\u001b[0;32m   3807\u001b[0m     \u001b[38;5;28;01mif\u001b[39;00m \u001b[38;5;28misinstance\u001b[39m(casted_key, \u001b[38;5;28mslice\u001b[39m) \u001b[38;5;129;01mor\u001b[39;00m (\n\u001b[0;32m   3808\u001b[0m         \u001b[38;5;28misinstance\u001b[39m(casted_key, abc\u001b[38;5;241m.\u001b[39mIterable)\n\u001b[0;32m   3809\u001b[0m         \u001b[38;5;129;01mand\u001b[39;00m \u001b[38;5;28many\u001b[39m(\u001b[38;5;28misinstance\u001b[39m(x, \u001b[38;5;28mslice\u001b[39m) \u001b[38;5;28;01mfor\u001b[39;00m x \u001b[38;5;129;01min\u001b[39;00m casted_key)\n\u001b[0;32m   3810\u001b[0m     ):\n\u001b[0;32m   3811\u001b[0m         \u001b[38;5;28;01mraise\u001b[39;00m InvalidIndexError(key)\n\u001b[1;32m-> 3812\u001b[0m     \u001b[38;5;28;01mraise\u001b[39;00m \u001b[38;5;167;01mKeyError\u001b[39;00m(key) \u001b[38;5;28;01mfrom\u001b[39;00m \u001b[38;5;21;01merr\u001b[39;00m\n\u001b[0;32m   3813\u001b[0m \u001b[38;5;28;01mexcept\u001b[39;00m \u001b[38;5;167;01mTypeError\u001b[39;00m:\n\u001b[0;32m   3814\u001b[0m     \u001b[38;5;66;03m# If we have a listlike key, _check_indexing_error will raise\u001b[39;00m\n\u001b[0;32m   3815\u001b[0m     \u001b[38;5;66;03m#  InvalidIndexError. Otherwise we fall through and re-raise\u001b[39;00m\n\u001b[0;32m   3816\u001b[0m     \u001b[38;5;66;03m#  the TypeError.\u001b[39;00m\n\u001b[0;32m   3817\u001b[0m     \u001b[38;5;28mself\u001b[39m\u001b[38;5;241m.\u001b[39m_check_indexing_error(key)\n",
      "\u001b[1;31mKeyError\u001b[0m: None"
     ]
    }
   ],
   "source": [
    "if __name__ == \"__main__\" and remainder>0:\n",
    "    if not QtWidgets.QApplication.instance():\n",
    "        app = QtWidgets.QApplication([])\n",
    "    else:\n",
    "        app = QtWidgets.QApplication.instance()\n",
    "    font=QtGui.QFont(\"Segoe UI\", 14)\n",
    "    app.setFont(font)\n",
    "    app.setStyle(QStyleFactory.create(\"windows\"))\n",
    "    window = MainWindow()\n",
    "    window.showMaximized()\n",
    "\n",
    "    app.exec()"
   ]
  },
  {
   "cell_type": "code",
   "execution_count": 60,
   "id": "62d41279-eae8-4730-acd8-d12060e87628",
   "metadata": {},
   "outputs": [
    {
     "data": {
      "text/html": [
       "<div>\n",
       "<style scoped>\n",
       "    .dataframe tbody tr th:only-of-type {\n",
       "        vertical-align: middle;\n",
       "    }\n",
       "\n",
       "    .dataframe tbody tr th {\n",
       "        vertical-align: top;\n",
       "    }\n",
       "\n",
       "    .dataframe thead th {\n",
       "        text-align: right;\n",
       "    }\n",
       "</style>\n",
       "<table border=\"1\" class=\"dataframe\">\n",
       "  <thead>\n",
       "    <tr style=\"text-align: right;\">\n",
       "      <th></th>\n",
       "      <th>count</th>\n",
       "      <th>mean</th>\n",
       "      <th>std</th>\n",
       "      <th>min</th>\n",
       "      <th>25%</th>\n",
       "      <th>50%</th>\n",
       "      <th>75%</th>\n",
       "      <th>max</th>\n",
       "    </tr>\n",
       "    <tr>\n",
       "      <th>predicted</th>\n",
       "      <th></th>\n",
       "      <th></th>\n",
       "      <th></th>\n",
       "      <th></th>\n",
       "      <th></th>\n",
       "      <th></th>\n",
       "      <th></th>\n",
       "      <th></th>\n",
       "    </tr>\n",
       "  </thead>\n",
       "  <tbody>\n",
       "    <tr>\n",
       "      <th>EXP</th>\n",
       "      <td>241.0</td>\n",
       "      <td>0.902565</td>\n",
       "      <td>0.151383</td>\n",
       "      <td>0.413489</td>\n",
       "      <td>0.865470</td>\n",
       "      <td>0.990975</td>\n",
       "      <td>0.999591</td>\n",
       "      <td>0.999999</td>\n",
       "    </tr>\n",
       "    <tr>\n",
       "      <th>EXP+FUM</th>\n",
       "      <td>7100.0</td>\n",
       "      <td>0.985119</td>\n",
       "      <td>0.062001</td>\n",
       "      <td>0.364781</td>\n",
       "      <td>0.999202</td>\n",
       "      <td>0.999958</td>\n",
       "      <td>0.999996</td>\n",
       "      <td>1.000000</td>\n",
       "    </tr>\n",
       "    <tr>\n",
       "      <th>FUM</th>\n",
       "      <td>8325.0</td>\n",
       "      <td>0.984883</td>\n",
       "      <td>0.061563</td>\n",
       "      <td>0.374945</td>\n",
       "      <td>0.999083</td>\n",
       "      <td>0.999955</td>\n",
       "      <td>0.999997</td>\n",
       "      <td>1.000000</td>\n",
       "    </tr>\n",
       "    <tr>\n",
       "      <th>INA</th>\n",
       "      <td>2734.0</td>\n",
       "      <td>0.981509</td>\n",
       "      <td>0.065010</td>\n",
       "      <td>0.444901</td>\n",
       "      <td>0.998364</td>\n",
       "      <td>0.999956</td>\n",
       "      <td>0.999998</td>\n",
       "      <td>1.000000</td>\n",
       "    </tr>\n",
       "    <tr>\n",
       "      <th>UNK</th>\n",
       "      <td>501.0</td>\n",
       "      <td>0.929717</td>\n",
       "      <td>0.133045</td>\n",
       "      <td>0.354192</td>\n",
       "      <td>0.955269</td>\n",
       "      <td>0.991641</td>\n",
       "      <td>0.997389</td>\n",
       "      <td>0.998998</td>\n",
       "    </tr>\n",
       "  </tbody>\n",
       "</table>\n",
       "</div>"
      ],
      "text/plain": [
       "            count      mean       std       min       25%       50%       75%  \\\n",
       "predicted                                                                       \n",
       "EXP         241.0  0.902565  0.151383  0.413489  0.865470  0.990975  0.999591   \n",
       "EXP+FUM    7100.0  0.985119  0.062001  0.364781  0.999202  0.999958  0.999996   \n",
       "FUM        8325.0  0.984883  0.061563  0.374945  0.999083  0.999955  0.999997   \n",
       "INA        2734.0  0.981509  0.065010  0.444901  0.998364  0.999956  0.999998   \n",
       "UNK         501.0  0.929717  0.133045  0.354192  0.955269  0.991641  0.997389   \n",
       "\n",
       "                max  \n",
       "predicted            \n",
       "EXP        0.999999  \n",
       "EXP+FUM    1.000000  \n",
       "FUM        1.000000  \n",
       "INA        1.000000  \n",
       "UNK        0.998998  "
      ]
     },
     "execution_count": 60,
     "metadata": {},
     "output_type": "execute_result"
    }
   ],
   "source": [
    "data.groupby(by=\"predicted\")[\"certainty\"].describe()"
   ]
  },
  {
   "cell_type": "code",
   "execution_count": 78,
   "id": "793e1302-7bed-46eb-b799-04e3cbbaf6d4",
   "metadata": {},
   "outputs": [
    {
     "data": {
      "text/html": [
       "<div>\n",
       "<style scoped>\n",
       "    .dataframe tbody tr th:only-of-type {\n",
       "        vertical-align: middle;\n",
       "    }\n",
       "\n",
       "    .dataframe tbody tr th {\n",
       "        vertical-align: top;\n",
       "    }\n",
       "\n",
       "    .dataframe thead th {\n",
       "        text-align: right;\n",
       "    }\n",
       "</style>\n",
       "<table border=\"1\" class=\"dataframe\">\n",
       "  <thead>\n",
       "    <tr style=\"text-align: right;\">\n",
       "      <th></th>\n",
       "      <th>path</th>\n",
       "      <th>class</th>\n",
       "      <th>predicted</th>\n",
       "      <th>certainty</th>\n",
       "    </tr>\n",
       "  </thead>\n",
       "  <tbody>\n",
       "  </tbody>\n",
       "</table>\n",
       "</div>"
      ],
      "text/plain": [
       "Empty DataFrame\n",
       "Columns: [path, class, predicted, certainty]\n",
       "Index: []"
      ]
     },
     "execution_count": 78,
     "metadata": {},
     "output_type": "execute_result"
    }
   ],
   "source": [
    "data[data[\"class\"]==\"\"]"
   ]
  },
  {
   "cell_type": "code",
   "execution_count": 79,
   "id": "1d30e955-4de9-4177-bada-db3fb0cd959b",
   "metadata": {},
   "outputs": [
    {
     "data": {
      "text/html": [
       "<div>\n",
       "<style scoped>\n",
       "    .dataframe tbody tr th:only-of-type {\n",
       "        vertical-align: middle;\n",
       "    }\n",
       "\n",
       "    .dataframe tbody tr th {\n",
       "        vertical-align: top;\n",
       "    }\n",
       "\n",
       "    .dataframe thead th {\n",
       "        text-align: right;\n",
       "    }\n",
       "</style>\n",
       "<table border=\"1\" class=\"dataframe\">\n",
       "  <thead>\n",
       "    <tr style=\"text-align: right;\">\n",
       "      <th></th>\n",
       "      <th>path</th>\n",
       "      <th>class</th>\n",
       "      <th>predicted</th>\n",
       "      <th>certainty</th>\n",
       "    </tr>\n",
       "  </thead>\n",
       "  <tbody>\n",
       "    <tr>\n",
       "      <th>0.0</th>\n",
       "      <td>images/2006/jun/p0622063.jpg</td>\n",
       "      <td>UNKNOWN</td>\n",
       "      <td>UNK</td>\n",
       "      <td>0.998998</td>\n",
       "    </tr>\n",
       "    <tr>\n",
       "      <th>2.0</th>\n",
       "      <td>images/2013/sep/p0926132.jpg</td>\n",
       "      <td>UNKNOWN</td>\n",
       "      <td>UNK</td>\n",
       "      <td>0.998995</td>\n",
       "    </tr>\n",
       "    <tr>\n",
       "      <th>3.0</th>\n",
       "      <td>images/2019/ene/p0120193.jpg</td>\n",
       "      <td>UNKNOWN</td>\n",
       "      <td>UNK</td>\n",
       "      <td>0.998994</td>\n",
       "    </tr>\n",
       "    <tr>\n",
       "      <th>4.0</th>\n",
       "      <td>images/2018/jul/p0723181.jpg</td>\n",
       "      <td>UNKNOWN</td>\n",
       "      <td>UNK</td>\n",
       "      <td>0.998969</td>\n",
       "    </tr>\n",
       "    <tr>\n",
       "      <th>5.0</th>\n",
       "      <td>images/2015/mar/p0329153.jpg</td>\n",
       "      <td>UNKNOWN</td>\n",
       "      <td>UNK</td>\n",
       "      <td>0.998967</td>\n",
       "    </tr>\n",
       "    <tr>\n",
       "      <th>...</th>\n",
       "      <td>...</td>\n",
       "      <td>...</td>\n",
       "      <td>...</td>\n",
       "      <td>...</td>\n",
       "    </tr>\n",
       "    <tr>\n",
       "      <th>19283.0</th>\n",
       "      <td>images/2015/may/p0530155.jpg</td>\n",
       "      <td>WITH_EXPLOSION</td>\n",
       "      <td>EXP</td>\n",
       "      <td>0.489222</td>\n",
       "    </tr>\n",
       "    <tr>\n",
       "      <th>19284.0</th>\n",
       "      <td>images/2016/oct/p1028164.jpg</td>\n",
       "      <td>WITH_EXPLOSION</td>\n",
       "      <td>EXP</td>\n",
       "      <td>0.461512</td>\n",
       "    </tr>\n",
       "    <tr>\n",
       "      <th>19285.0</th>\n",
       "      <td>images/2018/dic/p1231184.jpg</td>\n",
       "      <td>WITH_EXPLOSION</td>\n",
       "      <td>EXP</td>\n",
       "      <td>0.459877</td>\n",
       "    </tr>\n",
       "    <tr>\n",
       "      <th>19286.0</th>\n",
       "      <td>images/2018/jun/p0603184.jpg</td>\n",
       "      <td>WITH_EXPLOSION</td>\n",
       "      <td>EXP</td>\n",
       "      <td>0.421862</td>\n",
       "    </tr>\n",
       "    <tr>\n",
       "      <th>19287.0</th>\n",
       "      <td>images/2014/oct/p1030147.jpg</td>\n",
       "      <td>WITH_EXPLOSION</td>\n",
       "      <td>EXP</td>\n",
       "      <td>0.413489</td>\n",
       "    </tr>\n",
       "  </tbody>\n",
       "</table>\n",
       "<p>18901 rows × 4 columns</p>\n",
       "</div>"
      ],
      "text/plain": [
       "                                 path           class predicted  certainty\n",
       "0.0      images/2006/jun/p0622063.jpg         UNKNOWN       UNK   0.998998\n",
       "2.0      images/2013/sep/p0926132.jpg         UNKNOWN       UNK   0.998995\n",
       "3.0      images/2019/ene/p0120193.jpg         UNKNOWN       UNK   0.998994\n",
       "4.0      images/2018/jul/p0723181.jpg         UNKNOWN       UNK   0.998969\n",
       "5.0      images/2015/mar/p0329153.jpg         UNKNOWN       UNK   0.998967\n",
       "...                               ...             ...       ...        ...\n",
       "19283.0  images/2015/may/p0530155.jpg  WITH_EXPLOSION       EXP   0.489222\n",
       "19284.0  images/2016/oct/p1028164.jpg  WITH_EXPLOSION       EXP   0.461512\n",
       "19285.0  images/2018/dic/p1231184.jpg  WITH_EXPLOSION       EXP   0.459877\n",
       "19286.0  images/2018/jun/p0603184.jpg  WITH_EXPLOSION       EXP   0.421862\n",
       "19287.0  images/2014/oct/p1030147.jpg  WITH_EXPLOSION       EXP   0.413489\n",
       "\n",
       "[18901 rows x 4 columns]"
      ]
     },
     "execution_count": 79,
     "metadata": {},
     "output_type": "execute_result"
    }
   ],
   "source": [
    "data"
   ]
  },
  {
   "cell_type": "code",
   "execution_count": 80,
   "id": "80bcc829-7ad9-405a-9979-89338e9fea88",
   "metadata": {},
   "outputs": [],
   "source": [
    "save(True)"
   ]
  },
  {
   "cell_type": "code",
   "execution_count": 77,
   "id": "88ca9e35-1f93-4001-bd5d-b7a1e5c0454d",
   "metadata": {},
   "outputs": [],
   "source": [
    "save(False)"
   ]
  },
  {
   "cell_type": "code",
   "execution_count": null,
   "id": "244dceae-10df-42b5-bd5f-12066004b26e",
   "metadata": {},
   "outputs": [],
   "source": []
  },
  {
   "cell_type": "code",
   "execution_count": null,
   "id": "4a84451e-fb37-49dc-ac18-2f73cb17cfe0",
   "metadata": {},
   "outputs": [],
   "source": []
  }
 ],
 "metadata": {
  "kernelspec": {
   "display_name": "Python 3 (ipykernel)",
   "language": "python",
   "name": "python3"
  },
  "language_info": {
   "codemirror_mode": {
    "name": "ipython",
    "version": 3
   },
   "file_extension": ".py",
   "mimetype": "text/x-python",
   "name": "python",
   "nbconvert_exporter": "python",
   "pygments_lexer": "ipython3",
   "version": "3.10.12"
  }
 },
 "nbformat": 4,
 "nbformat_minor": 5
}

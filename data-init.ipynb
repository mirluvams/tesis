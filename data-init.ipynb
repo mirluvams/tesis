{
 "cells": [
  {
   "cell_type": "code",
   "execution_count": 5,
   "id": "632faab5-b836-470c-b84a-e4363d1a3b2d",
   "metadata": {},
   "outputs": [],
   "source": [
    "import os\n",
    "import numpy as np\n",
    "import pandas as pd"
   ]
  },
  {
   "cell_type": "code",
   "execution_count": 6,
   "id": "c2cbd390-b72f-4467-bdc9-a488d3232bf4",
   "metadata": {},
   "outputs": [],
   "source": [
    "image_root = 'images/'\n",
    "image_paths=[]\n",
    "for (dirpath, dirnames, filenames) in os.walk(image_root):\n",
    "    image_paths+=[os.path.normpath(os.path.join(dirpath,file)) for file in filenames if file.endswith(\".jpg\") or file.endswith(\".png\")]"
   ]
  },
  {
   "cell_type": "code",
   "execution_count": 7,
   "id": "89113439-8161-4ba2-aed4-5a90712169f3",
   "metadata": {},
   "outputs": [
    {
     "name": "stdout",
     "output_type": "stream",
     "text": [
      "20177 images\\1999\\ene\\p0131991.jpg\n"
     ]
    }
   ],
   "source": [
    "print(len(image_paths), image_paths[0])"
   ]
  },
  {
   "cell_type": "code",
   "execution_count": 8,
   "id": "0aa29533-58f7-4e4c-bd3c-f9156ad03b96",
   "metadata": {},
   "outputs": [
    {
     "data": {
      "text/html": [
       "<div>\n",
       "<style scoped>\n",
       "    .dataframe tbody tr th:only-of-type {\n",
       "        vertical-align: middle;\n",
       "    }\n",
       "\n",
       "    .dataframe tbody tr th {\n",
       "        vertical-align: top;\n",
       "    }\n",
       "\n",
       "    .dataframe thead th {\n",
       "        text-align: right;\n",
       "    }\n",
       "</style>\n",
       "<table border=\"1\" class=\"dataframe\">\n",
       "  <thead>\n",
       "    <tr style=\"text-align: right;\">\n",
       "      <th></th>\n",
       "      <th>path</th>\n",
       "      <th>volcano_certainty</th>\n",
       "      <th>day_night</th>\n",
       "      <th>has_fume</th>\n",
       "      <th>is_explosion</th>\n",
       "    </tr>\n",
       "  </thead>\n",
       "  <tbody>\n",
       "    <tr>\n",
       "      <th>0</th>\n",
       "      <td>images\\1999\\ene\\p0131991.jpg</td>\n",
       "      <td>-1</td>\n",
       "      <td>-1</td>\n",
       "      <td>-1</td>\n",
       "      <td>-1</td>\n",
       "    </tr>\n",
       "    <tr>\n",
       "      <th>1</th>\n",
       "      <td>images\\1999\\ene\\p0131992.jpg</td>\n",
       "      <td>-1</td>\n",
       "      <td>-1</td>\n",
       "      <td>-1</td>\n",
       "      <td>-1</td>\n",
       "    </tr>\n",
       "    <tr>\n",
       "      <th>2</th>\n",
       "      <td>images\\1999\\ene\\p0131993.jpg</td>\n",
       "      <td>-1</td>\n",
       "      <td>-1</td>\n",
       "      <td>-1</td>\n",
       "      <td>-1</td>\n",
       "    </tr>\n",
       "    <tr>\n",
       "      <th>3</th>\n",
       "      <td>images\\1999\\ene\\p0131994.jpg</td>\n",
       "      <td>-1</td>\n",
       "      <td>-1</td>\n",
       "      <td>-1</td>\n",
       "      <td>-1</td>\n",
       "    </tr>\n",
       "    <tr>\n",
       "      <th>4</th>\n",
       "      <td>images\\1999\\ene\\p0131995.jpg</td>\n",
       "      <td>-1</td>\n",
       "      <td>-1</td>\n",
       "      <td>-1</td>\n",
       "      <td>-1</td>\n",
       "    </tr>\n",
       "    <tr>\n",
       "      <th>...</th>\n",
       "      <td>...</td>\n",
       "      <td>...</td>\n",
       "      <td>...</td>\n",
       "      <td>...</td>\n",
       "      <td>...</td>\n",
       "    </tr>\n",
       "    <tr>\n",
       "      <th>20172</th>\n",
       "      <td>images\\2024\\image_95.jpg</td>\n",
       "      <td>-1</td>\n",
       "      <td>-1</td>\n",
       "      <td>-1</td>\n",
       "      <td>-1</td>\n",
       "    </tr>\n",
       "    <tr>\n",
       "      <th>20173</th>\n",
       "      <td>images\\2024\\image_96.jpg</td>\n",
       "      <td>-1</td>\n",
       "      <td>-1</td>\n",
       "      <td>-1</td>\n",
       "      <td>-1</td>\n",
       "    </tr>\n",
       "    <tr>\n",
       "      <th>20174</th>\n",
       "      <td>images\\2024\\image_97.jpg</td>\n",
       "      <td>-1</td>\n",
       "      <td>-1</td>\n",
       "      <td>-1</td>\n",
       "      <td>-1</td>\n",
       "    </tr>\n",
       "    <tr>\n",
       "      <th>20175</th>\n",
       "      <td>images\\2024\\image_98.jpg</td>\n",
       "      <td>-1</td>\n",
       "      <td>-1</td>\n",
       "      <td>-1</td>\n",
       "      <td>-1</td>\n",
       "    </tr>\n",
       "    <tr>\n",
       "      <th>20176</th>\n",
       "      <td>images\\2024\\image_99.jpg</td>\n",
       "      <td>-1</td>\n",
       "      <td>-1</td>\n",
       "      <td>-1</td>\n",
       "      <td>-1</td>\n",
       "    </tr>\n",
       "  </tbody>\n",
       "</table>\n",
       "<p>20177 rows × 5 columns</p>\n",
       "</div>"
      ],
      "text/plain": [
       "                               path volcano_certainty day_night has_fume  \\\n",
       "0      images\\1999\\ene\\p0131991.jpg                -1        -1       -1   \n",
       "1      images\\1999\\ene\\p0131992.jpg                -1        -1       -1   \n",
       "2      images\\1999\\ene\\p0131993.jpg                -1        -1       -1   \n",
       "3      images\\1999\\ene\\p0131994.jpg                -1        -1       -1   \n",
       "4      images\\1999\\ene\\p0131995.jpg                -1        -1       -1   \n",
       "...                             ...               ...       ...      ...   \n",
       "20172      images\\2024\\image_95.jpg                -1        -1       -1   \n",
       "20173      images\\2024\\image_96.jpg                -1        -1       -1   \n",
       "20174      images\\2024\\image_97.jpg                -1        -1       -1   \n",
       "20175      images\\2024\\image_98.jpg                -1        -1       -1   \n",
       "20176      images\\2024\\image_99.jpg                -1        -1       -1   \n",
       "\n",
       "      is_explosion  \n",
       "0               -1  \n",
       "1               -1  \n",
       "2               -1  \n",
       "3               -1  \n",
       "4               -1  \n",
       "...            ...  \n",
       "20172           -1  \n",
       "20173           -1  \n",
       "20174           -1  \n",
       "20175           -1  \n",
       "20176           -1  \n",
       "\n",
       "[20177 rows x 5 columns]"
      ]
     },
     "execution_count": 8,
     "metadata": {},
     "output_type": "execute_result"
    }
   ],
   "source": [
    "empty=np.full(len(image_paths), -1)\n",
    "df = pd.DataFrame([image_paths]+[empty]*4).T\n",
    "df.columns=[\"path\", \"volcano_certainty\", \"day_night\", \"has_fume\", \"is_explosion\"]\n",
    "df"
   ]
  },
  {
   "cell_type": "code",
   "execution_count": 9,
   "id": "71865f57-1dff-4ac7-aca6-7afb8ed067f0",
   "metadata": {},
   "outputs": [],
   "source": [
    "df.to_feather(\"data/stage0.feather\")"
   ]
  },
  {
   "cell_type": "code",
   "execution_count": null,
   "id": "bc32bbec-3d93-4412-8ad3-6e70d00dba5e",
   "metadata": {},
   "outputs": [],
   "source": []
  }
 ],
 "metadata": {
  "kernelspec": {
   "display_name": "Python 3 (ipykernel)",
   "language": "python",
   "name": "python3"
  },
  "language_info": {
   "codemirror_mode": {
    "name": "ipython",
    "version": 3
   },
   "file_extension": ".py",
   "mimetype": "text/x-python",
   "name": "python",
   "nbconvert_exporter": "python",
   "pygments_lexer": "ipython3",
   "version": "3.10.14"
  }
 },
 "nbformat": 4,
 "nbformat_minor": 5
}

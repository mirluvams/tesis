{
 "cells": [
  {
   "cell_type": "code",
   "execution_count": 1,
   "id": "e4f1499d-2795-47b3-9335-d3e4587c06d9",
   "metadata": {},
   "outputs": [],
   "source": [
    "from transformers import AutoModelForImageClassification"
   ]
  },
  {
   "cell_type": "code",
   "execution_count": 2,
   "id": "672a04ee-9b03-4c36-aa39-595d3b96e9de",
   "metadata": {},
   "outputs": [
    {
     "name": "stdout",
     "output_type": "stream",
     "text": [
      "[2024-10-08 11:24:28,504] [INFO] [real_accelerator.py:203:get_accelerator] Setting ds_accelerator to cuda (auto detect)\n"
     ]
    },
    {
     "name": "stderr",
     "output_type": "stream",
     "text": [
      "/usr/bin/ld: cannot find -laio: No such file or directory\n",
      "collect2: error: ld returned 1 exit status\n"
     ]
    },
    {
     "name": "stdout",
     "output_type": "stream",
     "text": [
      "\u001b[93m [WARNING] \u001b[0m async_io requires the dev libaio .so object and headers but these were not found.\n",
      "\u001b[93m [WARNING] \u001b[0m async_io: please install the libaio-dev package with apt\n",
      "\u001b[93m [WARNING] \u001b[0m If libaio is already installed (perhaps from source), try setting the CFLAGS and LDFLAGS environment variables to where it can be found.\n",
      "\u001b[93m [WARNING] \u001b[0m Please specify the CUTLASS repo directory as environment variable $CUTLASS_PATH\n",
      "\u001b[93m [WARNING] \u001b[0m NVIDIA Inference is only supported on Ampere and newer architectures\n",
      "\u001b[93m [WARNING] \u001b[0m sparse_attn requires a torch version >= 1.5 and < 2.0 but detected 2.4\n",
      "\u001b[93m [WARNING] \u001b[0m using untested triton version (3.0.0), only 1.0.0 is known to be compatible\n"
     ]
    },
    {
     "name": "stderr",
     "output_type": "stream",
     "text": [
      "/home/miriam/.local/lib/python3.10/site-packages/deepspeed/runtime/zero/linear.py:49: FutureWarning: `torch.cuda.amp.custom_fwd(args...)` is deprecated. Please use `torch.amp.custom_fwd(args..., device_type='cuda')` instead.\n",
      "  def forward(ctx, input, weight, bias=None):\n",
      "/home/miriam/.local/lib/python3.10/site-packages/deepspeed/runtime/zero/linear.py:67: FutureWarning: `torch.cuda.amp.custom_bwd(args...)` is deprecated. Please use `torch.amp.custom_bwd(args..., device_type='cuda')` instead.\n",
      "  def backward(ctx, grad_output):\n"
     ]
    },
    {
     "data": {
      "application/vnd.jupyter.widget-view+json": {
       "model_id": "1ddf4a4f8da64471bf27dd999a833388",
       "version_major": 2,
       "version_minor": 0
      },
      "text/plain": [
       "model.safetensors:   0%|          | 0.00/348M [00:00<?, ?B/s]"
      ]
     },
     "metadata": {},
     "output_type": "display_data"
    },
    {
     "data": {
      "text/plain": [
       "CommitInfo(commit_url='https://huggingface.co/mirluvams/swinv2-base-patch4-window16-256-popocatepetl/commit/ff19ddbf25dbef872305c4c351d8f74431372eb8', commit_message='Upload Swinv2ForImageClassification', commit_description='', oid='ff19ddbf25dbef872305c4c351d8f74431372eb8', pr_url=None, pr_revision=None, pr_num=None)"
      ]
     },
     "execution_count": 2,
     "metadata": {},
     "output_type": "execute_result"
    }
   ],
   "source": [
    "AutoModelForImageClassification.from_pretrained(\"models/swinv2-base\").push_to_hub(\"mirluvams/swinv2-base-patch4-window16-256-popocatepetl\", private=True)"
   ]
  },
  {
   "cell_type": "code",
   "execution_count": 3,
   "id": "3c35e8f1-10a2-42a7-86a6-fd268f710563",
   "metadata": {},
   "outputs": [
    {
     "data": {
      "application/vnd.jupyter.widget-view+json": {
       "model_id": "b8a148f139c947c4a7e9089698ba9c26",
       "version_major": 2,
       "version_minor": 0
      },
      "text/plain": [
       "README.md:   0%|          | 0.00/5.17k [00:00<?, ?B/s]"
      ]
     },
     "metadata": {},
     "output_type": "display_data"
    },
    {
     "data": {
      "application/vnd.jupyter.widget-view+json": {
       "model_id": "75267e2ce27c49df96a3e864001102b8",
       "version_major": 2,
       "version_minor": 0
      },
      "text/plain": [
       "model.safetensors:   0%|          | 0.00/113M [00:00<?, ?B/s]"
      ]
     },
     "metadata": {},
     "output_type": "display_data"
    },
    {
     "data": {
      "text/plain": [
       "CommitInfo(commit_url='https://huggingface.co/mirluvams/swinv2-tiny-patch4-window16-256-popocatepetl/commit/7be872d578ec0b6dca5397beea6326d2af1b9c45', commit_message='Upload Swinv2ForImageClassification', commit_description='', oid='7be872d578ec0b6dca5397beea6326d2af1b9c45', pr_url=None, pr_revision=None, pr_num=None)"
      ]
     },
     "execution_count": 3,
     "metadata": {},
     "output_type": "execute_result"
    }
   ],
   "source": [
    "AutoModelForImageClassification.from_pretrained(\"models/swinv2-tiny\").push_to_hub(\"mirluvams/swinv2-tiny-patch4-window16-256-popocatepetl\", private=True)"
   ]
  },
  {
   "cell_type": "code",
   "execution_count": 4,
   "id": "4d01a647-d291-4fbd-a7bd-e32c4ffe8587",
   "metadata": {},
   "outputs": [
    {
     "data": {
      "application/vnd.jupyter.widget-view+json": {
       "model_id": "e816d2ff7a76428fbd73fcb9fd334056",
       "version_major": 2,
       "version_minor": 0
      },
      "text/plain": [
       "model.safetensors:   0%|          | 0.00/346M [00:00<?, ?B/s]"
      ]
     },
     "metadata": {},
     "output_type": "display_data"
    },
    {
     "data": {
      "text/plain": [
       "CommitInfo(commit_url='https://huggingface.co/mirluvams/beit-base-patch16-224-popocatepetl/commit/a89d9393d000f7014cc2a93a7ca397beba97547f', commit_message='Upload BeitForImageClassification', commit_description='', oid='a89d9393d000f7014cc2a93a7ca397beba97547f', pr_url=None, pr_revision=None, pr_num=None)"
      ]
     },
     "execution_count": 4,
     "metadata": {},
     "output_type": "execute_result"
    }
   ],
   "source": [
    "AutoModelForImageClassification.from_pretrained(\"models/beit-base\").push_to_hub(\"mirluvams/beit-base-patch16-224-popocatepetl\", private=True)"
   ]
  },
  {
   "cell_type": "code",
   "execution_count": 5,
   "id": "4c25e4b7-2600-4816-b86d-3ceccbf2da0a",
   "metadata": {},
   "outputs": [
    {
     "data": {
      "application/vnd.jupyter.widget-view+json": {
       "model_id": "dad4aa501d5d4347962bb7e0ed232be5",
       "version_major": 2,
       "version_minor": 0
      },
      "text/plain": [
       "model.safetensors:   0%|          | 0.00/346M [00:00<?, ?B/s]"
      ]
     },
     "metadata": {},
     "output_type": "display_data"
    },
    {
     "data": {
      "text/plain": [
       "CommitInfo(commit_url='https://huggingface.co/mirluvams/vit-base-patch16-224-popocatepetl/commit/daeb67181f84670e4163abeec819e8de61c624e5', commit_message='Upload ViTForImageClassification', commit_description='', oid='daeb67181f84670e4163abeec819e8de61c624e5', pr_url=None, pr_revision=None, pr_num=None)"
      ]
     },
     "execution_count": 5,
     "metadata": {},
     "output_type": "execute_result"
    }
   ],
   "source": [
    "AutoModelForImageClassification.from_pretrained(\"models/vit-base\").push_to_hub(\"mirluvams/vit-base-patch16-224-popocatepetl\", private=True)"
   ]
  },
  {
   "cell_type": "code",
   "execution_count": null,
   "id": "b082fd39-2d2a-4e32-b678-d89bf73bf1e8",
   "metadata": {},
   "outputs": [],
   "source": []
  }
 ],
 "metadata": {
  "kernelspec": {
   "display_name": "Python 3 (ipykernel)",
   "language": "python",
   "name": "python3"
  },
  "language_info": {
   "codemirror_mode": {
    "name": "ipython",
    "version": 3
   },
   "file_extension": ".py",
   "mimetype": "text/x-python",
   "name": "python",
   "nbconvert_exporter": "python",
   "pygments_lexer": "ipython3",
   "version": "3.10.12"
  }
 },
 "nbformat": 4,
 "nbformat_minor": 5
}

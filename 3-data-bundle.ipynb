{
 "cells": [
  {
   "cell_type": "code",
   "execution_count": 1,
   "id": "a567d0ae-3594-447f-b23d-42af22b85168",
   "metadata": {},
   "outputs": [],
   "source": [
    "import pandas as pd\n",
    "import numpy as np\n",
    "from datasets import Dataset, Image as dsImage, Value as scalar, ClassLabel \n",
    "from PIL import Image\n",
    "import torchvision"
   ]
  },
  {
   "cell_type": "code",
   "execution_count": 2,
   "id": "a78baad6-6d7e-4bfc-9778-197a39d49d81",
   "metadata": {},
   "outputs": [
    {
     "data": {
      "text/html": [
       "<div>\n",
       "<style scoped>\n",
       "    .dataframe tbody tr th:only-of-type {\n",
       "        vertical-align: middle;\n",
       "    }\n",
       "\n",
       "    .dataframe tbody tr th {\n",
       "        vertical-align: top;\n",
       "    }\n",
       "\n",
       "    .dataframe thead th {\n",
       "        text-align: right;\n",
       "    }\n",
       "</style>\n",
       "<table border=\"1\" class=\"dataframe\">\n",
       "  <thead>\n",
       "    <tr style=\"text-align: right;\">\n",
       "      <th></th>\n",
       "      <th>image</th>\n",
       "      <th>labels</th>\n",
       "    </tr>\n",
       "  </thead>\n",
       "  <tbody>\n",
       "    <tr>\n",
       "      <th>0.0</th>\n",
       "      <td>images\\1999\\ene\\p0131991.jpg</td>\n",
       "      <td>FUMAROLA</td>\n",
       "    </tr>\n",
       "    <tr>\n",
       "      <th>1.0</th>\n",
       "      <td>images\\1999\\ene\\p0131992.jpg</td>\n",
       "      <td>FUMAROLA</td>\n",
       "    </tr>\n",
       "    <tr>\n",
       "      <th>2.0</th>\n",
       "      <td>images\\1999\\ene\\p0131993.jpg</td>\n",
       "      <td>FUMAROLA</td>\n",
       "    </tr>\n",
       "    <tr>\n",
       "      <th>3.0</th>\n",
       "      <td>images\\1999\\ene\\p0131994.jpg</td>\n",
       "      <td>FUMAROLA</td>\n",
       "    </tr>\n",
       "    <tr>\n",
       "      <th>4.0</th>\n",
       "      <td>images\\1999\\ene\\p0131995.jpg</td>\n",
       "      <td>FUMAROLA</td>\n",
       "    </tr>\n",
       "    <tr>\n",
       "      <th>...</th>\n",
       "      <td>...</td>\n",
       "      <td>...</td>\n",
       "    </tr>\n",
       "    <tr>\n",
       "      <th>20164.0</th>\n",
       "      <td>images\\2024\\image_96.jpg</td>\n",
       "      <td>NO_VOLCAN</td>\n",
       "    </tr>\n",
       "    <tr>\n",
       "      <th>20165.0</th>\n",
       "      <td>images\\2024\\image_97.jpg</td>\n",
       "      <td>FUMAROLA</td>\n",
       "    </tr>\n",
       "    <tr>\n",
       "      <th>20166.0</th>\n",
       "      <td>images\\2024\\image_98.jpg</td>\n",
       "      <td>FUMAROLA</td>\n",
       "    </tr>\n",
       "    <tr>\n",
       "      <th>20167.0</th>\n",
       "      <td>images\\2024\\image_99.jpg</td>\n",
       "      <td>FUMAROLA</td>\n",
       "    </tr>\n",
       "    <tr>\n",
       "      <th>NaN</th>\n",
       "      <td>None</td>\n",
       "      <td>None</td>\n",
       "    </tr>\n",
       "  </tbody>\n",
       "</table>\n",
       "<p>20169 rows × 2 columns</p>\n",
       "</div>"
      ],
      "text/plain": [
       "                                image     labels\n",
       "0.0      images\\1999\\ene\\p0131991.jpg   FUMAROLA\n",
       "1.0      images\\1999\\ene\\p0131992.jpg   FUMAROLA\n",
       "2.0      images\\1999\\ene\\p0131993.jpg   FUMAROLA\n",
       "3.0      images\\1999\\ene\\p0131994.jpg   FUMAROLA\n",
       "4.0      images\\1999\\ene\\p0131995.jpg   FUMAROLA\n",
       "...                               ...        ...\n",
       "20164.0      images\\2024\\image_96.jpg  NO_VOLCAN\n",
       "20165.0      images\\2024\\image_97.jpg   FUMAROLA\n",
       "20166.0      images\\2024\\image_98.jpg   FUMAROLA\n",
       "20167.0      images\\2024\\image_99.jpg   FUMAROLA\n",
       "NaN                              None       None\n",
       "\n",
       "[20169 rows x 2 columns]"
      ]
     },
     "execution_count": 2,
     "metadata": {},
     "output_type": "execute_result"
    }
   ],
   "source": [
    "df=pd.read_feather(\"./data/stage3.feather\")\n",
    "df.drop(columns=[\"time\"],inplace=True)\n",
    "df"
   ]
  },
  {
   "cell_type": "code",
   "execution_count": 3,
   "id": "05b5d346-d13c-4241-afe3-0e5b4fcba53f",
   "metadata": {},
   "outputs": [],
   "source": [
    "df.dropna(inplace=True)"
   ]
  },
  {
   "cell_type": "code",
   "execution_count": 4,
   "id": "1e818bfe-4d4e-4206-831d-1714541d04fc",
   "metadata": {},
   "outputs": [],
   "source": [
    "# cleanup useless data"
   ]
  },
  {
   "cell_type": "code",
   "execution_count": 5,
   "id": "38f06c17-d500-4df0-9b71-56795af83796",
   "metadata": {},
   "outputs": [],
   "source": [
    "df.drop(df[(df[\"labels\"]==\"NO_VOLCAN\")].index, inplace=True) #cannot load these images/no volcano"
   ]
  },
  {
   "cell_type": "code",
   "execution_count": 6,
   "id": "8375c38b-5fb0-408d-8ee0-05084fa4982a",
   "metadata": {},
   "outputs": [],
   "source": [
    "df.drop(df[df[\"image\"].str.contains(\".ipynb\")].index,inplace=True) #drop cached images from jupyter"
   ]
  },
  {
   "cell_type": "code",
   "execution_count": 7,
   "id": "9f23b9ea-7f36-4307-9412-ac2166c33ea7",
   "metadata": {},
   "outputs": [],
   "source": [
    "df.drop_duplicates(subset=\"image\", inplace=True)"
   ]
  },
  {
   "cell_type": "code",
   "execution_count": 8,
   "id": "9e79137a-7c8c-4b33-9618-0ce06a53e420",
   "metadata": {},
   "outputs": [],
   "source": [
    "df[\"image\"]=df[\"image\"].str.replace(\"\\\\\",\"/\")"
   ]
  },
  {
   "cell_type": "code",
   "execution_count": 9,
   "id": "78bb94bc-dedb-4d86-9c37-5d1a9ab0e325",
   "metadata": {},
   "outputs": [],
   "source": [
    "#consolidate sorting"
   ]
  },
  {
   "cell_type": "code",
   "execution_count": 10,
   "id": "d64599de-6fd6-4986-8f03-713c682da17f",
   "metadata": {},
   "outputs": [],
   "source": [
    "df.reset_index(drop=True, inplace=True)"
   ]
  },
  {
   "cell_type": "code",
   "execution_count": 11,
   "id": "35c2f8c3-f808-4bf7-945d-42cdbbf80e21",
   "metadata": {},
   "outputs": [
    {
     "name": "stdout",
     "output_type": "stream",
     "text": [
      "FAULT AT images/2001/nov/p1105011.jpg: Unsupported image file. Only jpeg, png and gif are currently supported.\n",
      "FAULT AT images/2001/nov/p1107011.jpg: Unsupported image file. Only jpeg, png and gif are currently supported.\n",
      "FAULT AT images/2010/nov/p1102101.jpg: Unsupported image file. Only jpeg, png and gif are currently supported.\n",
      "FAULT AT images/2011/ene/p0126112.jpg: Image is incomplete or truncated\n",
      "FAULT AT images/2016/jul/p0703161.jpg: Image is incomplete or truncated\n",
      "FAULT AT images/2016/sep/p0913161.jpg: Image is incomplete or truncated\n",
      "FAULT AT images/2018/jun/p0602181.jpg: Image is incomplete or truncated\n",
      "FAULT AT images/2018/may/p0528183.jpg: Image is incomplete or truncated\n",
      "FAULT AT images/2019/jun/p0612197.png: Invalid dimensions\n",
      "FAULT AT images/2019/mar/p0307195.png: Invalid dimensions\n",
      "FAULT AT images/2021/dic/p1209211.png: Invalid dimensions\n",
      "FAULT AT images/2021/dic/p1210211.png: Invalid dimensions\n",
      "FAULT AT images/2021/nov/p1117212.png: Invalid dimensions\n",
      "FAULT AT images/2022/dic/p1209223.jpg: Image is incomplete or truncated\n",
      "FAULT AT images/2022/sep/p0912223.jpg: Image is incomplete or truncated\n",
      "FAULT AT images/2023/jun/p0619232.jpg: Image is incomplete or truncated\n",
      "FAULT AT images/2024/image_1.jpg: Invalid dimensions\n",
      "FAULT AT images/2024/image_105.jpg: Invalid dimensions\n",
      "FAULT AT images/2024/image_111.jpg: Invalid dimensions\n",
      "FAULT AT images/2024/image_13.jpg: Invalid dimensions\n",
      "FAULT AT images/2024/image_139.jpg: Invalid dimensions\n",
      "FAULT AT images/2024/image_163.jpg: Invalid dimensions\n",
      "FAULT AT images/2024/image_164.jpg: Invalid dimensions\n",
      "FAULT AT images/2024/image_166.jpg: Invalid dimensions\n",
      "FAULT AT images/2024/image_184.jpg: Invalid dimensions\n",
      "FAULT AT images/2024/image_185.jpg: Invalid dimensions\n",
      "FAULT AT images/2024/image_207.jpg: Invalid dimensions\n",
      "FAULT AT images/2024/image_216.jpg: Invalid dimensions\n",
      "FAULT AT images/2024/image_22.jpg: Invalid dimensions\n",
      "FAULT AT images/2024/image_226.jpg: Invalid dimensions\n",
      "FAULT AT images/2024/image_229.jpg: Invalid dimensions\n",
      "FAULT AT images/2024/image_235.jpg: Invalid dimensions\n",
      "FAULT AT images/2024/image_252.jpg: Invalid dimensions\n",
      "FAULT AT images/2024/image_28.jpg: Invalid dimensions\n",
      "FAULT AT images/2024/image_44.jpg: Invalid dimensions\n",
      "FAULT AT images/2024/image_53.jpg: Invalid dimensions\n",
      "FAULT AT images/2024/image_57.jpg: Invalid dimensions\n",
      "FAULT AT images/2024/image_8.jpg: Invalid dimensions\n",
      "FAULT AT images/2024/image_82.jpg: Invalid dimensions\n",
      "FAULT AT images/2024/image_86.jpg: Invalid dimensions\n"
     ]
    }
   ],
   "source": [
    "faults=[]\n",
    "for i, row in df.iterrows():\n",
    "    try:\n",
    "        with Image.open(row[\"image\"]) as img:\n",
    "            if(img.mode!=\"RGB\"):\n",
    "                print(f\"FAULT AT {row['image']}: Invalid dimensions\")\n",
    "                faults.append(i)\n",
    "                continue\n",
    "        tensor=torchvision.io.read_image(\n",
    "            row[\"image\"],\n",
    "            mode=torchvision.io.image.ImageReadMode.RGB,\n",
    "        )\n",
    "    except Exception as E:\n",
    "        print(f\"FAULT AT {row['image']}: {E}\")\n",
    "        faults.append(i)\n",
    "        continue"
   ]
  },
  {
   "cell_type": "code",
   "execution_count": 12,
   "id": "d8e61554-ef67-43ea-846a-58720e46e4fb",
   "metadata": {},
   "outputs": [],
   "source": [
    "df.drop(faults, inplace=True)"
   ]
  },
  {
   "cell_type": "code",
   "execution_count": 13,
   "id": "86b0440e-6b77-48b7-8050-4e0397af2181",
   "metadata": {},
   "outputs": [
    {
     "data": {
      "text/plain": [
       "(labels\n",
       " FUMAROLA    8364\n",
       " ERUPCION    6789\n",
       " INACTIVO    1144\n",
       " Name: count, dtype: int64,\n",
       " 16297)"
      ]
     },
     "execution_count": 13,
     "metadata": {},
     "output_type": "execute_result"
    }
   ],
   "source": [
    "df[\"labels\"].value_counts(), df.shape[0]"
   ]
  },
  {
   "cell_type": "code",
   "execution_count": 14,
   "id": "1d778a27-93d5-4b70-a327-4734f6035615",
   "metadata": {},
   "outputs": [
    {
     "name": "stdout",
     "output_type": "stream",
     "text": [
      "<class 'pandas.core.frame.DataFrame'>\n",
      "Index: 16297 entries, 0 to 16336\n",
      "Data columns (total 2 columns):\n",
      " #   Column  Non-Null Count  Dtype \n",
      "---  ------  --------------  ----- \n",
      " 0   image   16297 non-null  object\n",
      " 1   labels  16297 non-null  object\n",
      "dtypes: object(2)\n",
      "memory usage: 382.0+ KB\n"
     ]
    }
   ],
   "source": [
    "df.info()"
   ]
  },
  {
   "cell_type": "code",
   "execution_count": 15,
   "id": "e8203ce4-7f0e-4e43-a1b8-98e5a204ac20",
   "metadata": {},
   "outputs": [
    {
     "data": {
      "text/plain": [
       "(16297, 2)"
      ]
     },
     "execution_count": 15,
     "metadata": {},
     "output_type": "execute_result"
    }
   ],
   "source": [
    "df.shape"
   ]
  },
  {
   "cell_type": "code",
   "execution_count": 16,
   "id": "06607237-67ba-42b8-8573-97e3187ff32e",
   "metadata": {},
   "outputs": [],
   "source": [
    "# WEIGHTS FOR CLASSIFICATION LOSS"
   ]
  },
  {
   "cell_type": "code",
   "execution_count": 17,
   "id": "2fe03832-350c-4858-8caf-5e671fb74764",
   "metadata": {},
   "outputs": [
    {
     "data": {
      "text/plain": [
       "labels\n",
       "FUMAROLA    8364\n",
       "ERUPCION    6789\n",
       "INACTIVO    1144\n",
       "Name: count, dtype: int64"
      ]
     },
     "execution_count": 17,
     "metadata": {},
     "output_type": "execute_result"
    }
   ],
   "source": [
    "df[\"labels\"].value_counts()"
   ]
  },
  {
   "cell_type": "code",
   "execution_count": 18,
   "id": "e95e865f-8a33-4da7-91b0-5b0b231bbf2d",
   "metadata": {},
   "outputs": [
    {
     "data": {
      "text/plain": [
       "labels\n",
       "FUMAROLA    0.103190\n",
       "ERUPCION    0.177661\n",
       "INACTIVO    0.719150\n",
       "Name: count, dtype: float64"
      ]
     },
     "execution_count": 18,
     "metadata": {},
     "output_type": "execute_result"
    }
   ],
   "source": [
    "freq=df[\"labels\"].value_counts()\n",
    "freq=np.abs(df.shape[0]-freq)**3\n",
    "freq=freq/freq.sum()\n",
    "freq"
   ]
  },
  {
   "cell_type": "code",
   "execution_count": 19,
   "id": "1a36c0f7-d086-46d7-bb38-87bf9feb1ba0",
   "metadata": {},
   "outputs": [],
   "source": [
    "df.to_feather(\"./data/stage4.feather\")"
   ]
  },
  {
   "cell_type": "code",
   "execution_count": 20,
   "id": "d890958b-953f-4ca8-a2e8-c5a77c867f7d",
   "metadata": {},
   "outputs": [],
   "source": [
    "\n",
    "def gen():\n",
    "    for i, row in df.iterrows():\n",
    "        yield {\n",
    "            \"image\":row[\"image\"],\n",
    "            \"labels\":row[\"labels\"],\n",
    "        }"
   ]
  },
  {
   "cell_type": "code",
   "execution_count": 21,
   "id": "ae3eef27-d9c1-4e37-aa51-c9e48a58166e",
   "metadata": {},
   "outputs": [
    {
     "data": {
      "text/plain": [
       "array(['ERUPCION', 'FUMAROLA', 'INACTIVO'], dtype=object)"
      ]
     },
     "execution_count": 21,
     "metadata": {},
     "output_type": "execute_result"
    }
   ],
   "source": [
    "np.unique(df[\"labels\"])"
   ]
  },
  {
   "cell_type": "code",
   "execution_count": 22,
   "id": "f7db4c44-f764-4335-86ed-fbc8634a9142",
   "metadata": {},
   "outputs": [],
   "source": [
    "class_names=['INACTIVO', 'FUMAROLA', 'ERUPCION']"
   ]
  },
  {
   "cell_type": "code",
   "execution_count": 23,
   "id": "7e9ff389-1288-4482-bf1d-7b9c16347729",
   "metadata": {},
   "outputs": [],
   "source": [
    "dataset=Dataset.from_generator(gen).with_format(\"torch\")\n",
    "dataset=dataset.cast_column(\"image\", dsImage())\n",
    "dataset=dataset.cast_column(\"labels\", ClassLabel(num_classes=len(class_names), names=class_names))\n",
    "dataset=dataset.train_test_split(test_size=.1, seed=36918, stratify_by_column=\"labels\")"
   ]
  },
  {
   "cell_type": "code",
   "execution_count": 24,
   "id": "2335ef01-d2a3-4625-8b88-2e2fc0d54d5e",
   "metadata": {},
   "outputs": [
    {
     "data": {
      "text/plain": [
       "DatasetDict({\n",
       "    train: Dataset({\n",
       "        features: ['image', 'labels'],\n",
       "        num_rows: 14667\n",
       "    })\n",
       "    test: Dataset({\n",
       "        features: ['image', 'labels'],\n",
       "        num_rows: 1630\n",
       "    })\n",
       "})"
      ]
     },
     "execution_count": 24,
     "metadata": {},
     "output_type": "execute_result"
    }
   ],
   "source": [
    "dataset"
   ]
  },
  {
   "cell_type": "code",
   "execution_count": 25,
   "id": "9e724200-1675-4fde-ad11-11383dd7896c",
   "metadata": {},
   "outputs": [
    {
     "data": {
      "application/vnd.jupyter.widget-view+json": {
       "model_id": "745badd1a7564a8e90b536f399ec3ebb",
       "version_major": 2,
       "version_minor": 0
      },
      "text/plain": [
       "Saving the dataset (0/12 shards):   0%|          | 0/14667 [00:00<?, ? examples/s]"
      ]
     },
     "metadata": {},
     "output_type": "display_data"
    },
    {
     "data": {
      "application/vnd.jupyter.widget-view+json": {
       "model_id": "f118d62bac0e4811b41cbf5324763a0d",
       "version_major": 2,
       "version_minor": 0
      },
      "text/plain": [
       "Saving the dataset (0/12 shards):   0%|          | 0/1630 [00:00<?, ? examples/s]"
      ]
     },
     "metadata": {},
     "output_type": "display_data"
    }
   ],
   "source": [
    "dataset.save_to_disk(\"data/dataset/\",max_shard_size=\"80MB\",num_proc=12)"
   ]
  },
  {
   "cell_type": "code",
   "execution_count": 26,
   "id": "2c66a976-4077-4729-8042-64c1397999af",
   "metadata": {},
   "outputs": [
    {
     "data": {
      "application/vnd.jupyter.widget-view+json": {
       "model_id": "17eefc2d6b9e4171bf4ecdd50e90a2b4",
       "version_major": 2,
       "version_minor": 0
      },
      "text/plain": [
       "Uploading the dataset shards:   0%|          | 0/2 [00:00<?, ?it/s]"
      ]
     },
     "metadata": {},
     "output_type": "display_data"
    },
    {
     "data": {
      "application/vnd.jupyter.widget-view+json": {
       "model_id": "9057020459d64db5bb3dbda741c1910a",
       "version_major": 2,
       "version_minor": 0
      },
      "text/plain": [
       "Map:   0%|          | 0/7334 [00:00<?, ? examples/s]"
      ]
     },
     "metadata": {},
     "output_type": "display_data"
    },
    {
     "data": {
      "application/vnd.jupyter.widget-view+json": {
       "model_id": "d80a8e591ed84342a3b4ecd1a1aea132",
       "version_major": 2,
       "version_minor": 0
      },
      "text/plain": [
       "Creating parquet from Arrow format:   0%|          | 0/74 [00:00<?, ?ba/s]"
      ]
     },
     "metadata": {},
     "output_type": "display_data"
    },
    {
     "data": {
      "application/vnd.jupyter.widget-view+json": {
       "model_id": "8462fd44c54242578d99c154e719148a",
       "version_major": 2,
       "version_minor": 0
      },
      "text/plain": [
       "Map:   0%|          | 0/7333 [00:00<?, ? examples/s]"
      ]
     },
     "metadata": {},
     "output_type": "display_data"
    },
    {
     "data": {
      "application/vnd.jupyter.widget-view+json": {
       "model_id": "2577b69a14204468b160df6c9e310ba4",
       "version_major": 2,
       "version_minor": 0
      },
      "text/plain": [
       "Creating parquet from Arrow format:   0%|          | 0/74 [00:00<?, ?ba/s]"
      ]
     },
     "metadata": {},
     "output_type": "display_data"
    },
    {
     "data": {
      "application/vnd.jupyter.widget-view+json": {
       "model_id": "f7efcfc1a8fe435882d78c742326dd6a",
       "version_major": 2,
       "version_minor": 0
      },
      "text/plain": [
       "Uploading the dataset shards:   0%|          | 0/1 [00:00<?, ?it/s]"
      ]
     },
     "metadata": {},
     "output_type": "display_data"
    },
    {
     "data": {
      "application/vnd.jupyter.widget-view+json": {
       "model_id": "8a52ab8b8f44487b9a53600adb12b603",
       "version_major": 2,
       "version_minor": 0
      },
      "text/plain": [
       "Map:   0%|          | 0/1630 [00:00<?, ? examples/s]"
      ]
     },
     "metadata": {},
     "output_type": "display_data"
    },
    {
     "data": {
      "application/vnd.jupyter.widget-view+json": {
       "model_id": "976ad9be516849a7bb80d2617cb1063a",
       "version_major": 2,
       "version_minor": 0
      },
      "text/plain": [
       "Creating parquet from Arrow format:   0%|          | 0/17 [00:00<?, ?ba/s]"
      ]
     },
     "metadata": {},
     "output_type": "display_data"
    },
    {
     "data": {
      "application/vnd.jupyter.widget-view+json": {
       "model_id": "d22748c86bf44281b54a73176957b4c3",
       "version_major": 2,
       "version_minor": 0
      },
      "text/plain": [
       "README.md:   0%|          | 0.00/537 [00:00<?, ?B/s]"
      ]
     },
     "metadata": {},
     "output_type": "display_data"
    },
    {
     "data": {
      "text/plain": [
       "CommitInfo(commit_url='https://huggingface.co/datasets/mirluvams/popocatepetl/commit/d466d2607e8359062f08a0487bad8822360d8276', commit_message='Upload dataset', commit_description='', oid='d466d2607e8359062f08a0487bad8822360d8276', pr_url=None, pr_revision=None, pr_num=None)"
      ]
     },
     "execution_count": 26,
     "metadata": {},
     "output_type": "execute_result"
    }
   ],
   "source": [
    "dataset.push_to_hub(\"mirluvams/popocatepetl\", private=True)"
   ]
  },
  {
   "cell_type": "code",
   "execution_count": null,
   "id": "0e076669-fb3b-44f7-bb49-75a7e625db54",
   "metadata": {},
   "outputs": [],
   "source": []
  }
 ],
 "metadata": {
  "kernelspec": {
   "display_name": "Python 3 (ipykernel)",
   "language": "python",
   "name": "python3"
  },
  "language_info": {
   "codemirror_mode": {
    "name": "ipython",
    "version": 3
   },
   "file_extension": ".py",
   "mimetype": "text/x-python",
   "name": "python",
   "nbconvert_exporter": "python",
   "pygments_lexer": "ipython3",
   "version": "3.10.12"
  }
 },
 "nbformat": 4,
 "nbformat_minor": 5
}

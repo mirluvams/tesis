{
 "cells": [
  {
   "cell_type": "code",
   "execution_count": 1,
   "id": "7e0b944c-98e0-428f-8471-373da2a7fba5",
   "metadata": {},
   "outputs": [],
   "source": [
    "import sys\n",
    "import random\n",
    "import PySide6\n",
    "from PySide6 import QtCore, QtWidgets, QtGui\n",
    "from PySide6.QtWidgets import *\n",
    "from PySide6.QtCore import Qt\n",
    "from PySide6.QtGui import QPalette, QColor\n",
    "import numpy as np\n",
    "import pandas as pd\n"
   ]
  },
  {
   "cell_type": "code",
   "execution_count": 2,
   "id": "2ad46f3f-8091-4e3a-ac05-41e2af2b240a",
   "metadata": {},
   "outputs": [],
   "source": [
    "data=None\n",
    "\n",
    "try:\n",
    "    data=pd.read_feather(\"data/stage1_partial.feather\")\n",
    "except:\n",
    "    try:\n",
    "        print(\"Loading backup, main data corrupted.\")\n",
    "        data=pd.read_feather(\"data/stage1_partial.backup.feather\")\n",
    "    except:\n",
    "        print(\"Loading stage 0, main data & backup corrupted.\")\n",
    "        data=pd.read_feather(\"data/stage0.feather\")\n"
   ]
  },
  {
   "cell_type": "code",
   "execution_count": 3,
   "id": "bf081744-0871-4f13-8179-7185e89df86f",
   "metadata": {},
   "outputs": [
    {
     "data": {
      "text/plain": [
       "0.6740347920900058"
      ]
     },
     "execution_count": 3,
     "metadata": {},
     "output_type": "execute_result"
    }
   ],
   "source": [
    "(1-data[data[\"volcano_certainty\"]==-1].shape[0]/data.shape[0])*100"
   ]
  },
  {
   "cell_type": "code",
   "execution_count": 4,
   "id": "02db2483-fc41-435a-b7e7-2fab6ee60229",
   "metadata": {},
   "outputs": [
    {
     "data": {
      "text/html": [
       "<div>\n",
       "<style scoped>\n",
       "    .dataframe tbody tr th:only-of-type {\n",
       "        vertical-align: middle;\n",
       "    }\n",
       "\n",
       "    .dataframe tbody tr th {\n",
       "        vertical-align: top;\n",
       "    }\n",
       "\n",
       "    .dataframe thead th {\n",
       "        text-align: right;\n",
       "    }\n",
       "</style>\n",
       "<table border=\"1\" class=\"dataframe\">\n",
       "  <thead>\n",
       "    <tr style=\"text-align: right;\">\n",
       "      <th></th>\n",
       "      <th>path</th>\n",
       "      <th>volcano_certainty</th>\n",
       "      <th>day_night</th>\n",
       "      <th>has_fume</th>\n",
       "      <th>is_explosion</th>\n",
       "    </tr>\n",
       "  </thead>\n",
       "  <tbody>\n",
       "    <tr>\n",
       "      <th>136</th>\n",
       "      <td>images\\2000\\dic\\p1216001.jpg</td>\n",
       "      <td>-1</td>\n",
       "      <td>-1</td>\n",
       "      <td>-1</td>\n",
       "      <td>-1</td>\n",
       "    </tr>\n",
       "    <tr>\n",
       "      <th>137</th>\n",
       "      <td>images\\2000\\dic\\p1217001.jpg</td>\n",
       "      <td>-1</td>\n",
       "      <td>-1</td>\n",
       "      <td>-1</td>\n",
       "      <td>-1</td>\n",
       "    </tr>\n",
       "    <tr>\n",
       "      <th>138</th>\n",
       "      <td>images\\2000\\dic\\p1217002.jpg</td>\n",
       "      <td>-1</td>\n",
       "      <td>-1</td>\n",
       "      <td>-1</td>\n",
       "      <td>-1</td>\n",
       "    </tr>\n",
       "    <tr>\n",
       "      <th>139</th>\n",
       "      <td>images\\2000\\dic\\p1217005.jpg</td>\n",
       "      <td>-1</td>\n",
       "      <td>-1</td>\n",
       "      <td>-1</td>\n",
       "      <td>-1</td>\n",
       "    </tr>\n",
       "    <tr>\n",
       "      <th>140</th>\n",
       "      <td>images\\2000\\dic\\p1217006.jpg</td>\n",
       "      <td>-1</td>\n",
       "      <td>-1</td>\n",
       "      <td>-1</td>\n",
       "      <td>-1</td>\n",
       "    </tr>\n",
       "  </tbody>\n",
       "</table>\n",
       "</div>"
      ],
      "text/plain": [
       "                             path  volcano_certainty  day_night  has_fume  \\\n",
       "136  images\\2000\\dic\\p1216001.jpg                 -1         -1        -1   \n",
       "137  images\\2000\\dic\\p1217001.jpg                 -1         -1        -1   \n",
       "138  images\\2000\\dic\\p1217002.jpg                 -1         -1        -1   \n",
       "139  images\\2000\\dic\\p1217005.jpg                 -1         -1        -1   \n",
       "140  images\\2000\\dic\\p1217006.jpg                 -1         -1        -1   \n",
       "\n",
       "     is_explosion  \n",
       "136            -1  \n",
       "137            -1  \n",
       "138            -1  \n",
       "139            -1  \n",
       "140            -1  "
      ]
     },
     "execution_count": 4,
     "metadata": {},
     "output_type": "execute_result"
    }
   ],
   "source": [
    "data[data[\"volcano_certainty\"]==-1].head()"
   ]
  },
  {
   "cell_type": "code",
   "execution_count": 5,
   "id": "31f6203b-3ce1-4d9b-8254-6546044683f2",
   "metadata": {},
   "outputs": [],
   "source": [
    "def save(is_backup=False):\n",
    "    data.to_feather(f\"data/stage1_partial{'.backup' if is_backup else ''}.feather\")\n",
    "save(True)"
   ]
  },
  {
   "cell_type": "code",
   "execution_count": 6,
   "id": "79369f5c-765f-45ce-8692-18ce0c565d7a",
   "metadata": {},
   "outputs": [
    {
     "data": {
      "text/plain": [
       "Index([  136,   137,   138,   139,   140,   141,   142,   143,   144,   145,\n",
       "       ...\n",
       "       20167, 20168, 20169, 20170, 20171, 20172, 20173, 20174, 20175, 20176],\n",
       "      dtype='int64', length=20041)"
      ]
     },
     "execution_count": 6,
     "metadata": {},
     "output_type": "execute_result"
    }
   ],
   "source": [
    "data[data[\"volcano_certainty\"]==-1].index"
   ]
  },
  {
   "cell_type": "code",
   "execution_count": 7,
   "id": "0352b4fd-d98b-4582-be26-7fc04d60c2a5",
   "metadata": {},
   "outputs": [],
   "source": [
    "def get_next():\n",
    "    idx=data[data[\"volcano_certainty\"]==-1].index\n",
    "    if(idx.shape[0]==0):\n",
    "        return None, 0, None\n",
    "    return idx[0],idx.shape[0], data.iloc[idx[0]]"
   ]
  },
  {
   "cell_type": "code",
   "execution_count": 8,
   "id": "750a62ee-a426-43d8-8700-b990d13c20e1",
   "metadata": {},
   "outputs": [],
   "source": [
    "next_idx,remainder,row=get_next()"
   ]
  },
  {
   "cell_type": "code",
   "execution_count": 9,
   "id": "0fed5722-5a35-4b04-830d-3ad0ad5e438b",
   "metadata": {},
   "outputs": [],
   "source": [
    "def safe_update(idx, values):\n",
    "    save(True)\n",
    "    data.iloc[idx,1:]=values\n",
    "    save(False)"
   ]
  },
  {
   "cell_type": "code",
   "execution_count": 10,
   "id": "4ee91f47-b83e-491a-a6cb-95a6f5ef2d29",
   "metadata": {},
   "outputs": [],
   "source": [
    "keys = [\"volcano_certainty\", \"day_night\", \"has_fume\", \"is_explosion\"]\n",
    "labels = {\n",
    "    keys[0]:\"No volcán\",\n",
    "    keys[1]:\"Noche\",\n",
    "    keys[2]:\"Sin fumarola\",\n",
    "    keys[3]:\"No explotando\",\n",
    "}\n",
    "endLabels = {\n",
    "    keys[0]:\"Es volcán\",\n",
    "    keys[1]:\"Día\",\n",
    "    keys[2]:\"Tiene fumarola\",\n",
    "    keys[3]:\"Está explotando\",\n",
    "}"
   ]
  },
  {
   "cell_type": "code",
   "execution_count": 11,
   "id": "68eb7d5a-52a3-4ef5-b2f2-2334b1b20ee0",
   "metadata": {},
   "outputs": [],
   "source": [
    "window=None"
   ]
  },
  {
   "cell_type": "code",
   "execution_count": 12,
   "id": "1c18baa3-8f94-4c05-8da0-f82586c2294e",
   "metadata": {},
   "outputs": [],
   "source": [
    "class ImageDisplay(QWidget):\n",
    "\n",
    "    def loadpixmap(self, path):\n",
    "        self.pixmap=QtGui.QPixmap(path)#.scaledToHeight(self.geometry().width())\n",
    "        self.label.setPixmap(self.pixmap)\n",
    "        \n",
    "    def __init__(self, path = \"\"):\n",
    "        super().__init__()\n",
    "        label=QLabel()\n",
    "        label.setAlignment(Qt.Alignment.AlignCenter)\n",
    "        label.setScaledContents(True)\n",
    "        self.label=label\n",
    "        self.loadpixmap(path)\n",
    "        \n",
    "        self.layout=QGridLayout()\n",
    "        self.layout.addWidget(label, 0,0)\n",
    "        self.setLayout(self.layout)"
   ]
  },
  {
   "cell_type": "code",
   "execution_count": 27,
   "id": "9ac132db-bfad-40de-89f1-7d9344994157",
   "metadata": {},
   "outputs": [],
   "source": [
    "class DataLayout(QWidget):\n",
    "\n",
    "    @QtCore.Slot()\n",
    "    def value_changed(self):\n",
    "        self.values=[]\n",
    "        for slider in self.sliders:\n",
    "            self.values.append(slider.value())\n",
    "        \n",
    "    @QtCore.Slot()\n",
    "    def button_clicked(self):\n",
    "        global next_idx,remainder,row\n",
    "        safe_update(next_idx, self.values)\n",
    "        next_idx,remainder,row=get_next()\n",
    "        window.image.loadpixmap(row[\"path\"])\n",
    "        #for slider in self.sliders:\n",
    "        #    slider.setValue(0)\n",
    "        self.values=[]\n",
    "        for slider in self.sliders:\n",
    "            self.values.append(slider.value())\n",
    "        rem=data[data[\"volcano_certainty\"]==-1].shape[0]\n",
    "        self.progress.setText(f\"Remaining: {rem}\")\n",
    "        #window.close()\n",
    "        \n",
    "    \n",
    "    def __init__(self):\n",
    "        super().__init__()\n",
    "        self.setMinimumWidth(600)\n",
    "        self.setMaximumWidth(600)\n",
    "        layout=QGridLayout()\n",
    "\n",
    "        self.sliders=[]\n",
    "        self.values=[0 for k in keys]\n",
    "        rem=data[data[\"volcano_certainty\"]==-1].shape[0]\n",
    "        self.progress = QLabel(f\"Remaining: {rem}\")\n",
    "        self.progress.setMaximumHeight(50)\n",
    "        self.progress.setAlignment(Qt.Alignment.AlignCenter)\n",
    "        layout.addWidget(self.progress,0,0,1,4)\n",
    "        \n",
    "        for i,key in enumerate(keys):\n",
    "            slider=QSlider(Qt.Orientation.Horizontal)\n",
    "            slider.setMinimumHeight(50)\n",
    "            if(key==\"volcano_certainty\"):\n",
    "                slider.setSingleStep(10)\n",
    "                slider.setPageStep(10)\n",
    "            elif(key==\"day_night\"):\n",
    "                slider.setSingleStep(5)\n",
    "                slider.setPageStep(5)\n",
    "            else:\n",
    "                slider.setSingleStep(2)\n",
    "                slider.setPageStep(5)\n",
    "            slider.setMinimum(0)\n",
    "            slider.setMaximum(10)\n",
    "            slider.setTickPosition(QSlider.TicksBelow)\n",
    "            slider.setSizePolicy(QSizePolicy.MinimumExpanding,QSizePolicy.Fixed)\n",
    "            slider.valueChanged.connect(self.value_changed)\n",
    "            self.sliders.append(slider)\n",
    "            \n",
    "            label=QLabel(labels[key])\n",
    "            label.setMinimumHeight(50)\n",
    "            label.setAlignment(Qt.Alignment.AlignCenter)\n",
    "            \n",
    "            label2=QLabel(endLabels[key])\n",
    "            label2.setMinimumHeight(50)\n",
    "            label2.setAlignment(Qt.Alignment.AlignCenter)\n",
    "            \n",
    "            layout.addWidget(label, 1+i,0)\n",
    "            layout.addWidget(slider, 1+i,1,1,4)\n",
    "            layout.addWidget(label2, 1+i,5)\n",
    "\n",
    "        button=QPushButton(\"Siguiente\")\n",
    "        button.setMinimumHeight(50)\n",
    "        #button.setAlignment(Qt.Alignment.AlignCenter)\n",
    "        button.clicked.connect(self.button_clicked)\n",
    "        layout.addWidget(button,len(keys)+1,1, 1,4)\n",
    "        \n",
    "        #layout.addRow(label1,slider1)\n",
    "        #slider2=QSlider(Qt.Orientation.Horizontal)\n",
    "        #layout.addRow(\"TEST\",slider2)\n",
    "        self.setLayout(layout)"
   ]
  },
  {
   "cell_type": "code",
   "execution_count": 28,
   "id": "12a055a6-b474-4b17-9eeb-1095ef5b9b52",
   "metadata": {},
   "outputs": [],
   "source": [
    "\n",
    "class KeyPressFilter(QtCore.QObject):\n",
    "\n",
    "    def eventFilter(self, widget, event):\n",
    "        if event.type() == QtCore.QEvent.KeyPress:\n",
    "            key = event.keyCombination().key()\n",
    "            if key==Qt.Key.Key_Return:\n",
    "                window.data.button_clicked()\n",
    "        return False"
   ]
  },
  {
   "cell_type": "code",
   "execution_count": 29,
   "id": "f83fb461-e0e9-4bbf-8850-755b957ecca8",
   "metadata": {},
   "outputs": [],
   "source": [
    "class MainWindow(QMainWindow):\n",
    "\n",
    "    def __init__(self):\n",
    "        super(MainWindow, self).__init__()\n",
    "\n",
    "        self.setWindowTitle(\"Classifier\")\n",
    "\n",
    "        layout = QHBoxLayout()\n",
    "        left = ImageDisplay(row[\"path\"])\n",
    "        right= DataLayout()\n",
    "\n",
    "        self.data=right\n",
    "        self.image=left\n",
    "\n",
    "        layout.addWidget(left)\n",
    "        layout.addWidget(right)\n",
    "\n",
    "        widget = QWidget()\n",
    "        widget.setLayout(layout)\n",
    "        self.setCentralWidget(widget)\n",
    "        self.eventFilter = KeyPressFilter(parent=self)\n",
    "        self.installEventFilter(self.eventFilter)"
   ]
  },
  {
   "cell_type": "code",
   "execution_count": 30,
   "id": "8cd6ff97-a2a2-4ae0-8dcb-b276642adc47",
   "metadata": {},
   "outputs": [],
   "source": [
    "if __name__ == \"__main__\" and remainder>0:\n",
    "    if not QtWidgets.QApplication.instance():\n",
    "        app = QtWidgets.QApplication([])\n",
    "    else:\n",
    "        app = QtWidgets.QApplication.instance()\n",
    "    font=QtGui.QFont(\"Segoe UI\", 14)\n",
    "    app.setFont(font)\n",
    "    app.setStyle(QStyleFactory.create(\"windows\"))\n",
    "    window = MainWindow()\n",
    "    window.resize(1900,1000)\n",
    "    window.showMaximized()\n",
    "\n",
    "    app.exec()"
   ]
  },
  {
   "cell_type": "code",
   "execution_count": null,
   "id": "5af2f5a0-5957-4bd0-89f9-e15f92238d3f",
   "metadata": {},
   "outputs": [],
   "source": []
  },
  {
   "cell_type": "code",
   "execution_count": null,
   "id": "3f35ca90-0260-40cf-ada6-694b8f16fb4e",
   "metadata": {},
   "outputs": [],
   "source": []
  },
  {
   "cell_type": "code",
   "execution_count": null,
   "id": "62d41279-eae8-4730-acd8-d12060e87628",
   "metadata": {},
   "outputs": [],
   "source": []
  }
 ],
 "metadata": {
  "kernelspec": {
   "display_name": "Python 3 (ipykernel)",
   "language": "python",
   "name": "python3"
  },
  "language_info": {
   "codemirror_mode": {
    "name": "ipython",
    "version": 3
   },
   "file_extension": ".py",
   "mimetype": "text/x-python",
   "name": "python",
   "nbconvert_exporter": "python",
   "pygments_lexer": "ipython3",
   "version": "3.10.12"
  }
 },
 "nbformat": 4,
 "nbformat_minor": 5
}
